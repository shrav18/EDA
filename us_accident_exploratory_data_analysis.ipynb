{
  "cells": [
    {
      "cell_type": "markdown",
      "metadata": {
        "id": "view-in-github",
        "colab_type": "text"
      },
      "source": [
        "<a href=\"https://colab.research.google.com/github/shrav18/EDA/blob/main/us_accident_exploratory_data_analysis.ipynb\" target=\"_parent\"><img src=\"https://colab.research.google.com/assets/colab-badge.svg\" alt=\"Open In Colab\"/></a>"
      ]
    },
    {
      "cell_type": "code",
      "execution_count": null,
      "metadata": {
        "colab": {
          "base_uri": "https://localhost:8080/"
        },
        "id": "uGsd0cBv_1gX",
        "outputId": "2a9b94ca-6402-4d35-f643-0a3c7c086ecc"
      },
      "outputs": [
        {
          "output_type": "stream",
          "name": "stdout",
          "text": [
            "\u001b[?25l\r\u001b[K     |████▊                           | 10 kB 28.2 MB/s eta 0:00:01\r\u001b[K     |█████████▌                      | 20 kB 31.4 MB/s eta 0:00:01\r\u001b[K     |██████████████▎                 | 30 kB 14.9 MB/s eta 0:00:01\r\u001b[K     |███████████████████             | 40 kB 11.2 MB/s eta 0:00:01\r\u001b[K     |███████████████████████▉        | 51 kB 7.9 MB/s eta 0:00:01\r\u001b[K     |████████████████████████████▋   | 61 kB 8.4 MB/s eta 0:00:01\r\u001b[K     |████████████████████████████████| 68 kB 4.2 MB/s \n",
            "\u001b[?25h  Building wheel for uuid (setup.py) ... \u001b[?25l\u001b[?25hdone\n"
          ]
        }
      ],
      "source": [
        "# Jovian Commit Essentials\n",
        "# Please retain and execute this cell without modifying the contents for `jovian.commit` to work\n",
        "!pip install jovian --upgrade -q\n",
        "import jovian\n",
        "jovian.set_project('us-accident-exploratory-data-analysis')\n",
        "jovian.set_colab_id('1Ns9LjOUqSs72c8TVztS9oSYBGmVUdv_8')"
      ]
    },
    {
      "cell_type": "markdown",
      "metadata": {
        "id": "D9d5ndsx_1gg"
      },
      "source": [
        "# US-Accident-Exploratory-Data-Analysis\n",
        "\n",
        "Use the \"Run\" button to execute the code."
      ]
    },
    {
      "cell_type": "markdown",
      "source": [
        "#TODO\n",
        "- Talking about the EDA \n",
        "- Dataset(Source,What it contains, How it is useful)\n",
        "- Kaggle\n",
        "- Contains about the accidents records of 4 years in US \n",
        "- Can be useful to prevent accidents\n",
        "- This data contains of about 47 states in US out of 52 states"
      ],
      "metadata": {
        "id": "I2VzelveAMq9"
      }
    },
    {
      "cell_type": "code",
      "execution_count": null,
      "metadata": {
        "id": "OeCzu7KK_1gi",
        "colab": {
          "base_uri": "https://localhost:8080/"
        },
        "outputId": "e9084d89-867e-4e26-a8d7-8e199534b031"
      },
      "outputs": [
        {
          "output_type": "stream",
          "name": "stdout",
          "text": [
            "\u001b[?25l\r\u001b[K     |████▊                           | 10 kB 18.3 MB/s eta 0:00:01\r\u001b[K     |█████████▌                      | 20 kB 10.7 MB/s eta 0:00:01\r\u001b[K     |██████████████▎                 | 30 kB 6.6 MB/s eta 0:00:01\r\u001b[K     |███████████████████             | 40 kB 6.3 MB/s eta 0:00:01\r\u001b[K     |███████████████████████▉        | 51 kB 3.5 MB/s eta 0:00:01\r\u001b[K     |████████████████████████████▋   | 61 kB 4.1 MB/s eta 0:00:01\r\u001b[K     |████████████████████████████████| 68 kB 1.8 MB/s \n",
            "\u001b[?25h  Building wheel for uuid (setup.py) ... \u001b[?25l\u001b[?25hdone\n"
          ]
        }
      ],
      "source": [
        "!pip install jovian --upgrade --quiet"
      ]
    },
    {
      "cell_type": "code",
      "execution_count": null,
      "metadata": {
        "id": "o-gD_VSR_1gk"
      },
      "outputs": [],
      "source": [
        "import jovian"
      ]
    },
    {
      "cell_type": "code",
      "execution_count": null,
      "metadata": {
        "id": "s35hWKMF_1gk"
      },
      "outputs": [],
      "source": [
        "# Execute this to save new versions of the notebook\n",
        "jovian.commit(project=\"us-accident-exploratory-data-analysis\")"
      ]
    },
    {
      "cell_type": "code",
      "execution_count": null,
      "metadata": {
        "id": "oc6v3owC_1gl"
      },
      "outputs": [],
      "source": [
        ""
      ]
    },
    {
      "cell_type": "markdown",
      "source": [
        "# Data download"
      ],
      "metadata": {
        "id": "n6Xd5fwVBEPM"
      }
    },
    {
      "cell_type": "code",
      "source": [
        "pip install opendatasets --upgrade --quiet"
      ],
      "metadata": {
        "id": "Oh1zij8yAC_3"
      },
      "execution_count": null,
      "outputs": []
    },
    {
      "cell_type": "code",
      "source": [
        "import opendatasets as od\n",
        "download_url='https://www.kaggle.com/sobhanmoosavi/us-accidents'\n",
        "od.download(download_url)"
      ],
      "metadata": {
        "colab": {
          "base_uri": "https://localhost:8080/"
        },
        "id": "v-vKbPcCAC9E",
        "outputId": "d39c7cb8-94be-47ff-ad79-8396457fe30b"
      },
      "execution_count": null,
      "outputs": [
        {
          "output_type": "stream",
          "name": "stdout",
          "text": [
            "Please provide your Kaggle credentials to download this dataset. Learn more: http://bit.ly/kaggle-creds\n",
            "Your Kaggle username: sravann\n",
            "Your Kaggle Key: ··········\n",
            "Downloading us-accidents.zip to ./us-accidents\n"
          ]
        },
        {
          "output_type": "stream",
          "name": "stderr",
          "text": [
            "100%|██████████| 117M/117M [00:01<00:00, 62.9MB/s] \n"
          ]
        },
        {
          "output_type": "stream",
          "name": "stdout",
          "text": [
            "\n"
          ]
        }
      ]
    },
    {
      "cell_type": "code",
      "source": [
        "data_filename='/content/us-accidents/US_Accidents_Dec20_updated.csv'"
      ],
      "metadata": {
        "id": "uUBYmB_aAC6g"
      },
      "execution_count": null,
      "outputs": []
    },
    {
      "cell_type": "markdown",
      "source": [
        "# Performing data preparation and cleaning\n",
        "1. Load the files using pandas module\n",
        "2. Look at some information at the rows and the columns\n",
        "3. Fix any incorrect or missing values"
      ],
      "metadata": {
        "id": "JMv4ccczB0SJ"
      }
    },
    {
      "cell_type": "code",
      "source": [
        "import pandas as pd"
      ],
      "metadata": {
        "id": "G8wb0CbJCIZ6"
      },
      "execution_count": null,
      "outputs": []
    },
    {
      "cell_type": "code",
      "source": [
        "df=pd.read_csv('/content/us-accidents/US_Accidents_Dec20_updated.csv')\n",
        "df"
      ],
      "metadata": {
        "colab": {
          "base_uri": "https://localhost:8080/",
          "height": 939
        },
        "id": "2jr-uZP6ACze",
        "outputId": "a4aa0c81-b676-4ad6-af3b-7ab6f18c08e1"
      },
      "execution_count": null,
      "outputs": [
        {
          "output_type": "execute_result",
          "data": {
            "text/html": [
              "\n",
              "  <div id=\"df-a6d1fa0f-9994-45d2-a28e-8bd4a437785c\">\n",
              "    <div class=\"colab-df-container\">\n",
              "      <div>\n",
              "<style scoped>\n",
              "    .dataframe tbody tr th:only-of-type {\n",
              "        vertical-align: middle;\n",
              "    }\n",
              "\n",
              "    .dataframe tbody tr th {\n",
              "        vertical-align: top;\n",
              "    }\n",
              "\n",
              "    .dataframe thead th {\n",
              "        text-align: right;\n",
              "    }\n",
              "</style>\n",
              "<table border=\"1\" class=\"dataframe\">\n",
              "  <thead>\n",
              "    <tr style=\"text-align: right;\">\n",
              "      <th></th>\n",
              "      <th>ID</th>\n",
              "      <th>Severity</th>\n",
              "      <th>Start_Time</th>\n",
              "      <th>End_Time</th>\n",
              "      <th>Start_Lat</th>\n",
              "      <th>Start_Lng</th>\n",
              "      <th>End_Lat</th>\n",
              "      <th>End_Lng</th>\n",
              "      <th>Distance(mi)</th>\n",
              "      <th>Description</th>\n",
              "      <th>Number</th>\n",
              "      <th>Street</th>\n",
              "      <th>Side</th>\n",
              "      <th>City</th>\n",
              "      <th>County</th>\n",
              "      <th>State</th>\n",
              "      <th>Zipcode</th>\n",
              "      <th>Country</th>\n",
              "      <th>Timezone</th>\n",
              "      <th>Airport_Code</th>\n",
              "      <th>Weather_Timestamp</th>\n",
              "      <th>Temperature(F)</th>\n",
              "      <th>Wind_Chill(F)</th>\n",
              "      <th>Humidity(%)</th>\n",
              "      <th>Pressure(in)</th>\n",
              "      <th>Visibility(mi)</th>\n",
              "      <th>Wind_Direction</th>\n",
              "      <th>Wind_Speed(mph)</th>\n",
              "      <th>Precipitation(in)</th>\n",
              "      <th>Weather_Condition</th>\n",
              "      <th>Amenity</th>\n",
              "      <th>Bump</th>\n",
              "      <th>Crossing</th>\n",
              "      <th>Give_Way</th>\n",
              "      <th>Junction</th>\n",
              "      <th>No_Exit</th>\n",
              "      <th>Railway</th>\n",
              "      <th>Roundabout</th>\n",
              "      <th>Station</th>\n",
              "      <th>Stop</th>\n",
              "      <th>Traffic_Calming</th>\n",
              "      <th>Traffic_Signal</th>\n",
              "      <th>Turning_Loop</th>\n",
              "      <th>Sunrise_Sunset</th>\n",
              "      <th>Civil_Twilight</th>\n",
              "      <th>Nautical_Twilight</th>\n",
              "      <th>Astronomical_Twilight</th>\n",
              "    </tr>\n",
              "  </thead>\n",
              "  <tbody>\n",
              "    <tr>\n",
              "      <th>0</th>\n",
              "      <td>A-2716600</td>\n",
              "      <td>3</td>\n",
              "      <td>2016-02-08 00:37:08</td>\n",
              "      <td>2016-02-08 06:37:08</td>\n",
              "      <td>40.10891</td>\n",
              "      <td>-83.09286</td>\n",
              "      <td>40.11206</td>\n",
              "      <td>-83.03187</td>\n",
              "      <td>3.230</td>\n",
              "      <td>Between Sawmill Rd/Exit 20 and OH-315/Olentang...</td>\n",
              "      <td>NaN</td>\n",
              "      <td>Outerbelt E</td>\n",
              "      <td>R</td>\n",
              "      <td>Dublin</td>\n",
              "      <td>Franklin</td>\n",
              "      <td>OH</td>\n",
              "      <td>43017</td>\n",
              "      <td>US</td>\n",
              "      <td>US/Eastern</td>\n",
              "      <td>KOSU</td>\n",
              "      <td>2016-02-08 00:53:00</td>\n",
              "      <td>42.1</td>\n",
              "      <td>36.1</td>\n",
              "      <td>58.0</td>\n",
              "      <td>29.76</td>\n",
              "      <td>10.0</td>\n",
              "      <td>SW</td>\n",
              "      <td>10.4</td>\n",
              "      <td>0.00</td>\n",
              "      <td>Light Rain</td>\n",
              "      <td>False</td>\n",
              "      <td>False</td>\n",
              "      <td>False</td>\n",
              "      <td>False</td>\n",
              "      <td>False</td>\n",
              "      <td>False</td>\n",
              "      <td>False</td>\n",
              "      <td>False</td>\n",
              "      <td>False</td>\n",
              "      <td>False</td>\n",
              "      <td>False</td>\n",
              "      <td>False</td>\n",
              "      <td>False</td>\n",
              "      <td>Night</td>\n",
              "      <td>Night</td>\n",
              "      <td>Night</td>\n",
              "      <td>Night</td>\n",
              "    </tr>\n",
              "    <tr>\n",
              "      <th>1</th>\n",
              "      <td>A-2716601</td>\n",
              "      <td>2</td>\n",
              "      <td>2016-02-08 05:56:20</td>\n",
              "      <td>2016-02-08 11:56:20</td>\n",
              "      <td>39.86542</td>\n",
              "      <td>-84.06280</td>\n",
              "      <td>39.86501</td>\n",
              "      <td>-84.04873</td>\n",
              "      <td>0.747</td>\n",
              "      <td>At OH-4/OH-235/Exit 41 - Accident.</td>\n",
              "      <td>NaN</td>\n",
              "      <td>I-70 E</td>\n",
              "      <td>R</td>\n",
              "      <td>Dayton</td>\n",
              "      <td>Montgomery</td>\n",
              "      <td>OH</td>\n",
              "      <td>45424</td>\n",
              "      <td>US</td>\n",
              "      <td>US/Eastern</td>\n",
              "      <td>KFFO</td>\n",
              "      <td>2016-02-08 05:58:00</td>\n",
              "      <td>36.9</td>\n",
              "      <td>NaN</td>\n",
              "      <td>91.0</td>\n",
              "      <td>29.68</td>\n",
              "      <td>10.0</td>\n",
              "      <td>Calm</td>\n",
              "      <td>NaN</td>\n",
              "      <td>0.02</td>\n",
              "      <td>Light Rain</td>\n",
              "      <td>False</td>\n",
              "      <td>False</td>\n",
              "      <td>False</td>\n",
              "      <td>False</td>\n",
              "      <td>False</td>\n",
              "      <td>False</td>\n",
              "      <td>False</td>\n",
              "      <td>False</td>\n",
              "      <td>False</td>\n",
              "      <td>False</td>\n",
              "      <td>False</td>\n",
              "      <td>False</td>\n",
              "      <td>False</td>\n",
              "      <td>Night</td>\n",
              "      <td>Night</td>\n",
              "      <td>Night</td>\n",
              "      <td>Night</td>\n",
              "    </tr>\n",
              "    <tr>\n",
              "      <th>2</th>\n",
              "      <td>A-2716602</td>\n",
              "      <td>2</td>\n",
              "      <td>2016-02-08 06:15:39</td>\n",
              "      <td>2016-02-08 12:15:39</td>\n",
              "      <td>39.10266</td>\n",
              "      <td>-84.52468</td>\n",
              "      <td>39.10209</td>\n",
              "      <td>-84.52396</td>\n",
              "      <td>0.055</td>\n",
              "      <td>At I-71/US-50/Exit 1 - Accident.</td>\n",
              "      <td>NaN</td>\n",
              "      <td>I-75 S</td>\n",
              "      <td>R</td>\n",
              "      <td>Cincinnati</td>\n",
              "      <td>Hamilton</td>\n",
              "      <td>OH</td>\n",
              "      <td>45203</td>\n",
              "      <td>US</td>\n",
              "      <td>US/Eastern</td>\n",
              "      <td>KLUK</td>\n",
              "      <td>2016-02-08 05:53:00</td>\n",
              "      <td>36.0</td>\n",
              "      <td>NaN</td>\n",
              "      <td>97.0</td>\n",
              "      <td>29.70</td>\n",
              "      <td>10.0</td>\n",
              "      <td>Calm</td>\n",
              "      <td>NaN</td>\n",
              "      <td>0.02</td>\n",
              "      <td>Overcast</td>\n",
              "      <td>False</td>\n",
              "      <td>False</td>\n",
              "      <td>False</td>\n",
              "      <td>False</td>\n",
              "      <td>True</td>\n",
              "      <td>False</td>\n",
              "      <td>False</td>\n",
              "      <td>False</td>\n",
              "      <td>False</td>\n",
              "      <td>False</td>\n",
              "      <td>False</td>\n",
              "      <td>False</td>\n",
              "      <td>False</td>\n",
              "      <td>Night</td>\n",
              "      <td>Night</td>\n",
              "      <td>Night</td>\n",
              "      <td>Day</td>\n",
              "    </tr>\n",
              "    <tr>\n",
              "      <th>3</th>\n",
              "      <td>A-2716603</td>\n",
              "      <td>2</td>\n",
              "      <td>2016-02-08 06:15:39</td>\n",
              "      <td>2016-02-08 12:15:39</td>\n",
              "      <td>39.10148</td>\n",
              "      <td>-84.52341</td>\n",
              "      <td>39.09841</td>\n",
              "      <td>-84.52241</td>\n",
              "      <td>0.219</td>\n",
              "      <td>At I-71/US-50/Exit 1 - Accident.</td>\n",
              "      <td>NaN</td>\n",
              "      <td>US-50 E</td>\n",
              "      <td>R</td>\n",
              "      <td>Cincinnati</td>\n",
              "      <td>Hamilton</td>\n",
              "      <td>OH</td>\n",
              "      <td>45202</td>\n",
              "      <td>US</td>\n",
              "      <td>US/Eastern</td>\n",
              "      <td>KLUK</td>\n",
              "      <td>2016-02-08 05:53:00</td>\n",
              "      <td>36.0</td>\n",
              "      <td>NaN</td>\n",
              "      <td>97.0</td>\n",
              "      <td>29.70</td>\n",
              "      <td>10.0</td>\n",
              "      <td>Calm</td>\n",
              "      <td>NaN</td>\n",
              "      <td>0.02</td>\n",
              "      <td>Overcast</td>\n",
              "      <td>False</td>\n",
              "      <td>False</td>\n",
              "      <td>False</td>\n",
              "      <td>False</td>\n",
              "      <td>True</td>\n",
              "      <td>False</td>\n",
              "      <td>False</td>\n",
              "      <td>False</td>\n",
              "      <td>False</td>\n",
              "      <td>False</td>\n",
              "      <td>False</td>\n",
              "      <td>False</td>\n",
              "      <td>False</td>\n",
              "      <td>Night</td>\n",
              "      <td>Night</td>\n",
              "      <td>Night</td>\n",
              "      <td>Day</td>\n",
              "    </tr>\n",
              "    <tr>\n",
              "      <th>4</th>\n",
              "      <td>A-2716604</td>\n",
              "      <td>2</td>\n",
              "      <td>2016-02-08 06:51:45</td>\n",
              "      <td>2016-02-08 12:51:45</td>\n",
              "      <td>41.06213</td>\n",
              "      <td>-81.53784</td>\n",
              "      <td>41.06217</td>\n",
              "      <td>-81.53547</td>\n",
              "      <td>0.123</td>\n",
              "      <td>At Dart Ave/Exit 21 - Accident.</td>\n",
              "      <td>NaN</td>\n",
              "      <td>I-77 N</td>\n",
              "      <td>R</td>\n",
              "      <td>Akron</td>\n",
              "      <td>Summit</td>\n",
              "      <td>OH</td>\n",
              "      <td>44311</td>\n",
              "      <td>US</td>\n",
              "      <td>US/Eastern</td>\n",
              "      <td>KAKR</td>\n",
              "      <td>2016-02-08 06:54:00</td>\n",
              "      <td>39.0</td>\n",
              "      <td>NaN</td>\n",
              "      <td>55.0</td>\n",
              "      <td>29.65</td>\n",
              "      <td>10.0</td>\n",
              "      <td>Calm</td>\n",
              "      <td>NaN</td>\n",
              "      <td>NaN</td>\n",
              "      <td>Overcast</td>\n",
              "      <td>False</td>\n",
              "      <td>False</td>\n",
              "      <td>False</td>\n",
              "      <td>False</td>\n",
              "      <td>False</td>\n",
              "      <td>False</td>\n",
              "      <td>False</td>\n",
              "      <td>False</td>\n",
              "      <td>False</td>\n",
              "      <td>False</td>\n",
              "      <td>False</td>\n",
              "      <td>False</td>\n",
              "      <td>False</td>\n",
              "      <td>Night</td>\n",
              "      <td>Night</td>\n",
              "      <td>Day</td>\n",
              "      <td>Day</td>\n",
              "    </tr>\n",
              "    <tr>\n",
              "      <th>...</th>\n",
              "      <td>...</td>\n",
              "      <td>...</td>\n",
              "      <td>...</td>\n",
              "      <td>...</td>\n",
              "      <td>...</td>\n",
              "      <td>...</td>\n",
              "      <td>...</td>\n",
              "      <td>...</td>\n",
              "      <td>...</td>\n",
              "      <td>...</td>\n",
              "      <td>...</td>\n",
              "      <td>...</td>\n",
              "      <td>...</td>\n",
              "      <td>...</td>\n",
              "      <td>...</td>\n",
              "      <td>...</td>\n",
              "      <td>...</td>\n",
              "      <td>...</td>\n",
              "      <td>...</td>\n",
              "      <td>...</td>\n",
              "      <td>...</td>\n",
              "      <td>...</td>\n",
              "      <td>...</td>\n",
              "      <td>...</td>\n",
              "      <td>...</td>\n",
              "      <td>...</td>\n",
              "      <td>...</td>\n",
              "      <td>...</td>\n",
              "      <td>...</td>\n",
              "      <td>...</td>\n",
              "      <td>...</td>\n",
              "      <td>...</td>\n",
              "      <td>...</td>\n",
              "      <td>...</td>\n",
              "      <td>...</td>\n",
              "      <td>...</td>\n",
              "      <td>...</td>\n",
              "      <td>...</td>\n",
              "      <td>...</td>\n",
              "      <td>...</td>\n",
              "      <td>...</td>\n",
              "      <td>...</td>\n",
              "      <td>...</td>\n",
              "      <td>...</td>\n",
              "      <td>...</td>\n",
              "      <td>...</td>\n",
              "      <td>...</td>\n",
              "    </tr>\n",
              "    <tr>\n",
              "      <th>1516059</th>\n",
              "      <td>A-4239402</td>\n",
              "      <td>2</td>\n",
              "      <td>2019-08-23 18:03:25</td>\n",
              "      <td>2019-08-23 18:32:01</td>\n",
              "      <td>34.00248</td>\n",
              "      <td>-117.37936</td>\n",
              "      <td>33.99888</td>\n",
              "      <td>-117.37094</td>\n",
              "      <td>0.543</td>\n",
              "      <td>At Market St - Accident.</td>\n",
              "      <td>NaN</td>\n",
              "      <td>Pomona Fwy E</td>\n",
              "      <td>R</td>\n",
              "      <td>Riverside</td>\n",
              "      <td>Riverside</td>\n",
              "      <td>CA</td>\n",
              "      <td>92501</td>\n",
              "      <td>US</td>\n",
              "      <td>US/Pacific</td>\n",
              "      <td>KRAL</td>\n",
              "      <td>2019-08-23 17:53:00</td>\n",
              "      <td>86.0</td>\n",
              "      <td>86.0</td>\n",
              "      <td>40.0</td>\n",
              "      <td>28.92</td>\n",
              "      <td>10.0</td>\n",
              "      <td>W</td>\n",
              "      <td>13.0</td>\n",
              "      <td>0.00</td>\n",
              "      <td>Fair</td>\n",
              "      <td>False</td>\n",
              "      <td>False</td>\n",
              "      <td>False</td>\n",
              "      <td>False</td>\n",
              "      <td>False</td>\n",
              "      <td>False</td>\n",
              "      <td>False</td>\n",
              "      <td>False</td>\n",
              "      <td>False</td>\n",
              "      <td>False</td>\n",
              "      <td>False</td>\n",
              "      <td>False</td>\n",
              "      <td>False</td>\n",
              "      <td>Day</td>\n",
              "      <td>Day</td>\n",
              "      <td>Day</td>\n",
              "      <td>Day</td>\n",
              "    </tr>\n",
              "    <tr>\n",
              "      <th>1516060</th>\n",
              "      <td>A-4239403</td>\n",
              "      <td>2</td>\n",
              "      <td>2019-08-23 19:11:30</td>\n",
              "      <td>2019-08-23 19:38:23</td>\n",
              "      <td>32.76696</td>\n",
              "      <td>-117.14806</td>\n",
              "      <td>32.76555</td>\n",
              "      <td>-117.15363</td>\n",
              "      <td>0.338</td>\n",
              "      <td>At Camino Del Rio/Mission Center Rd - Accident.</td>\n",
              "      <td>NaN</td>\n",
              "      <td>I-8 W</td>\n",
              "      <td>R</td>\n",
              "      <td>San Diego</td>\n",
              "      <td>San Diego</td>\n",
              "      <td>CA</td>\n",
              "      <td>92108</td>\n",
              "      <td>US</td>\n",
              "      <td>US/Pacific</td>\n",
              "      <td>KMYF</td>\n",
              "      <td>2019-08-23 18:53:00</td>\n",
              "      <td>70.0</td>\n",
              "      <td>70.0</td>\n",
              "      <td>73.0</td>\n",
              "      <td>29.39</td>\n",
              "      <td>10.0</td>\n",
              "      <td>SW</td>\n",
              "      <td>6.0</td>\n",
              "      <td>0.00</td>\n",
              "      <td>Fair</td>\n",
              "      <td>False</td>\n",
              "      <td>False</td>\n",
              "      <td>False</td>\n",
              "      <td>False</td>\n",
              "      <td>False</td>\n",
              "      <td>False</td>\n",
              "      <td>False</td>\n",
              "      <td>False</td>\n",
              "      <td>False</td>\n",
              "      <td>False</td>\n",
              "      <td>False</td>\n",
              "      <td>False</td>\n",
              "      <td>False</td>\n",
              "      <td>Day</td>\n",
              "      <td>Day</td>\n",
              "      <td>Day</td>\n",
              "      <td>Day</td>\n",
              "    </tr>\n",
              "    <tr>\n",
              "      <th>1516061</th>\n",
              "      <td>A-4239404</td>\n",
              "      <td>2</td>\n",
              "      <td>2019-08-23 19:00:21</td>\n",
              "      <td>2019-08-23 19:28:49</td>\n",
              "      <td>33.77545</td>\n",
              "      <td>-117.84779</td>\n",
              "      <td>33.77740</td>\n",
              "      <td>-117.85727</td>\n",
              "      <td>0.561</td>\n",
              "      <td>At Glassell St/Grand Ave - Accident. in the ri...</td>\n",
              "      <td>NaN</td>\n",
              "      <td>Garden Grove Fwy</td>\n",
              "      <td>R</td>\n",
              "      <td>Orange</td>\n",
              "      <td>Orange</td>\n",
              "      <td>CA</td>\n",
              "      <td>92866</td>\n",
              "      <td>US</td>\n",
              "      <td>US/Pacific</td>\n",
              "      <td>KSNA</td>\n",
              "      <td>2019-08-23 18:53:00</td>\n",
              "      <td>73.0</td>\n",
              "      <td>73.0</td>\n",
              "      <td>64.0</td>\n",
              "      <td>29.74</td>\n",
              "      <td>10.0</td>\n",
              "      <td>SSW</td>\n",
              "      <td>10.0</td>\n",
              "      <td>0.00</td>\n",
              "      <td>Partly Cloudy</td>\n",
              "      <td>False</td>\n",
              "      <td>False</td>\n",
              "      <td>False</td>\n",
              "      <td>False</td>\n",
              "      <td>True</td>\n",
              "      <td>False</td>\n",
              "      <td>False</td>\n",
              "      <td>False</td>\n",
              "      <td>False</td>\n",
              "      <td>False</td>\n",
              "      <td>False</td>\n",
              "      <td>False</td>\n",
              "      <td>False</td>\n",
              "      <td>Day</td>\n",
              "      <td>Day</td>\n",
              "      <td>Day</td>\n",
              "      <td>Day</td>\n",
              "    </tr>\n",
              "    <tr>\n",
              "      <th>1516062</th>\n",
              "      <td>A-4239405</td>\n",
              "      <td>2</td>\n",
              "      <td>2019-08-23 19:00:21</td>\n",
              "      <td>2019-08-23 19:29:42</td>\n",
              "      <td>33.99246</td>\n",
              "      <td>-118.40302</td>\n",
              "      <td>33.98311</td>\n",
              "      <td>-118.39565</td>\n",
              "      <td>0.772</td>\n",
              "      <td>At CA-90/Marina Fwy/Jefferson Blvd - Accident.</td>\n",
              "      <td>NaN</td>\n",
              "      <td>San Diego Fwy S</td>\n",
              "      <td>R</td>\n",
              "      <td>Culver City</td>\n",
              "      <td>Los Angeles</td>\n",
              "      <td>CA</td>\n",
              "      <td>90230</td>\n",
              "      <td>US</td>\n",
              "      <td>US/Pacific</td>\n",
              "      <td>KSMO</td>\n",
              "      <td>2019-08-23 18:51:00</td>\n",
              "      <td>71.0</td>\n",
              "      <td>71.0</td>\n",
              "      <td>81.0</td>\n",
              "      <td>29.62</td>\n",
              "      <td>10.0</td>\n",
              "      <td>SW</td>\n",
              "      <td>8.0</td>\n",
              "      <td>0.00</td>\n",
              "      <td>Fair</td>\n",
              "      <td>False</td>\n",
              "      <td>False</td>\n",
              "      <td>False</td>\n",
              "      <td>False</td>\n",
              "      <td>False</td>\n",
              "      <td>False</td>\n",
              "      <td>False</td>\n",
              "      <td>False</td>\n",
              "      <td>False</td>\n",
              "      <td>False</td>\n",
              "      <td>False</td>\n",
              "      <td>False</td>\n",
              "      <td>False</td>\n",
              "      <td>Day</td>\n",
              "      <td>Day</td>\n",
              "      <td>Day</td>\n",
              "      <td>Day</td>\n",
              "    </tr>\n",
              "    <tr>\n",
              "      <th>1516063</th>\n",
              "      <td>A-4239406</td>\n",
              "      <td>2</td>\n",
              "      <td>2019-08-23 18:52:06</td>\n",
              "      <td>2019-08-23 19:21:31</td>\n",
              "      <td>34.13393</td>\n",
              "      <td>-117.23092</td>\n",
              "      <td>34.13736</td>\n",
              "      <td>-117.23934</td>\n",
              "      <td>0.537</td>\n",
              "      <td>At Highland Ave/Arden Ave - Accident.</td>\n",
              "      <td>NaN</td>\n",
              "      <td>CA-210 W</td>\n",
              "      <td>R</td>\n",
              "      <td>Highland</td>\n",
              "      <td>San Bernardino</td>\n",
              "      <td>CA</td>\n",
              "      <td>92346</td>\n",
              "      <td>US</td>\n",
              "      <td>US/Pacific</td>\n",
              "      <td>KSBD</td>\n",
              "      <td>2019-08-23 20:50:00</td>\n",
              "      <td>79.0</td>\n",
              "      <td>79.0</td>\n",
              "      <td>47.0</td>\n",
              "      <td>28.63</td>\n",
              "      <td>7.0</td>\n",
              "      <td>SW</td>\n",
              "      <td>7.0</td>\n",
              "      <td>0.00</td>\n",
              "      <td>Fair</td>\n",
              "      <td>False</td>\n",
              "      <td>False</td>\n",
              "      <td>False</td>\n",
              "      <td>False</td>\n",
              "      <td>False</td>\n",
              "      <td>False</td>\n",
              "      <td>False</td>\n",
              "      <td>False</td>\n",
              "      <td>False</td>\n",
              "      <td>False</td>\n",
              "      <td>False</td>\n",
              "      <td>False</td>\n",
              "      <td>False</td>\n",
              "      <td>Day</td>\n",
              "      <td>Day</td>\n",
              "      <td>Day</td>\n",
              "      <td>Day</td>\n",
              "    </tr>\n",
              "  </tbody>\n",
              "</table>\n",
              "<p>1516064 rows × 47 columns</p>\n",
              "</div>\n",
              "      <button class=\"colab-df-convert\" onclick=\"convertToInteractive('df-a6d1fa0f-9994-45d2-a28e-8bd4a437785c')\"\n",
              "              title=\"Convert this dataframe to an interactive table.\"\n",
              "              style=\"display:none;\">\n",
              "        \n",
              "  <svg xmlns=\"http://www.w3.org/2000/svg\" height=\"24px\"viewBox=\"0 0 24 24\"\n",
              "       width=\"24px\">\n",
              "    <path d=\"M0 0h24v24H0V0z\" fill=\"none\"/>\n",
              "    <path d=\"M18.56 5.44l.94 2.06.94-2.06 2.06-.94-2.06-.94-.94-2.06-.94 2.06-2.06.94zm-11 1L8.5 8.5l.94-2.06 2.06-.94-2.06-.94L8.5 2.5l-.94 2.06-2.06.94zm10 10l.94 2.06.94-2.06 2.06-.94-2.06-.94-.94-2.06-.94 2.06-2.06.94z\"/><path d=\"M17.41 7.96l-1.37-1.37c-.4-.4-.92-.59-1.43-.59-.52 0-1.04.2-1.43.59L10.3 9.45l-7.72 7.72c-.78.78-.78 2.05 0 2.83L4 21.41c.39.39.9.59 1.41.59.51 0 1.02-.2 1.41-.59l7.78-7.78 2.81-2.81c.8-.78.8-2.07 0-2.86zM5.41 20L4 18.59l7.72-7.72 1.47 1.35L5.41 20z\"/>\n",
              "  </svg>\n",
              "      </button>\n",
              "      \n",
              "  <style>\n",
              "    .colab-df-container {\n",
              "      display:flex;\n",
              "      flex-wrap:wrap;\n",
              "      gap: 12px;\n",
              "    }\n",
              "\n",
              "    .colab-df-convert {\n",
              "      background-color: #E8F0FE;\n",
              "      border: none;\n",
              "      border-radius: 50%;\n",
              "      cursor: pointer;\n",
              "      display: none;\n",
              "      fill: #1967D2;\n",
              "      height: 32px;\n",
              "      padding: 0 0 0 0;\n",
              "      width: 32px;\n",
              "    }\n",
              "\n",
              "    .colab-df-convert:hover {\n",
              "      background-color: #E2EBFA;\n",
              "      box-shadow: 0px 1px 2px rgba(60, 64, 67, 0.3), 0px 1px 3px 1px rgba(60, 64, 67, 0.15);\n",
              "      fill: #174EA6;\n",
              "    }\n",
              "\n",
              "    [theme=dark] .colab-df-convert {\n",
              "      background-color: #3B4455;\n",
              "      fill: #D2E3FC;\n",
              "    }\n",
              "\n",
              "    [theme=dark] .colab-df-convert:hover {\n",
              "      background-color: #434B5C;\n",
              "      box-shadow: 0px 1px 3px 1px rgba(0, 0, 0, 0.15);\n",
              "      filter: drop-shadow(0px 1px 2px rgba(0, 0, 0, 0.3));\n",
              "      fill: #FFFFFF;\n",
              "    }\n",
              "  </style>\n",
              "\n",
              "      <script>\n",
              "        const buttonEl =\n",
              "          document.querySelector('#df-a6d1fa0f-9994-45d2-a28e-8bd4a437785c button.colab-df-convert');\n",
              "        buttonEl.style.display =\n",
              "          google.colab.kernel.accessAllowed ? 'block' : 'none';\n",
              "\n",
              "        async function convertToInteractive(key) {\n",
              "          const element = document.querySelector('#df-a6d1fa0f-9994-45d2-a28e-8bd4a437785c');\n",
              "          const dataTable =\n",
              "            await google.colab.kernel.invokeFunction('convertToInteractive',\n",
              "                                                     [key], {});\n",
              "          if (!dataTable) return;\n",
              "\n",
              "          const docLinkHtml = 'Like what you see? Visit the ' +\n",
              "            '<a target=\"_blank\" href=https://colab.research.google.com/notebooks/data_table.ipynb>data table notebook</a>'\n",
              "            + ' to learn more about interactive tables.';\n",
              "          element.innerHTML = '';\n",
              "          dataTable['output_type'] = 'display_data';\n",
              "          await google.colab.output.renderOutput(dataTable, element);\n",
              "          const docLink = document.createElement('div');\n",
              "          docLink.innerHTML = docLinkHtml;\n",
              "          element.appendChild(docLink);\n",
              "        }\n",
              "      </script>\n",
              "    </div>\n",
              "  </div>\n",
              "  "
            ],
            "text/plain": [
              "                ID  Severity  ... Nautical_Twilight Astronomical_Twilight\n",
              "0        A-2716600         3  ...             Night                 Night\n",
              "1        A-2716601         2  ...             Night                 Night\n",
              "2        A-2716602         2  ...             Night                   Day\n",
              "3        A-2716603         2  ...             Night                   Day\n",
              "4        A-2716604         2  ...               Day                   Day\n",
              "...            ...       ...  ...               ...                   ...\n",
              "1516059  A-4239402         2  ...               Day                   Day\n",
              "1516060  A-4239403         2  ...               Day                   Day\n",
              "1516061  A-4239404         2  ...               Day                   Day\n",
              "1516062  A-4239405         2  ...               Day                   Day\n",
              "1516063  A-4239406         2  ...               Day                   Day\n",
              "\n",
              "[1516064 rows x 47 columns]"
            ]
          },
          "metadata": {},
          "execution_count": 8
        }
      ]
    },
    {
      "cell_type": "markdown",
      "source": [
        "- This dataframe has 1516064 Rows and 47 Columns"
      ],
      "metadata": {
        "id": "N2aQVn3kCyXl"
      }
    },
    {
      "cell_type": "code",
      "source": [
        "df.shape"
      ],
      "metadata": {
        "colab": {
          "base_uri": "https://localhost:8080/"
        },
        "id": "wfl9pdiCACwq",
        "outputId": "b85a8927-9ed0-4094-fad6-0ad06c42dc1d"
      },
      "execution_count": null,
      "outputs": [
        {
          "output_type": "execute_result",
          "data": {
            "text/plain": [
              "(1516064, 47)"
            ]
          },
          "metadata": {},
          "execution_count": 10
        }
      ]
    },
    {
      "cell_type": "code",
      "source": [
        "df.columns"
      ],
      "metadata": {
        "colab": {
          "base_uri": "https://localhost:8080/"
        },
        "id": "7LpgV0eTACuC",
        "outputId": "4f72eef7-a842-4927-b413-e40e3a30855b"
      },
      "execution_count": null,
      "outputs": [
        {
          "output_type": "execute_result",
          "data": {
            "text/plain": [
              "Index(['ID', 'Severity', 'Start_Time', 'End_Time', 'Start_Lat', 'Start_Lng',\n",
              "       'End_Lat', 'End_Lng', 'Distance(mi)', 'Description', 'Number', 'Street',\n",
              "       'Side', 'City', 'County', 'State', 'Zipcode', 'Country', 'Timezone',\n",
              "       'Airport_Code', 'Weather_Timestamp', 'Temperature(F)', 'Wind_Chill(F)',\n",
              "       'Humidity(%)', 'Pressure(in)', 'Visibility(mi)', 'Wind_Direction',\n",
              "       'Wind_Speed(mph)', 'Precipitation(in)', 'Weather_Condition', 'Amenity',\n",
              "       'Bump', 'Crossing', 'Give_Way', 'Junction', 'No_Exit', 'Railway',\n",
              "       'Roundabout', 'Station', 'Stop', 'Traffic_Calming', 'Traffic_Signal',\n",
              "       'Turning_Loop', 'Sunrise_Sunset', 'Civil_Twilight', 'Nautical_Twilight',\n",
              "       'Astronomical_Twilight'],\n",
              "      dtype='object')"
            ]
          },
          "metadata": {},
          "execution_count": 11
        }
      ]
    },
    {
      "cell_type": "code",
      "source": [
        "df.info()"
      ],
      "metadata": {
        "colab": {
          "base_uri": "https://localhost:8080/"
        },
        "id": "WKncBohVD9n5",
        "outputId": "c3706363-899c-4159-866e-c20240b2283f"
      },
      "execution_count": null,
      "outputs": [
        {
          "output_type": "stream",
          "name": "stdout",
          "text": [
            "<class 'pandas.core.frame.DataFrame'>\n",
            "RangeIndex: 1516064 entries, 0 to 1516063\n",
            "Data columns (total 47 columns):\n",
            " #   Column                 Non-Null Count    Dtype  \n",
            "---  ------                 --------------    -----  \n",
            " 0   ID                     1516064 non-null  object \n",
            " 1   Severity               1516064 non-null  int64  \n",
            " 2   Start_Time             1516064 non-null  object \n",
            " 3   End_Time               1516064 non-null  object \n",
            " 4   Start_Lat              1516064 non-null  float64\n",
            " 5   Start_Lng              1516064 non-null  float64\n",
            " 6   End_Lat                1516064 non-null  float64\n",
            " 7   End_Lng                1516064 non-null  float64\n",
            " 8   Distance(mi)           1516064 non-null  float64\n",
            " 9   Description            1516064 non-null  object \n",
            " 10  Number                 469969 non-null   float64\n",
            " 11  Street                 1516064 non-null  object \n",
            " 12  Side                   1516064 non-null  object \n",
            " 13  City                   1515981 non-null  object \n",
            " 14  County                 1516064 non-null  object \n",
            " 15  State                  1516064 non-null  object \n",
            " 16  Zipcode                1515129 non-null  object \n",
            " 17  Country                1516064 non-null  object \n",
            " 18  Timezone               1513762 non-null  object \n",
            " 19  Airport_Code           1511816 non-null  object \n",
            " 20  Weather_Timestamp      1485800 non-null  object \n",
            " 21  Temperature(F)         1473031 non-null  float64\n",
            " 22  Wind_Chill(F)          1066748 non-null  float64\n",
            " 23  Humidity(%)            1470555 non-null  float64\n",
            " 24  Pressure(in)           1479790 non-null  float64\n",
            " 25  Visibility(mi)         1471853 non-null  float64\n",
            " 26  Wind_Direction         1474206 non-null  object \n",
            " 27  Wind_Speed(mph)        1387202 non-null  float64\n",
            " 28  Precipitation(in)      1005515 non-null  float64\n",
            " 29  Weather_Condition      1472057 non-null  object \n",
            " 30  Amenity                1516064 non-null  bool   \n",
            " 31  Bump                   1516064 non-null  bool   \n",
            " 32  Crossing               1516064 non-null  bool   \n",
            " 33  Give_Way               1516064 non-null  bool   \n",
            " 34  Junction               1516064 non-null  bool   \n",
            " 35  No_Exit                1516064 non-null  bool   \n",
            " 36  Railway                1516064 non-null  bool   \n",
            " 37  Roundabout             1516064 non-null  bool   \n",
            " 38  Station                1516064 non-null  bool   \n",
            " 39  Stop                   1516064 non-null  bool   \n",
            " 40  Traffic_Calming        1516064 non-null  bool   \n",
            " 41  Traffic_Signal         1516064 non-null  bool   \n",
            " 42  Turning_Loop           1516064 non-null  bool   \n",
            " 43  Sunrise_Sunset         1515981 non-null  object \n",
            " 44  Civil_Twilight         1515981 non-null  object \n",
            " 45  Nautical_Twilight      1515981 non-null  object \n",
            " 46  Astronomical_Twilight  1515981 non-null  object \n",
            "dtypes: bool(13), float64(13), int64(1), object(20)\n",
            "memory usage: 412.1+ MB\n"
          ]
        }
      ]
    },
    {
      "cell_type": "code",
      "source": [
        "df.describe()"
      ],
      "metadata": {
        "colab": {
          "base_uri": "https://localhost:8080/",
          "height": 364
        },
        "id": "KOCNtTRXACrc",
        "outputId": "340e24e1-6bfe-4167-ca33-672c5eead5d2"
      },
      "execution_count": null,
      "outputs": [
        {
          "output_type": "execute_result",
          "data": {
            "text/html": [
              "\n",
              "  <div id=\"df-52a14258-7485-4f0a-b387-4a5b72edcc7f\">\n",
              "    <div class=\"colab-df-container\">\n",
              "      <div>\n",
              "<style scoped>\n",
              "    .dataframe tbody tr th:only-of-type {\n",
              "        vertical-align: middle;\n",
              "    }\n",
              "\n",
              "    .dataframe tbody tr th {\n",
              "        vertical-align: top;\n",
              "    }\n",
              "\n",
              "    .dataframe thead th {\n",
              "        text-align: right;\n",
              "    }\n",
              "</style>\n",
              "<table border=\"1\" class=\"dataframe\">\n",
              "  <thead>\n",
              "    <tr style=\"text-align: right;\">\n",
              "      <th></th>\n",
              "      <th>Severity</th>\n",
              "      <th>Start_Lat</th>\n",
              "      <th>Start_Lng</th>\n",
              "      <th>End_Lat</th>\n",
              "      <th>End_Lng</th>\n",
              "      <th>Distance(mi)</th>\n",
              "      <th>Number</th>\n",
              "      <th>Temperature(F)</th>\n",
              "      <th>Wind_Chill(F)</th>\n",
              "      <th>Humidity(%)</th>\n",
              "      <th>Pressure(in)</th>\n",
              "      <th>Visibility(mi)</th>\n",
              "      <th>Wind_Speed(mph)</th>\n",
              "      <th>Precipitation(in)</th>\n",
              "    </tr>\n",
              "  </thead>\n",
              "  <tbody>\n",
              "    <tr>\n",
              "      <th>count</th>\n",
              "      <td>1.516064e+06</td>\n",
              "      <td>1.516064e+06</td>\n",
              "      <td>1.516064e+06</td>\n",
              "      <td>1.516064e+06</td>\n",
              "      <td>1.516064e+06</td>\n",
              "      <td>1.516064e+06</td>\n",
              "      <td>4.699690e+05</td>\n",
              "      <td>1.473031e+06</td>\n",
              "      <td>1.066748e+06</td>\n",
              "      <td>1.470555e+06</td>\n",
              "      <td>1.479790e+06</td>\n",
              "      <td>1.471853e+06</td>\n",
              "      <td>1.387202e+06</td>\n",
              "      <td>1.005515e+06</td>\n",
              "    </tr>\n",
              "    <tr>\n",
              "      <th>mean</th>\n",
              "      <td>2.238630e+00</td>\n",
              "      <td>3.690056e+01</td>\n",
              "      <td>-9.859919e+01</td>\n",
              "      <td>3.690061e+01</td>\n",
              "      <td>-9.859901e+01</td>\n",
              "      <td>5.872617e-01</td>\n",
              "      <td>8.907533e+03</td>\n",
              "      <td>5.958460e+01</td>\n",
              "      <td>5.510976e+01</td>\n",
              "      <td>6.465960e+01</td>\n",
              "      <td>2.955495e+01</td>\n",
              "      <td>9.131755e+00</td>\n",
              "      <td>7.630812e+00</td>\n",
              "      <td>8.477855e-03</td>\n",
              "    </tr>\n",
              "    <tr>\n",
              "      <th>std</th>\n",
              "      <td>6.081481e-01</td>\n",
              "      <td>5.165653e+00</td>\n",
              "      <td>1.849602e+01</td>\n",
              "      <td>5.165629e+00</td>\n",
              "      <td>1.849590e+01</td>\n",
              "      <td>1.632659e+00</td>\n",
              "      <td>2.242190e+04</td>\n",
              "      <td>1.827316e+01</td>\n",
              "      <td>2.112735e+01</td>\n",
              "      <td>2.325986e+01</td>\n",
              "      <td>1.016756e+00</td>\n",
              "      <td>2.889112e+00</td>\n",
              "      <td>5.637364e+00</td>\n",
              "      <td>1.293168e-01</td>\n",
              "    </tr>\n",
              "    <tr>\n",
              "      <th>min</th>\n",
              "      <td>1.000000e+00</td>\n",
              "      <td>2.457022e+01</td>\n",
              "      <td>-1.244976e+02</td>\n",
              "      <td>2.457011e+01</td>\n",
              "      <td>-1.244978e+02</td>\n",
              "      <td>0.000000e+00</td>\n",
              "      <td>0.000000e+00</td>\n",
              "      <td>-8.900000e+01</td>\n",
              "      <td>-8.900000e+01</td>\n",
              "      <td>1.000000e+00</td>\n",
              "      <td>0.000000e+00</td>\n",
              "      <td>0.000000e+00</td>\n",
              "      <td>0.000000e+00</td>\n",
              "      <td>0.000000e+00</td>\n",
              "    </tr>\n",
              "    <tr>\n",
              "      <th>25%</th>\n",
              "      <td>2.000000e+00</td>\n",
              "      <td>3.385422e+01</td>\n",
              "      <td>-1.182076e+02</td>\n",
              "      <td>3.385420e+01</td>\n",
              "      <td>-1.182077e+02</td>\n",
              "      <td>0.000000e+00</td>\n",
              "      <td>1.212000e+03</td>\n",
              "      <td>4.700000e+01</td>\n",
              "      <td>4.080000e+01</td>\n",
              "      <td>4.800000e+01</td>\n",
              "      <td>2.944000e+01</td>\n",
              "      <td>1.000000e+01</td>\n",
              "      <td>4.600000e+00</td>\n",
              "      <td>0.000000e+00</td>\n",
              "    </tr>\n",
              "    <tr>\n",
              "      <th>50%</th>\n",
              "      <td>2.000000e+00</td>\n",
              "      <td>3.735113e+01</td>\n",
              "      <td>-9.438100e+01</td>\n",
              "      <td>3.735134e+01</td>\n",
              "      <td>-9.437987e+01</td>\n",
              "      <td>1.780000e-01</td>\n",
              "      <td>4.000000e+03</td>\n",
              "      <td>6.100000e+01</td>\n",
              "      <td>5.700000e+01</td>\n",
              "      <td>6.800000e+01</td>\n",
              "      <td>2.988000e+01</td>\n",
              "      <td>1.000000e+01</td>\n",
              "      <td>7.000000e+00</td>\n",
              "      <td>0.000000e+00</td>\n",
              "    </tr>\n",
              "    <tr>\n",
              "      <th>75%</th>\n",
              "      <td>2.000000e+00</td>\n",
              "      <td>4.072593e+01</td>\n",
              "      <td>-8.087469e+01</td>\n",
              "      <td>4.072593e+01</td>\n",
              "      <td>-8.087449e+01</td>\n",
              "      <td>5.940000e-01</td>\n",
              "      <td>1.010000e+04</td>\n",
              "      <td>7.300000e+01</td>\n",
              "      <td>7.100000e+01</td>\n",
              "      <td>8.400000e+01</td>\n",
              "      <td>3.004000e+01</td>\n",
              "      <td>1.000000e+01</td>\n",
              "      <td>1.040000e+01</td>\n",
              "      <td>0.000000e+00</td>\n",
              "    </tr>\n",
              "    <tr>\n",
              "      <th>max</th>\n",
              "      <td>4.000000e+00</td>\n",
              "      <td>4.900058e+01</td>\n",
              "      <td>-6.711317e+01</td>\n",
              "      <td>4.907500e+01</td>\n",
              "      <td>-6.710924e+01</td>\n",
              "      <td>1.551860e+02</td>\n",
              "      <td>9.999997e+06</td>\n",
              "      <td>1.706000e+02</td>\n",
              "      <td>1.130000e+02</td>\n",
              "      <td>1.000000e+02</td>\n",
              "      <td>5.804000e+01</td>\n",
              "      <td>1.400000e+02</td>\n",
              "      <td>9.840000e+02</td>\n",
              "      <td>2.400000e+01</td>\n",
              "    </tr>\n",
              "  </tbody>\n",
              "</table>\n",
              "</div>\n",
              "      <button class=\"colab-df-convert\" onclick=\"convertToInteractive('df-52a14258-7485-4f0a-b387-4a5b72edcc7f')\"\n",
              "              title=\"Convert this dataframe to an interactive table.\"\n",
              "              style=\"display:none;\">\n",
              "        \n",
              "  <svg xmlns=\"http://www.w3.org/2000/svg\" height=\"24px\"viewBox=\"0 0 24 24\"\n",
              "       width=\"24px\">\n",
              "    <path d=\"M0 0h24v24H0V0z\" fill=\"none\"/>\n",
              "    <path d=\"M18.56 5.44l.94 2.06.94-2.06 2.06-.94-2.06-.94-.94-2.06-.94 2.06-2.06.94zm-11 1L8.5 8.5l.94-2.06 2.06-.94-2.06-.94L8.5 2.5l-.94 2.06-2.06.94zm10 10l.94 2.06.94-2.06 2.06-.94-2.06-.94-.94-2.06-.94 2.06-2.06.94z\"/><path d=\"M17.41 7.96l-1.37-1.37c-.4-.4-.92-.59-1.43-.59-.52 0-1.04.2-1.43.59L10.3 9.45l-7.72 7.72c-.78.78-.78 2.05 0 2.83L4 21.41c.39.39.9.59 1.41.59.51 0 1.02-.2 1.41-.59l7.78-7.78 2.81-2.81c.8-.78.8-2.07 0-2.86zM5.41 20L4 18.59l7.72-7.72 1.47 1.35L5.41 20z\"/>\n",
              "  </svg>\n",
              "      </button>\n",
              "      \n",
              "  <style>\n",
              "    .colab-df-container {\n",
              "      display:flex;\n",
              "      flex-wrap:wrap;\n",
              "      gap: 12px;\n",
              "    }\n",
              "\n",
              "    .colab-df-convert {\n",
              "      background-color: #E8F0FE;\n",
              "      border: none;\n",
              "      border-radius: 50%;\n",
              "      cursor: pointer;\n",
              "      display: none;\n",
              "      fill: #1967D2;\n",
              "      height: 32px;\n",
              "      padding: 0 0 0 0;\n",
              "      width: 32px;\n",
              "    }\n",
              "\n",
              "    .colab-df-convert:hover {\n",
              "      background-color: #E2EBFA;\n",
              "      box-shadow: 0px 1px 2px rgba(60, 64, 67, 0.3), 0px 1px 3px 1px rgba(60, 64, 67, 0.15);\n",
              "      fill: #174EA6;\n",
              "    }\n",
              "\n",
              "    [theme=dark] .colab-df-convert {\n",
              "      background-color: #3B4455;\n",
              "      fill: #D2E3FC;\n",
              "    }\n",
              "\n",
              "    [theme=dark] .colab-df-convert:hover {\n",
              "      background-color: #434B5C;\n",
              "      box-shadow: 0px 1px 3px 1px rgba(0, 0, 0, 0.15);\n",
              "      filter: drop-shadow(0px 1px 2px rgba(0, 0, 0, 0.3));\n",
              "      fill: #FFFFFF;\n",
              "    }\n",
              "  </style>\n",
              "\n",
              "      <script>\n",
              "        const buttonEl =\n",
              "          document.querySelector('#df-52a14258-7485-4f0a-b387-4a5b72edcc7f button.colab-df-convert');\n",
              "        buttonEl.style.display =\n",
              "          google.colab.kernel.accessAllowed ? 'block' : 'none';\n",
              "\n",
              "        async function convertToInteractive(key) {\n",
              "          const element = document.querySelector('#df-52a14258-7485-4f0a-b387-4a5b72edcc7f');\n",
              "          const dataTable =\n",
              "            await google.colab.kernel.invokeFunction('convertToInteractive',\n",
              "                                                     [key], {});\n",
              "          if (!dataTable) return;\n",
              "\n",
              "          const docLinkHtml = 'Like what you see? Visit the ' +\n",
              "            '<a target=\"_blank\" href=https://colab.research.google.com/notebooks/data_table.ipynb>data table notebook</a>'\n",
              "            + ' to learn more about interactive tables.';\n",
              "          element.innerHTML = '';\n",
              "          dataTable['output_type'] = 'display_data';\n",
              "          await google.colab.output.renderOutput(dataTable, element);\n",
              "          const docLink = document.createElement('div');\n",
              "          docLink.innerHTML = docLinkHtml;\n",
              "          element.appendChild(docLink);\n",
              "        }\n",
              "      </script>\n",
              "    </div>\n",
              "  </div>\n",
              "  "
            ],
            "text/plain": [
              "           Severity     Start_Lat  ...  Wind_Speed(mph)  Precipitation(in)\n",
              "count  1.516064e+06  1.516064e+06  ...     1.387202e+06       1.005515e+06\n",
              "mean   2.238630e+00  3.690056e+01  ...     7.630812e+00       8.477855e-03\n",
              "std    6.081481e-01  5.165653e+00  ...     5.637364e+00       1.293168e-01\n",
              "min    1.000000e+00  2.457022e+01  ...     0.000000e+00       0.000000e+00\n",
              "25%    2.000000e+00  3.385422e+01  ...     4.600000e+00       0.000000e+00\n",
              "50%    2.000000e+00  3.735113e+01  ...     7.000000e+00       0.000000e+00\n",
              "75%    2.000000e+00  4.072593e+01  ...     1.040000e+01       0.000000e+00\n",
              "max    4.000000e+00  4.900058e+01  ...     9.840000e+02       2.400000e+01\n",
              "\n",
              "[8 rows x 14 columns]"
            ]
          },
          "metadata": {},
          "execution_count": 12
        }
      ]
    },
    {
      "cell_type": "code",
      "source": [
        ""
      ],
      "metadata": {
        "id": "A8pwmUpmVxYx"
      },
      "execution_count": null,
      "outputs": []
    },
    {
      "cell_type": "markdown",
      "source": [
        "- we are doing this to know with how much numeric data we are dealing with and rest might be object type data"
      ],
      "metadata": {
        "id": "XKVj5tnSHUm4"
      }
    },
    {
      "cell_type": "code",
      "source": [
        "numerics=['int16', 'int32', 'int64', 'float16', 'float32', 'float64']\n",
        "numeric_df=df.select_dtypes(include=numerics)\n",
        "numeric_df"
      ],
      "metadata": {
        "colab": {
          "base_uri": "https://localhost:8080/",
          "height": 488
        },
        "id": "2a11sDlxACpE",
        "outputId": "e3b97dfb-5c82-4221-a9bb-52499435fef9"
      },
      "execution_count": null,
      "outputs": [
        {
          "output_type": "execute_result",
          "data": {
            "text/html": [
              "\n",
              "  <div id=\"df-c3411371-0d64-474e-a435-92455b3d3883\">\n",
              "    <div class=\"colab-df-container\">\n",
              "      <div>\n",
              "<style scoped>\n",
              "    .dataframe tbody tr th:only-of-type {\n",
              "        vertical-align: middle;\n",
              "    }\n",
              "\n",
              "    .dataframe tbody tr th {\n",
              "        vertical-align: top;\n",
              "    }\n",
              "\n",
              "    .dataframe thead th {\n",
              "        text-align: right;\n",
              "    }\n",
              "</style>\n",
              "<table border=\"1\" class=\"dataframe\">\n",
              "  <thead>\n",
              "    <tr style=\"text-align: right;\">\n",
              "      <th></th>\n",
              "      <th>Severity</th>\n",
              "      <th>Start_Lat</th>\n",
              "      <th>Start_Lng</th>\n",
              "      <th>End_Lat</th>\n",
              "      <th>End_Lng</th>\n",
              "      <th>Distance(mi)</th>\n",
              "      <th>Number</th>\n",
              "      <th>Temperature(F)</th>\n",
              "      <th>Wind_Chill(F)</th>\n",
              "      <th>Humidity(%)</th>\n",
              "      <th>Pressure(in)</th>\n",
              "      <th>Visibility(mi)</th>\n",
              "      <th>Wind_Speed(mph)</th>\n",
              "      <th>Precipitation(in)</th>\n",
              "    </tr>\n",
              "  </thead>\n",
              "  <tbody>\n",
              "    <tr>\n",
              "      <th>0</th>\n",
              "      <td>3</td>\n",
              "      <td>40.10891</td>\n",
              "      <td>-83.09286</td>\n",
              "      <td>40.11206</td>\n",
              "      <td>-83.03187</td>\n",
              "      <td>3.230</td>\n",
              "      <td>NaN</td>\n",
              "      <td>42.1</td>\n",
              "      <td>36.1</td>\n",
              "      <td>58.0</td>\n",
              "      <td>29.76</td>\n",
              "      <td>10.0</td>\n",
              "      <td>10.4</td>\n",
              "      <td>0.00</td>\n",
              "    </tr>\n",
              "    <tr>\n",
              "      <th>1</th>\n",
              "      <td>2</td>\n",
              "      <td>39.86542</td>\n",
              "      <td>-84.06280</td>\n",
              "      <td>39.86501</td>\n",
              "      <td>-84.04873</td>\n",
              "      <td>0.747</td>\n",
              "      <td>NaN</td>\n",
              "      <td>36.9</td>\n",
              "      <td>NaN</td>\n",
              "      <td>91.0</td>\n",
              "      <td>29.68</td>\n",
              "      <td>10.0</td>\n",
              "      <td>NaN</td>\n",
              "      <td>0.02</td>\n",
              "    </tr>\n",
              "    <tr>\n",
              "      <th>2</th>\n",
              "      <td>2</td>\n",
              "      <td>39.10266</td>\n",
              "      <td>-84.52468</td>\n",
              "      <td>39.10209</td>\n",
              "      <td>-84.52396</td>\n",
              "      <td>0.055</td>\n",
              "      <td>NaN</td>\n",
              "      <td>36.0</td>\n",
              "      <td>NaN</td>\n",
              "      <td>97.0</td>\n",
              "      <td>29.70</td>\n",
              "      <td>10.0</td>\n",
              "      <td>NaN</td>\n",
              "      <td>0.02</td>\n",
              "    </tr>\n",
              "    <tr>\n",
              "      <th>3</th>\n",
              "      <td>2</td>\n",
              "      <td>39.10148</td>\n",
              "      <td>-84.52341</td>\n",
              "      <td>39.09841</td>\n",
              "      <td>-84.52241</td>\n",
              "      <td>0.219</td>\n",
              "      <td>NaN</td>\n",
              "      <td>36.0</td>\n",
              "      <td>NaN</td>\n",
              "      <td>97.0</td>\n",
              "      <td>29.70</td>\n",
              "      <td>10.0</td>\n",
              "      <td>NaN</td>\n",
              "      <td>0.02</td>\n",
              "    </tr>\n",
              "    <tr>\n",
              "      <th>4</th>\n",
              "      <td>2</td>\n",
              "      <td>41.06213</td>\n",
              "      <td>-81.53784</td>\n",
              "      <td>41.06217</td>\n",
              "      <td>-81.53547</td>\n",
              "      <td>0.123</td>\n",
              "      <td>NaN</td>\n",
              "      <td>39.0</td>\n",
              "      <td>NaN</td>\n",
              "      <td>55.0</td>\n",
              "      <td>29.65</td>\n",
              "      <td>10.0</td>\n",
              "      <td>NaN</td>\n",
              "      <td>NaN</td>\n",
              "    </tr>\n",
              "    <tr>\n",
              "      <th>...</th>\n",
              "      <td>...</td>\n",
              "      <td>...</td>\n",
              "      <td>...</td>\n",
              "      <td>...</td>\n",
              "      <td>...</td>\n",
              "      <td>...</td>\n",
              "      <td>...</td>\n",
              "      <td>...</td>\n",
              "      <td>...</td>\n",
              "      <td>...</td>\n",
              "      <td>...</td>\n",
              "      <td>...</td>\n",
              "      <td>...</td>\n",
              "      <td>...</td>\n",
              "    </tr>\n",
              "    <tr>\n",
              "      <th>1516059</th>\n",
              "      <td>2</td>\n",
              "      <td>34.00248</td>\n",
              "      <td>-117.37936</td>\n",
              "      <td>33.99888</td>\n",
              "      <td>-117.37094</td>\n",
              "      <td>0.543</td>\n",
              "      <td>NaN</td>\n",
              "      <td>86.0</td>\n",
              "      <td>86.0</td>\n",
              "      <td>40.0</td>\n",
              "      <td>28.92</td>\n",
              "      <td>10.0</td>\n",
              "      <td>13.0</td>\n",
              "      <td>0.00</td>\n",
              "    </tr>\n",
              "    <tr>\n",
              "      <th>1516060</th>\n",
              "      <td>2</td>\n",
              "      <td>32.76696</td>\n",
              "      <td>-117.14806</td>\n",
              "      <td>32.76555</td>\n",
              "      <td>-117.15363</td>\n",
              "      <td>0.338</td>\n",
              "      <td>NaN</td>\n",
              "      <td>70.0</td>\n",
              "      <td>70.0</td>\n",
              "      <td>73.0</td>\n",
              "      <td>29.39</td>\n",
              "      <td>10.0</td>\n",
              "      <td>6.0</td>\n",
              "      <td>0.00</td>\n",
              "    </tr>\n",
              "    <tr>\n",
              "      <th>1516061</th>\n",
              "      <td>2</td>\n",
              "      <td>33.77545</td>\n",
              "      <td>-117.84779</td>\n",
              "      <td>33.77740</td>\n",
              "      <td>-117.85727</td>\n",
              "      <td>0.561</td>\n",
              "      <td>NaN</td>\n",
              "      <td>73.0</td>\n",
              "      <td>73.0</td>\n",
              "      <td>64.0</td>\n",
              "      <td>29.74</td>\n",
              "      <td>10.0</td>\n",
              "      <td>10.0</td>\n",
              "      <td>0.00</td>\n",
              "    </tr>\n",
              "    <tr>\n",
              "      <th>1516062</th>\n",
              "      <td>2</td>\n",
              "      <td>33.99246</td>\n",
              "      <td>-118.40302</td>\n",
              "      <td>33.98311</td>\n",
              "      <td>-118.39565</td>\n",
              "      <td>0.772</td>\n",
              "      <td>NaN</td>\n",
              "      <td>71.0</td>\n",
              "      <td>71.0</td>\n",
              "      <td>81.0</td>\n",
              "      <td>29.62</td>\n",
              "      <td>10.0</td>\n",
              "      <td>8.0</td>\n",
              "      <td>0.00</td>\n",
              "    </tr>\n",
              "    <tr>\n",
              "      <th>1516063</th>\n",
              "      <td>2</td>\n",
              "      <td>34.13393</td>\n",
              "      <td>-117.23092</td>\n",
              "      <td>34.13736</td>\n",
              "      <td>-117.23934</td>\n",
              "      <td>0.537</td>\n",
              "      <td>NaN</td>\n",
              "      <td>79.0</td>\n",
              "      <td>79.0</td>\n",
              "      <td>47.0</td>\n",
              "      <td>28.63</td>\n",
              "      <td>7.0</td>\n",
              "      <td>7.0</td>\n",
              "      <td>0.00</td>\n",
              "    </tr>\n",
              "  </tbody>\n",
              "</table>\n",
              "<p>1516064 rows × 14 columns</p>\n",
              "</div>\n",
              "      <button class=\"colab-df-convert\" onclick=\"convertToInteractive('df-c3411371-0d64-474e-a435-92455b3d3883')\"\n",
              "              title=\"Convert this dataframe to an interactive table.\"\n",
              "              style=\"display:none;\">\n",
              "        \n",
              "  <svg xmlns=\"http://www.w3.org/2000/svg\" height=\"24px\"viewBox=\"0 0 24 24\"\n",
              "       width=\"24px\">\n",
              "    <path d=\"M0 0h24v24H0V0z\" fill=\"none\"/>\n",
              "    <path d=\"M18.56 5.44l.94 2.06.94-2.06 2.06-.94-2.06-.94-.94-2.06-.94 2.06-2.06.94zm-11 1L8.5 8.5l.94-2.06 2.06-.94-2.06-.94L8.5 2.5l-.94 2.06-2.06.94zm10 10l.94 2.06.94-2.06 2.06-.94-2.06-.94-.94-2.06-.94 2.06-2.06.94z\"/><path d=\"M17.41 7.96l-1.37-1.37c-.4-.4-.92-.59-1.43-.59-.52 0-1.04.2-1.43.59L10.3 9.45l-7.72 7.72c-.78.78-.78 2.05 0 2.83L4 21.41c.39.39.9.59 1.41.59.51 0 1.02-.2 1.41-.59l7.78-7.78 2.81-2.81c.8-.78.8-2.07 0-2.86zM5.41 20L4 18.59l7.72-7.72 1.47 1.35L5.41 20z\"/>\n",
              "  </svg>\n",
              "      </button>\n",
              "      \n",
              "  <style>\n",
              "    .colab-df-container {\n",
              "      display:flex;\n",
              "      flex-wrap:wrap;\n",
              "      gap: 12px;\n",
              "    }\n",
              "\n",
              "    .colab-df-convert {\n",
              "      background-color: #E8F0FE;\n",
              "      border: none;\n",
              "      border-radius: 50%;\n",
              "      cursor: pointer;\n",
              "      display: none;\n",
              "      fill: #1967D2;\n",
              "      height: 32px;\n",
              "      padding: 0 0 0 0;\n",
              "      width: 32px;\n",
              "    }\n",
              "\n",
              "    .colab-df-convert:hover {\n",
              "      background-color: #E2EBFA;\n",
              "      box-shadow: 0px 1px 2px rgba(60, 64, 67, 0.3), 0px 1px 3px 1px rgba(60, 64, 67, 0.15);\n",
              "      fill: #174EA6;\n",
              "    }\n",
              "\n",
              "    [theme=dark] .colab-df-convert {\n",
              "      background-color: #3B4455;\n",
              "      fill: #D2E3FC;\n",
              "    }\n",
              "\n",
              "    [theme=dark] .colab-df-convert:hover {\n",
              "      background-color: #434B5C;\n",
              "      box-shadow: 0px 1px 3px 1px rgba(0, 0, 0, 0.15);\n",
              "      filter: drop-shadow(0px 1px 2px rgba(0, 0, 0, 0.3));\n",
              "      fill: #FFFFFF;\n",
              "    }\n",
              "  </style>\n",
              "\n",
              "      <script>\n",
              "        const buttonEl =\n",
              "          document.querySelector('#df-c3411371-0d64-474e-a435-92455b3d3883 button.colab-df-convert');\n",
              "        buttonEl.style.display =\n",
              "          google.colab.kernel.accessAllowed ? 'block' : 'none';\n",
              "\n",
              "        async function convertToInteractive(key) {\n",
              "          const element = document.querySelector('#df-c3411371-0d64-474e-a435-92455b3d3883');\n",
              "          const dataTable =\n",
              "            await google.colab.kernel.invokeFunction('convertToInteractive',\n",
              "                                                     [key], {});\n",
              "          if (!dataTable) return;\n",
              "\n",
              "          const docLinkHtml = 'Like what you see? Visit the ' +\n",
              "            '<a target=\"_blank\" href=https://colab.research.google.com/notebooks/data_table.ipynb>data table notebook</a>'\n",
              "            + ' to learn more about interactive tables.';\n",
              "          element.innerHTML = '';\n",
              "          dataTable['output_type'] = 'display_data';\n",
              "          await google.colab.output.renderOutput(dataTable, element);\n",
              "          const docLink = document.createElement('div');\n",
              "          docLink.innerHTML = docLinkHtml;\n",
              "          element.appendChild(docLink);\n",
              "        }\n",
              "      </script>\n",
              "    </div>\n",
              "  </div>\n",
              "  "
            ],
            "text/plain": [
              "         Severity  Start_Lat  ...  Wind_Speed(mph)  Precipitation(in)\n",
              "0               3   40.10891  ...             10.4               0.00\n",
              "1               2   39.86542  ...              NaN               0.02\n",
              "2               2   39.10266  ...              NaN               0.02\n",
              "3               2   39.10148  ...              NaN               0.02\n",
              "4               2   41.06213  ...              NaN                NaN\n",
              "...           ...        ...  ...              ...                ...\n",
              "1516059         2   34.00248  ...             13.0               0.00\n",
              "1516060         2   32.76696  ...              6.0               0.00\n",
              "1516061         2   33.77545  ...             10.0               0.00\n",
              "1516062         2   33.99246  ...              8.0               0.00\n",
              "1516063         2   34.13393  ...              7.0               0.00\n",
              "\n",
              "[1516064 rows x 14 columns]"
            ]
          },
          "metadata": {},
          "execution_count": 14
        }
      ]
    },
    {
      "cell_type": "code",
      "source": [
        "len(numeric_df)"
      ],
      "metadata": {
        "colab": {
          "base_uri": "https://localhost:8080/"
        },
        "id": "gQpOQ0otACme",
        "outputId": "0e1c493d-7328-4dd7-8847-436448f2c866"
      },
      "execution_count": null,
      "outputs": [
        {
          "output_type": "execute_result",
          "data": {
            "text/plain": [
              "1516064"
            ]
          },
          "metadata": {},
          "execution_count": 15
        }
      ]
    },
    {
      "cell_type": "markdown",
      "source": [
        "## looking for the missing values in numeric_df\n",
        "- .isna() is used to check if there is null values in the dataframe"
      ],
      "metadata": {
        "id": "c6A2-JkRH9Y2"
      }
    },
    {
      "cell_type": "code",
      "source": [
        "df.isna()"
      ],
      "metadata": {
        "colab": {
          "base_uri": "https://localhost:8080/",
          "height": 488
        },
        "id": "9m70lq5pACiC",
        "outputId": "4dcb38ec-bb4f-41d0-87c5-a7371ac09c7b"
      },
      "execution_count": null,
      "outputs": [
        {
          "output_type": "execute_result",
          "data": {
            "text/html": [
              "\n",
              "  <div id=\"df-afb97627-cbea-4ae9-b534-96d0f154cb87\">\n",
              "    <div class=\"colab-df-container\">\n",
              "      <div>\n",
              "<style scoped>\n",
              "    .dataframe tbody tr th:only-of-type {\n",
              "        vertical-align: middle;\n",
              "    }\n",
              "\n",
              "    .dataframe tbody tr th {\n",
              "        vertical-align: top;\n",
              "    }\n",
              "\n",
              "    .dataframe thead th {\n",
              "        text-align: right;\n",
              "    }\n",
              "</style>\n",
              "<table border=\"1\" class=\"dataframe\">\n",
              "  <thead>\n",
              "    <tr style=\"text-align: right;\">\n",
              "      <th></th>\n",
              "      <th>ID</th>\n",
              "      <th>Severity</th>\n",
              "      <th>Start_Time</th>\n",
              "      <th>End_Time</th>\n",
              "      <th>Start_Lat</th>\n",
              "      <th>Start_Lng</th>\n",
              "      <th>End_Lat</th>\n",
              "      <th>End_Lng</th>\n",
              "      <th>Distance(mi)</th>\n",
              "      <th>Description</th>\n",
              "      <th>Number</th>\n",
              "      <th>Street</th>\n",
              "      <th>Side</th>\n",
              "      <th>City</th>\n",
              "      <th>County</th>\n",
              "      <th>State</th>\n",
              "      <th>Zipcode</th>\n",
              "      <th>Country</th>\n",
              "      <th>Timezone</th>\n",
              "      <th>Airport_Code</th>\n",
              "      <th>Weather_Timestamp</th>\n",
              "      <th>Temperature(F)</th>\n",
              "      <th>Wind_Chill(F)</th>\n",
              "      <th>Humidity(%)</th>\n",
              "      <th>Pressure(in)</th>\n",
              "      <th>Visibility(mi)</th>\n",
              "      <th>Wind_Direction</th>\n",
              "      <th>Wind_Speed(mph)</th>\n",
              "      <th>Precipitation(in)</th>\n",
              "      <th>Weather_Condition</th>\n",
              "      <th>Amenity</th>\n",
              "      <th>Bump</th>\n",
              "      <th>Crossing</th>\n",
              "      <th>Give_Way</th>\n",
              "      <th>Junction</th>\n",
              "      <th>No_Exit</th>\n",
              "      <th>Railway</th>\n",
              "      <th>Roundabout</th>\n",
              "      <th>Station</th>\n",
              "      <th>Stop</th>\n",
              "      <th>Traffic_Calming</th>\n",
              "      <th>Traffic_Signal</th>\n",
              "      <th>Turning_Loop</th>\n",
              "      <th>Sunrise_Sunset</th>\n",
              "      <th>Civil_Twilight</th>\n",
              "      <th>Nautical_Twilight</th>\n",
              "      <th>Astronomical_Twilight</th>\n",
              "    </tr>\n",
              "  </thead>\n",
              "  <tbody>\n",
              "    <tr>\n",
              "      <th>0</th>\n",
              "      <td>False</td>\n",
              "      <td>False</td>\n",
              "      <td>False</td>\n",
              "      <td>False</td>\n",
              "      <td>False</td>\n",
              "      <td>False</td>\n",
              "      <td>False</td>\n",
              "      <td>False</td>\n",
              "      <td>False</td>\n",
              "      <td>False</td>\n",
              "      <td>True</td>\n",
              "      <td>False</td>\n",
              "      <td>False</td>\n",
              "      <td>False</td>\n",
              "      <td>False</td>\n",
              "      <td>False</td>\n",
              "      <td>False</td>\n",
              "      <td>False</td>\n",
              "      <td>False</td>\n",
              "      <td>False</td>\n",
              "      <td>False</td>\n",
              "      <td>False</td>\n",
              "      <td>False</td>\n",
              "      <td>False</td>\n",
              "      <td>False</td>\n",
              "      <td>False</td>\n",
              "      <td>False</td>\n",
              "      <td>False</td>\n",
              "      <td>False</td>\n",
              "      <td>False</td>\n",
              "      <td>False</td>\n",
              "      <td>False</td>\n",
              "      <td>False</td>\n",
              "      <td>False</td>\n",
              "      <td>False</td>\n",
              "      <td>False</td>\n",
              "      <td>False</td>\n",
              "      <td>False</td>\n",
              "      <td>False</td>\n",
              "      <td>False</td>\n",
              "      <td>False</td>\n",
              "      <td>False</td>\n",
              "      <td>False</td>\n",
              "      <td>False</td>\n",
              "      <td>False</td>\n",
              "      <td>False</td>\n",
              "      <td>False</td>\n",
              "    </tr>\n",
              "    <tr>\n",
              "      <th>1</th>\n",
              "      <td>False</td>\n",
              "      <td>False</td>\n",
              "      <td>False</td>\n",
              "      <td>False</td>\n",
              "      <td>False</td>\n",
              "      <td>False</td>\n",
              "      <td>False</td>\n",
              "      <td>False</td>\n",
              "      <td>False</td>\n",
              "      <td>False</td>\n",
              "      <td>True</td>\n",
              "      <td>False</td>\n",
              "      <td>False</td>\n",
              "      <td>False</td>\n",
              "      <td>False</td>\n",
              "      <td>False</td>\n",
              "      <td>False</td>\n",
              "      <td>False</td>\n",
              "      <td>False</td>\n",
              "      <td>False</td>\n",
              "      <td>False</td>\n",
              "      <td>False</td>\n",
              "      <td>True</td>\n",
              "      <td>False</td>\n",
              "      <td>False</td>\n",
              "      <td>False</td>\n",
              "      <td>False</td>\n",
              "      <td>True</td>\n",
              "      <td>False</td>\n",
              "      <td>False</td>\n",
              "      <td>False</td>\n",
              "      <td>False</td>\n",
              "      <td>False</td>\n",
              "      <td>False</td>\n",
              "      <td>False</td>\n",
              "      <td>False</td>\n",
              "      <td>False</td>\n",
              "      <td>False</td>\n",
              "      <td>False</td>\n",
              "      <td>False</td>\n",
              "      <td>False</td>\n",
              "      <td>False</td>\n",
              "      <td>False</td>\n",
              "      <td>False</td>\n",
              "      <td>False</td>\n",
              "      <td>False</td>\n",
              "      <td>False</td>\n",
              "    </tr>\n",
              "    <tr>\n",
              "      <th>2</th>\n",
              "      <td>False</td>\n",
              "      <td>False</td>\n",
              "      <td>False</td>\n",
              "      <td>False</td>\n",
              "      <td>False</td>\n",
              "      <td>False</td>\n",
              "      <td>False</td>\n",
              "      <td>False</td>\n",
              "      <td>False</td>\n",
              "      <td>False</td>\n",
              "      <td>True</td>\n",
              "      <td>False</td>\n",
              "      <td>False</td>\n",
              "      <td>False</td>\n",
              "      <td>False</td>\n",
              "      <td>False</td>\n",
              "      <td>False</td>\n",
              "      <td>False</td>\n",
              "      <td>False</td>\n",
              "      <td>False</td>\n",
              "      <td>False</td>\n",
              "      <td>False</td>\n",
              "      <td>True</td>\n",
              "      <td>False</td>\n",
              "      <td>False</td>\n",
              "      <td>False</td>\n",
              "      <td>False</td>\n",
              "      <td>True</td>\n",
              "      <td>False</td>\n",
              "      <td>False</td>\n",
              "      <td>False</td>\n",
              "      <td>False</td>\n",
              "      <td>False</td>\n",
              "      <td>False</td>\n",
              "      <td>False</td>\n",
              "      <td>False</td>\n",
              "      <td>False</td>\n",
              "      <td>False</td>\n",
              "      <td>False</td>\n",
              "      <td>False</td>\n",
              "      <td>False</td>\n",
              "      <td>False</td>\n",
              "      <td>False</td>\n",
              "      <td>False</td>\n",
              "      <td>False</td>\n",
              "      <td>False</td>\n",
              "      <td>False</td>\n",
              "    </tr>\n",
              "    <tr>\n",
              "      <th>3</th>\n",
              "      <td>False</td>\n",
              "      <td>False</td>\n",
              "      <td>False</td>\n",
              "      <td>False</td>\n",
              "      <td>False</td>\n",
              "      <td>False</td>\n",
              "      <td>False</td>\n",
              "      <td>False</td>\n",
              "      <td>False</td>\n",
              "      <td>False</td>\n",
              "      <td>True</td>\n",
              "      <td>False</td>\n",
              "      <td>False</td>\n",
              "      <td>False</td>\n",
              "      <td>False</td>\n",
              "      <td>False</td>\n",
              "      <td>False</td>\n",
              "      <td>False</td>\n",
              "      <td>False</td>\n",
              "      <td>False</td>\n",
              "      <td>False</td>\n",
              "      <td>False</td>\n",
              "      <td>True</td>\n",
              "      <td>False</td>\n",
              "      <td>False</td>\n",
              "      <td>False</td>\n",
              "      <td>False</td>\n",
              "      <td>True</td>\n",
              "      <td>False</td>\n",
              "      <td>False</td>\n",
              "      <td>False</td>\n",
              "      <td>False</td>\n",
              "      <td>False</td>\n",
              "      <td>False</td>\n",
              "      <td>False</td>\n",
              "      <td>False</td>\n",
              "      <td>False</td>\n",
              "      <td>False</td>\n",
              "      <td>False</td>\n",
              "      <td>False</td>\n",
              "      <td>False</td>\n",
              "      <td>False</td>\n",
              "      <td>False</td>\n",
              "      <td>False</td>\n",
              "      <td>False</td>\n",
              "      <td>False</td>\n",
              "      <td>False</td>\n",
              "    </tr>\n",
              "    <tr>\n",
              "      <th>4</th>\n",
              "      <td>False</td>\n",
              "      <td>False</td>\n",
              "      <td>False</td>\n",
              "      <td>False</td>\n",
              "      <td>False</td>\n",
              "      <td>False</td>\n",
              "      <td>False</td>\n",
              "      <td>False</td>\n",
              "      <td>False</td>\n",
              "      <td>False</td>\n",
              "      <td>True</td>\n",
              "      <td>False</td>\n",
              "      <td>False</td>\n",
              "      <td>False</td>\n",
              "      <td>False</td>\n",
              "      <td>False</td>\n",
              "      <td>False</td>\n",
              "      <td>False</td>\n",
              "      <td>False</td>\n",
              "      <td>False</td>\n",
              "      <td>False</td>\n",
              "      <td>False</td>\n",
              "      <td>True</td>\n",
              "      <td>False</td>\n",
              "      <td>False</td>\n",
              "      <td>False</td>\n",
              "      <td>False</td>\n",
              "      <td>True</td>\n",
              "      <td>True</td>\n",
              "      <td>False</td>\n",
              "      <td>False</td>\n",
              "      <td>False</td>\n",
              "      <td>False</td>\n",
              "      <td>False</td>\n",
              "      <td>False</td>\n",
              "      <td>False</td>\n",
              "      <td>False</td>\n",
              "      <td>False</td>\n",
              "      <td>False</td>\n",
              "      <td>False</td>\n",
              "      <td>False</td>\n",
              "      <td>False</td>\n",
              "      <td>False</td>\n",
              "      <td>False</td>\n",
              "      <td>False</td>\n",
              "      <td>False</td>\n",
              "      <td>False</td>\n",
              "    </tr>\n",
              "    <tr>\n",
              "      <th>...</th>\n",
              "      <td>...</td>\n",
              "      <td>...</td>\n",
              "      <td>...</td>\n",
              "      <td>...</td>\n",
              "      <td>...</td>\n",
              "      <td>...</td>\n",
              "      <td>...</td>\n",
              "      <td>...</td>\n",
              "      <td>...</td>\n",
              "      <td>...</td>\n",
              "      <td>...</td>\n",
              "      <td>...</td>\n",
              "      <td>...</td>\n",
              "      <td>...</td>\n",
              "      <td>...</td>\n",
              "      <td>...</td>\n",
              "      <td>...</td>\n",
              "      <td>...</td>\n",
              "      <td>...</td>\n",
              "      <td>...</td>\n",
              "      <td>...</td>\n",
              "      <td>...</td>\n",
              "      <td>...</td>\n",
              "      <td>...</td>\n",
              "      <td>...</td>\n",
              "      <td>...</td>\n",
              "      <td>...</td>\n",
              "      <td>...</td>\n",
              "      <td>...</td>\n",
              "      <td>...</td>\n",
              "      <td>...</td>\n",
              "      <td>...</td>\n",
              "      <td>...</td>\n",
              "      <td>...</td>\n",
              "      <td>...</td>\n",
              "      <td>...</td>\n",
              "      <td>...</td>\n",
              "      <td>...</td>\n",
              "      <td>...</td>\n",
              "      <td>...</td>\n",
              "      <td>...</td>\n",
              "      <td>...</td>\n",
              "      <td>...</td>\n",
              "      <td>...</td>\n",
              "      <td>...</td>\n",
              "      <td>...</td>\n",
              "      <td>...</td>\n",
              "    </tr>\n",
              "    <tr>\n",
              "      <th>1516059</th>\n",
              "      <td>False</td>\n",
              "      <td>False</td>\n",
              "      <td>False</td>\n",
              "      <td>False</td>\n",
              "      <td>False</td>\n",
              "      <td>False</td>\n",
              "      <td>False</td>\n",
              "      <td>False</td>\n",
              "      <td>False</td>\n",
              "      <td>False</td>\n",
              "      <td>True</td>\n",
              "      <td>False</td>\n",
              "      <td>False</td>\n",
              "      <td>False</td>\n",
              "      <td>False</td>\n",
              "      <td>False</td>\n",
              "      <td>False</td>\n",
              "      <td>False</td>\n",
              "      <td>False</td>\n",
              "      <td>False</td>\n",
              "      <td>False</td>\n",
              "      <td>False</td>\n",
              "      <td>False</td>\n",
              "      <td>False</td>\n",
              "      <td>False</td>\n",
              "      <td>False</td>\n",
              "      <td>False</td>\n",
              "      <td>False</td>\n",
              "      <td>False</td>\n",
              "      <td>False</td>\n",
              "      <td>False</td>\n",
              "      <td>False</td>\n",
              "      <td>False</td>\n",
              "      <td>False</td>\n",
              "      <td>False</td>\n",
              "      <td>False</td>\n",
              "      <td>False</td>\n",
              "      <td>False</td>\n",
              "      <td>False</td>\n",
              "      <td>False</td>\n",
              "      <td>False</td>\n",
              "      <td>False</td>\n",
              "      <td>False</td>\n",
              "      <td>False</td>\n",
              "      <td>False</td>\n",
              "      <td>False</td>\n",
              "      <td>False</td>\n",
              "    </tr>\n",
              "    <tr>\n",
              "      <th>1516060</th>\n",
              "      <td>False</td>\n",
              "      <td>False</td>\n",
              "      <td>False</td>\n",
              "      <td>False</td>\n",
              "      <td>False</td>\n",
              "      <td>False</td>\n",
              "      <td>False</td>\n",
              "      <td>False</td>\n",
              "      <td>False</td>\n",
              "      <td>False</td>\n",
              "      <td>True</td>\n",
              "      <td>False</td>\n",
              "      <td>False</td>\n",
              "      <td>False</td>\n",
              "      <td>False</td>\n",
              "      <td>False</td>\n",
              "      <td>False</td>\n",
              "      <td>False</td>\n",
              "      <td>False</td>\n",
              "      <td>False</td>\n",
              "      <td>False</td>\n",
              "      <td>False</td>\n",
              "      <td>False</td>\n",
              "      <td>False</td>\n",
              "      <td>False</td>\n",
              "      <td>False</td>\n",
              "      <td>False</td>\n",
              "      <td>False</td>\n",
              "      <td>False</td>\n",
              "      <td>False</td>\n",
              "      <td>False</td>\n",
              "      <td>False</td>\n",
              "      <td>False</td>\n",
              "      <td>False</td>\n",
              "      <td>False</td>\n",
              "      <td>False</td>\n",
              "      <td>False</td>\n",
              "      <td>False</td>\n",
              "      <td>False</td>\n",
              "      <td>False</td>\n",
              "      <td>False</td>\n",
              "      <td>False</td>\n",
              "      <td>False</td>\n",
              "      <td>False</td>\n",
              "      <td>False</td>\n",
              "      <td>False</td>\n",
              "      <td>False</td>\n",
              "    </tr>\n",
              "    <tr>\n",
              "      <th>1516061</th>\n",
              "      <td>False</td>\n",
              "      <td>False</td>\n",
              "      <td>False</td>\n",
              "      <td>False</td>\n",
              "      <td>False</td>\n",
              "      <td>False</td>\n",
              "      <td>False</td>\n",
              "      <td>False</td>\n",
              "      <td>False</td>\n",
              "      <td>False</td>\n",
              "      <td>True</td>\n",
              "      <td>False</td>\n",
              "      <td>False</td>\n",
              "      <td>False</td>\n",
              "      <td>False</td>\n",
              "      <td>False</td>\n",
              "      <td>False</td>\n",
              "      <td>False</td>\n",
              "      <td>False</td>\n",
              "      <td>False</td>\n",
              "      <td>False</td>\n",
              "      <td>False</td>\n",
              "      <td>False</td>\n",
              "      <td>False</td>\n",
              "      <td>False</td>\n",
              "      <td>False</td>\n",
              "      <td>False</td>\n",
              "      <td>False</td>\n",
              "      <td>False</td>\n",
              "      <td>False</td>\n",
              "      <td>False</td>\n",
              "      <td>False</td>\n",
              "      <td>False</td>\n",
              "      <td>False</td>\n",
              "      <td>False</td>\n",
              "      <td>False</td>\n",
              "      <td>False</td>\n",
              "      <td>False</td>\n",
              "      <td>False</td>\n",
              "      <td>False</td>\n",
              "      <td>False</td>\n",
              "      <td>False</td>\n",
              "      <td>False</td>\n",
              "      <td>False</td>\n",
              "      <td>False</td>\n",
              "      <td>False</td>\n",
              "      <td>False</td>\n",
              "    </tr>\n",
              "    <tr>\n",
              "      <th>1516062</th>\n",
              "      <td>False</td>\n",
              "      <td>False</td>\n",
              "      <td>False</td>\n",
              "      <td>False</td>\n",
              "      <td>False</td>\n",
              "      <td>False</td>\n",
              "      <td>False</td>\n",
              "      <td>False</td>\n",
              "      <td>False</td>\n",
              "      <td>False</td>\n",
              "      <td>True</td>\n",
              "      <td>False</td>\n",
              "      <td>False</td>\n",
              "      <td>False</td>\n",
              "      <td>False</td>\n",
              "      <td>False</td>\n",
              "      <td>False</td>\n",
              "      <td>False</td>\n",
              "      <td>False</td>\n",
              "      <td>False</td>\n",
              "      <td>False</td>\n",
              "      <td>False</td>\n",
              "      <td>False</td>\n",
              "      <td>False</td>\n",
              "      <td>False</td>\n",
              "      <td>False</td>\n",
              "      <td>False</td>\n",
              "      <td>False</td>\n",
              "      <td>False</td>\n",
              "      <td>False</td>\n",
              "      <td>False</td>\n",
              "      <td>False</td>\n",
              "      <td>False</td>\n",
              "      <td>False</td>\n",
              "      <td>False</td>\n",
              "      <td>False</td>\n",
              "      <td>False</td>\n",
              "      <td>False</td>\n",
              "      <td>False</td>\n",
              "      <td>False</td>\n",
              "      <td>False</td>\n",
              "      <td>False</td>\n",
              "      <td>False</td>\n",
              "      <td>False</td>\n",
              "      <td>False</td>\n",
              "      <td>False</td>\n",
              "      <td>False</td>\n",
              "    </tr>\n",
              "    <tr>\n",
              "      <th>1516063</th>\n",
              "      <td>False</td>\n",
              "      <td>False</td>\n",
              "      <td>False</td>\n",
              "      <td>False</td>\n",
              "      <td>False</td>\n",
              "      <td>False</td>\n",
              "      <td>False</td>\n",
              "      <td>False</td>\n",
              "      <td>False</td>\n",
              "      <td>False</td>\n",
              "      <td>True</td>\n",
              "      <td>False</td>\n",
              "      <td>False</td>\n",
              "      <td>False</td>\n",
              "      <td>False</td>\n",
              "      <td>False</td>\n",
              "      <td>False</td>\n",
              "      <td>False</td>\n",
              "      <td>False</td>\n",
              "      <td>False</td>\n",
              "      <td>False</td>\n",
              "      <td>False</td>\n",
              "      <td>False</td>\n",
              "      <td>False</td>\n",
              "      <td>False</td>\n",
              "      <td>False</td>\n",
              "      <td>False</td>\n",
              "      <td>False</td>\n",
              "      <td>False</td>\n",
              "      <td>False</td>\n",
              "      <td>False</td>\n",
              "      <td>False</td>\n",
              "      <td>False</td>\n",
              "      <td>False</td>\n",
              "      <td>False</td>\n",
              "      <td>False</td>\n",
              "      <td>False</td>\n",
              "      <td>False</td>\n",
              "      <td>False</td>\n",
              "      <td>False</td>\n",
              "      <td>False</td>\n",
              "      <td>False</td>\n",
              "      <td>False</td>\n",
              "      <td>False</td>\n",
              "      <td>False</td>\n",
              "      <td>False</td>\n",
              "      <td>False</td>\n",
              "    </tr>\n",
              "  </tbody>\n",
              "</table>\n",
              "<p>1516064 rows × 47 columns</p>\n",
              "</div>\n",
              "      <button class=\"colab-df-convert\" onclick=\"convertToInteractive('df-afb97627-cbea-4ae9-b534-96d0f154cb87')\"\n",
              "              title=\"Convert this dataframe to an interactive table.\"\n",
              "              style=\"display:none;\">\n",
              "        \n",
              "  <svg xmlns=\"http://www.w3.org/2000/svg\" height=\"24px\"viewBox=\"0 0 24 24\"\n",
              "       width=\"24px\">\n",
              "    <path d=\"M0 0h24v24H0V0z\" fill=\"none\"/>\n",
              "    <path d=\"M18.56 5.44l.94 2.06.94-2.06 2.06-.94-2.06-.94-.94-2.06-.94 2.06-2.06.94zm-11 1L8.5 8.5l.94-2.06 2.06-.94-2.06-.94L8.5 2.5l-.94 2.06-2.06.94zm10 10l.94 2.06.94-2.06 2.06-.94-2.06-.94-.94-2.06-.94 2.06-2.06.94z\"/><path d=\"M17.41 7.96l-1.37-1.37c-.4-.4-.92-.59-1.43-.59-.52 0-1.04.2-1.43.59L10.3 9.45l-7.72 7.72c-.78.78-.78 2.05 0 2.83L4 21.41c.39.39.9.59 1.41.59.51 0 1.02-.2 1.41-.59l7.78-7.78 2.81-2.81c.8-.78.8-2.07 0-2.86zM5.41 20L4 18.59l7.72-7.72 1.47 1.35L5.41 20z\"/>\n",
              "  </svg>\n",
              "      </button>\n",
              "      \n",
              "  <style>\n",
              "    .colab-df-container {\n",
              "      display:flex;\n",
              "      flex-wrap:wrap;\n",
              "      gap: 12px;\n",
              "    }\n",
              "\n",
              "    .colab-df-convert {\n",
              "      background-color: #E8F0FE;\n",
              "      border: none;\n",
              "      border-radius: 50%;\n",
              "      cursor: pointer;\n",
              "      display: none;\n",
              "      fill: #1967D2;\n",
              "      height: 32px;\n",
              "      padding: 0 0 0 0;\n",
              "      width: 32px;\n",
              "    }\n",
              "\n",
              "    .colab-df-convert:hover {\n",
              "      background-color: #E2EBFA;\n",
              "      box-shadow: 0px 1px 2px rgba(60, 64, 67, 0.3), 0px 1px 3px 1px rgba(60, 64, 67, 0.15);\n",
              "      fill: #174EA6;\n",
              "    }\n",
              "\n",
              "    [theme=dark] .colab-df-convert {\n",
              "      background-color: #3B4455;\n",
              "      fill: #D2E3FC;\n",
              "    }\n",
              "\n",
              "    [theme=dark] .colab-df-convert:hover {\n",
              "      background-color: #434B5C;\n",
              "      box-shadow: 0px 1px 3px 1px rgba(0, 0, 0, 0.15);\n",
              "      filter: drop-shadow(0px 1px 2px rgba(0, 0, 0, 0.3));\n",
              "      fill: #FFFFFF;\n",
              "    }\n",
              "  </style>\n",
              "\n",
              "      <script>\n",
              "        const buttonEl =\n",
              "          document.querySelector('#df-afb97627-cbea-4ae9-b534-96d0f154cb87 button.colab-df-convert');\n",
              "        buttonEl.style.display =\n",
              "          google.colab.kernel.accessAllowed ? 'block' : 'none';\n",
              "\n",
              "        async function convertToInteractive(key) {\n",
              "          const element = document.querySelector('#df-afb97627-cbea-4ae9-b534-96d0f154cb87');\n",
              "          const dataTable =\n",
              "            await google.colab.kernel.invokeFunction('convertToInteractive',\n",
              "                                                     [key], {});\n",
              "          if (!dataTable) return;\n",
              "\n",
              "          const docLinkHtml = 'Like what you see? Visit the ' +\n",
              "            '<a target=\"_blank\" href=https://colab.research.google.com/notebooks/data_table.ipynb>data table notebook</a>'\n",
              "            + ' to learn more about interactive tables.';\n",
              "          element.innerHTML = '';\n",
              "          dataTable['output_type'] = 'display_data';\n",
              "          await google.colab.output.renderOutput(dataTable, element);\n",
              "          const docLink = document.createElement('div');\n",
              "          docLink.innerHTML = docLinkHtml;\n",
              "          element.appendChild(docLink);\n",
              "        }\n",
              "      </script>\n",
              "    </div>\n",
              "  </div>\n",
              "  "
            ],
            "text/plain": [
              "            ID  Severity  ...  Nautical_Twilight  Astronomical_Twilight\n",
              "0        False     False  ...              False                  False\n",
              "1        False     False  ...              False                  False\n",
              "2        False     False  ...              False                  False\n",
              "3        False     False  ...              False                  False\n",
              "4        False     False  ...              False                  False\n",
              "...        ...       ...  ...                ...                    ...\n",
              "1516059  False     False  ...              False                  False\n",
              "1516060  False     False  ...              False                  False\n",
              "1516061  False     False  ...              False                  False\n",
              "1516062  False     False  ...              False                  False\n",
              "1516063  False     False  ...              False                  False\n",
              "\n",
              "[1516064 rows x 47 columns]"
            ]
          },
          "metadata": {},
          "execution_count": 16
        }
      ]
    },
    {
      "cell_type": "code",
      "source": [
        "df.isna().sum()"
      ],
      "metadata": {
        "colab": {
          "base_uri": "https://localhost:8080/"
        },
        "id": "giaDaBclINyn",
        "outputId": "d083de77-e97a-4075-f815-7876b96477f7"
      },
      "execution_count": null,
      "outputs": [
        {
          "output_type": "execute_result",
          "data": {
            "text/plain": [
              "ID                             0\n",
              "Severity                       0\n",
              "Start_Time                     0\n",
              "End_Time                       0\n",
              "Start_Lat                      0\n",
              "Start_Lng                      0\n",
              "End_Lat                        0\n",
              "End_Lng                        0\n",
              "Distance(mi)                   0\n",
              "Description                    0\n",
              "Number                   1046095\n",
              "Street                         0\n",
              "Side                           0\n",
              "City                          83\n",
              "County                         0\n",
              "State                          0\n",
              "Zipcode                      935\n",
              "Country                        0\n",
              "Timezone                    2302\n",
              "Airport_Code                4248\n",
              "Weather_Timestamp          30264\n",
              "Temperature(F)             43033\n",
              "Wind_Chill(F)             449316\n",
              "Humidity(%)                45509\n",
              "Pressure(in)               36274\n",
              "Visibility(mi)             44211\n",
              "Wind_Direction             41858\n",
              "Wind_Speed(mph)           128862\n",
              "Precipitation(in)         510549\n",
              "Weather_Condition          44007\n",
              "Amenity                        0\n",
              "Bump                           0\n",
              "Crossing                       0\n",
              "Give_Way                       0\n",
              "Junction                       0\n",
              "No_Exit                        0\n",
              "Railway                        0\n",
              "Roundabout                     0\n",
              "Station                        0\n",
              "Stop                           0\n",
              "Traffic_Calming                0\n",
              "Traffic_Signal                 0\n",
              "Turning_Loop                   0\n",
              "Sunrise_Sunset                83\n",
              "Civil_Twilight                83\n",
              "Nautical_Twilight             83\n",
              "Astronomical_Twilight         83\n",
              "dtype: int64"
            ]
          },
          "metadata": {},
          "execution_count": 17
        }
      ]
    },
    {
      "cell_type": "code",
      "source": [
        "df.isna().sum().sort_values(ascending=False)"
      ],
      "metadata": {
        "colab": {
          "base_uri": "https://localhost:8080/"
        },
        "id": "61rZh_LoIcnn",
        "outputId": "7383a70a-7a4a-4a2b-ae78-f2a9eb6a6d13"
      },
      "execution_count": null,
      "outputs": [
        {
          "output_type": "execute_result",
          "data": {
            "text/plain": [
              "Number                   1046095\n",
              "Precipitation(in)         510549\n",
              "Wind_Chill(F)             449316\n",
              "Wind_Speed(mph)           128862\n",
              "Humidity(%)                45509\n",
              "Visibility(mi)             44211\n",
              "Weather_Condition          44007\n",
              "Temperature(F)             43033\n",
              "Wind_Direction             41858\n",
              "Pressure(in)               36274\n",
              "Weather_Timestamp          30264\n",
              "Airport_Code                4248\n",
              "Timezone                    2302\n",
              "Zipcode                      935\n",
              "City                          83\n",
              "Nautical_Twilight             83\n",
              "Astronomical_Twilight         83\n",
              "Civil_Twilight                83\n",
              "Sunrise_Sunset                83\n",
              "Amenity                        0\n",
              "Bump                           0\n",
              "Severity                       0\n",
              "Start_Time                     0\n",
              "End_Time                       0\n",
              "Start_Lat                      0\n",
              "Start_Lng                      0\n",
              "End_Lat                        0\n",
              "End_Lng                        0\n",
              "Distance(mi)                   0\n",
              "Description                    0\n",
              "Street                         0\n",
              "Side                           0\n",
              "County                         0\n",
              "State                          0\n",
              "Turning_Loop                   0\n",
              "Country                        0\n",
              "Traffic_Signal                 0\n",
              "Traffic_Calming                0\n",
              "Stop                           0\n",
              "Station                        0\n",
              "Roundabout                     0\n",
              "Railway                        0\n",
              "No_Exit                        0\n",
              "Junction                       0\n",
              "Give_Way                       0\n",
              "Crossing                       0\n",
              "ID                             0\n",
              "dtype: int64"
            ]
          },
          "metadata": {},
          "execution_count": 21
        }
      ]
    },
    {
      "cell_type": "markdown",
      "source": [
        "# Finding and plotting missing percentages inorder to have a better understanding"
      ],
      "metadata": {
        "id": "IhZurx3CJI7r"
      }
    },
    {
      "cell_type": "code",
      "source": [
        "missing_percentages=df.isna().sum().sort_values(ascending=False)/len(df)\n",
        "missing_percentages"
      ],
      "metadata": {
        "colab": {
          "base_uri": "https://localhost:8080/"
        },
        "id": "XgurnAyFINqX",
        "outputId": "30b263d0-05ea-4e12-dfb8-28b96cc5912e"
      },
      "execution_count": null,
      "outputs": [
        {
          "output_type": "execute_result",
          "data": {
            "text/plain": [
              "Number                   0.690007\n",
              "Precipitation(in)        0.336760\n",
              "Wind_Chill(F)            0.296370\n",
              "Wind_Speed(mph)          0.084998\n",
              "Humidity(%)              0.030018\n",
              "Visibility(mi)           0.029162\n",
              "Weather_Condition        0.029027\n",
              "Temperature(F)           0.028385\n",
              "Wind_Direction           0.027610\n",
              "Pressure(in)             0.023926\n",
              "Weather_Timestamp        0.019962\n",
              "Airport_Code             0.002802\n",
              "Timezone                 0.001518\n",
              "Zipcode                  0.000617\n",
              "City                     0.000055\n",
              "Nautical_Twilight        0.000055\n",
              "Astronomical_Twilight    0.000055\n",
              "Civil_Twilight           0.000055\n",
              "Sunrise_Sunset           0.000055\n",
              "Amenity                  0.000000\n",
              "Bump                     0.000000\n",
              "Severity                 0.000000\n",
              "Start_Time               0.000000\n",
              "End_Time                 0.000000\n",
              "Start_Lat                0.000000\n",
              "Start_Lng                0.000000\n",
              "End_Lat                  0.000000\n",
              "End_Lng                  0.000000\n",
              "Distance(mi)             0.000000\n",
              "Description              0.000000\n",
              "Street                   0.000000\n",
              "Side                     0.000000\n",
              "County                   0.000000\n",
              "State                    0.000000\n",
              "Turning_Loop             0.000000\n",
              "Country                  0.000000\n",
              "Traffic_Signal           0.000000\n",
              "Traffic_Calming          0.000000\n",
              "Stop                     0.000000\n",
              "Station                  0.000000\n",
              "Roundabout               0.000000\n",
              "Railway                  0.000000\n",
              "No_Exit                  0.000000\n",
              "Junction                 0.000000\n",
              "Give_Way                 0.000000\n",
              "Crossing                 0.000000\n",
              "ID                       0.000000\n",
              "dtype: float64"
            ]
          },
          "metadata": {},
          "execution_count": 23
        }
      ]
    },
    {
      "cell_type": "code",
      "source": [
        "type(missing_percentages)"
      ],
      "metadata": {
        "colab": {
          "base_uri": "https://localhost:8080/"
        },
        "id": "zBVWFQeBKXqV",
        "outputId": "5ef87985-ce6b-4089-9600-9dea36681d89"
      },
      "execution_count": null,
      "outputs": [
        {
          "output_type": "execute_result",
          "data": {
            "text/plain": [
              "pandas.core.series.Series"
            ]
          },
          "metadata": {},
          "execution_count": 30
        }
      ]
    },
    {
      "cell_type": "code",
      "source": [
        "missing_percentages.plot(kind='barh')"
      ],
      "metadata": {
        "colab": {
          "base_uri": "https://localhost:8080/",
          "height": 284
        },
        "id": "088y6BXLKovr",
        "outputId": "fe34abd0-165d-41e4-d396-5550e54b35d3"
      },
      "execution_count": null,
      "outputs": [
        {
          "output_type": "execute_result",
          "data": {
            "text/plain": [
              "<matplotlib.axes._subplots.AxesSubplot at 0x7fc6a698b790>"
            ]
          },
          "metadata": {},
          "execution_count": 31
        },
        {
          "output_type": "display_data",
          "data": {
            "image/png": "[encoded data removed]",
            "text/plain": [
              "<Figure size 432x288 with 1 Axes>"
            ]
          },
          "metadata": {
            "needs_background": "light"
          }
        }
      ]
    },
    {
      "cell_type": "markdown",
      "source": [
        "- Remove the columns which are not needed"
      ],
      "metadata": {
        "id": "-rXco21rJnFm"
      }
    },
    {
      "cell_type": "code",
      "source": [
        "missing_percentages!=0"
      ],
      "metadata": {
        "colab": {
          "base_uri": "https://localhost:8080/"
        },
        "id": "Tr5nhp0IINl4",
        "outputId": "a8b40010-1303-4f03-a86a-2f43368c18e4"
      },
      "execution_count": null,
      "outputs": [
        {
          "output_type": "execute_result",
          "data": {
            "text/plain": [
              "Number                    True\n",
              "Precipitation(in)         True\n",
              "Wind_Chill(F)             True\n",
              "Wind_Speed(mph)           True\n",
              "Humidity(%)               True\n",
              "Visibility(mi)            True\n",
              "Weather_Condition         True\n",
              "Temperature(F)            True\n",
              "Wind_Direction            True\n",
              "Pressure(in)              True\n",
              "Weather_Timestamp         True\n",
              "Airport_Code              True\n",
              "Timezone                  True\n",
              "Zipcode                   True\n",
              "City                      True\n",
              "Nautical_Twilight         True\n",
              "Astronomical_Twilight     True\n",
              "Civil_Twilight            True\n",
              "Sunrise_Sunset            True\n",
              "Amenity                  False\n",
              "Bump                     False\n",
              "Severity                 False\n",
              "Start_Time               False\n",
              "End_Time                 False\n",
              "Start_Lat                False\n",
              "Start_Lng                False\n",
              "End_Lat                  False\n",
              "End_Lng                  False\n",
              "Distance(mi)             False\n",
              "Description              False\n",
              "Street                   False\n",
              "Side                     False\n",
              "County                   False\n",
              "State                    False\n",
              "Turning_Loop             False\n",
              "Country                  False\n",
              "Traffic_Signal           False\n",
              "Traffic_Calming          False\n",
              "Stop                     False\n",
              "Station                  False\n",
              "Roundabout               False\n",
              "Railway                  False\n",
              "No_Exit                  False\n",
              "Junction                 False\n",
              "Give_Way                 False\n",
              "Crossing                 False\n",
              "ID                       False\n",
              "dtype: bool"
            ]
          },
          "metadata": {},
          "execution_count": 25
        }
      ]
    },
    {
      "cell_type": "code",
      "source": [
        "missing_percentages[missing_percentages!=0]"
      ],
      "metadata": {
        "colab": {
          "base_uri": "https://localhost:8080/"
        },
        "id": "mo8KAny3J3Xo",
        "outputId": "fc5c8454-a9db-4555-99a9-08e8e9d16142"
      },
      "execution_count": null,
      "outputs": [
        {
          "output_type": "execute_result",
          "data": {
            "text/plain": [
              "Number                   0.690007\n",
              "Precipitation(in)        0.336760\n",
              "Wind_Chill(F)            0.296370\n",
              "Wind_Speed(mph)          0.084998\n",
              "Humidity(%)              0.030018\n",
              "Visibility(mi)           0.029162\n",
              "Weather_Condition        0.029027\n",
              "Temperature(F)           0.028385\n",
              "Wind_Direction           0.027610\n",
              "Pressure(in)             0.023926\n",
              "Weather_Timestamp        0.019962\n",
              "Airport_Code             0.002802\n",
              "Timezone                 0.001518\n",
              "Zipcode                  0.000617\n",
              "City                     0.000055\n",
              "Nautical_Twilight        0.000055\n",
              "Astronomical_Twilight    0.000055\n",
              "Civil_Twilight           0.000055\n",
              "Sunrise_Sunset           0.000055\n",
              "dtype: float64"
            ]
          },
          "metadata": {},
          "execution_count": 26
        }
      ]
    },
    {
      "cell_type": "code",
      "source": [
        "missing_percentages[missing_percentages!=0].plot(kind='barh')"
      ],
      "metadata": {
        "colab": {
          "base_uri": "https://localhost:8080/",
          "height": 282
        },
        "id": "pW1tPX4sINjN",
        "outputId": "80c911d7-62ed-40b5-b4bd-ec0bcd4056e5"
      },
      "execution_count": null,
      "outputs": [
        {
          "output_type": "execute_result",
          "data": {
            "text/plain": [
              "<matplotlib.axes._subplots.AxesSubplot at 0x7fc6a67117d0>"
            ]
          },
          "metadata": {},
          "execution_count": 33
        },
        {
          "output_type": "display_data",
          "data": {
            "image/png": "[encoded data removed]",
            "text/plain": [
              "<Figure size 432x288 with 1 Axes>"
            ]
          },
          "metadata": {
            "needs_background": "light"
          }
        }
      ]
    },
    {
      "cell_type": "markdown",
      "source": [
        "- If we see something is missing half of the time then it is probabaly not that useful cause it might not apply to half of the data, we can skip from analysis"
      ],
      "metadata": {
        "id": "I8KswOAUK-5Z"
      }
    },
    {
      "cell_type": "code",
      "source": [
        ""
      ],
      "metadata": {
        "id": "mPVO7hNpINWW"
      },
      "execution_count": null,
      "outputs": []
    },
    {
      "cell_type": "markdown",
      "source": [
        "# Exploratory Analysis and Visualization\n",
        "- we'll pick four or five columns and plot to see how they look like\n",
        "- cause we can't analyse all of the columns\n",
        "- depending upon the project we pick them wherein we'll be given a problem statement"
      ],
      "metadata": {
        "id": "x0R6Dcs3LfsQ"
      }
    },
    {
      "cell_type": "markdown",
      "source": [
        "# we'll analyse\n",
        "1. City\n",
        "2. Start time\n",
        "3. Start lat,Start lng\n",
        "4. Temperature\n",
        "5. Weather condition"
      ],
      "metadata": {
        "id": "EN93c6B3LvQN"
      }
    },
    {
      "cell_type": "markdown",
      "source": [
        "## City Analysis"
      ],
      "metadata": {
        "id": "SEGG4uGXMrPt"
      }
    },
    {
      "cell_type": "code",
      "source": [
        "cities=df['City']\n",
        "cities"
      ],
      "metadata": {
        "colab": {
          "base_uri": "https://localhost:8080/"
        },
        "id": "RFC9OspTINRm",
        "outputId": "c5b06026-7b22-4aac-cdaf-553b204baebe"
      },
      "execution_count": null,
      "outputs": [
        {
          "output_type": "execute_result",
          "data": {
            "text/plain": [
              "0               Dublin\n",
              "1               Dayton\n",
              "2           Cincinnati\n",
              "3           Cincinnati\n",
              "4                Akron\n",
              "              ...     \n",
              "1516059      Riverside\n",
              "1516060      San Diego\n",
              "1516061         Orange\n",
              "1516062    Culver City\n",
              "1516063       Highland\n",
              "Name: City, Length: 1516064, dtype: object"
            ]
          },
          "metadata": {},
          "execution_count": 36
        }
      ]
    },
    {
      "cell_type": "code",
      "source": [
        "cities=df['City'].unique()\n",
        "len(cities)"
      ],
      "metadata": {
        "colab": {
          "base_uri": "https://localhost:8080/"
        },
        "id": "FWB8kYoyINPE",
        "outputId": "f36f2a92-5f27-400b-fd5f-7b81026974a3"
      },
      "execution_count": null,
      "outputs": [
        {
          "output_type": "execute_result",
          "data": {
            "text/plain": [
              "10658"
            ]
          },
          "metadata": {},
          "execution_count": 40
        }
      ]
    },
    {
      "cell_type": "markdown",
      "source": [
        "# we'll analyse top 5 cities with most accidents as we can't analyse all the 10k cities"
      ],
      "metadata": {
        "id": "enrGHG7qMcNy"
      }
    },
    {
      "cell_type": "markdown",
      "source": [
        "###.value_counts() is used to count the unique occurences of  values\n",
        "- we are trying to get the top 5 five cities with most num of accidents\n",
        "- the below cell is num of accidents per city"
      ],
      "metadata": {
        "id": "5fPhDkuWM4RO"
      }
    },
    {
      "cell_type": "code",
      "source": [
        "cities_by_accidents=df['City'].value_counts()\n",
        "cities_by_accidents"
      ],
      "metadata": {
        "colab": {
          "base_uri": "https://localhost:8080/"
        },
        "id": "ZsRrgfdBINH4",
        "outputId": "2626ff89-f784-471a-cbff-b7d1434f40a7"
      },
      "execution_count": null,
      "outputs": [
        {
          "output_type": "execute_result",
          "data": {
            "text/plain": [
              "Los Angeles    39984\n",
              "Miami          36233\n",
              "Charlotte      22203\n",
              "Houston        20843\n",
              "Dallas         19497\n",
              "               ...  \n",
              "Ocean              1\n",
              "Guntown            1\n",
              "Skamokawa          1\n",
              "Free Soil          1\n",
              "Gabbs              1\n",
              "Name: City, Length: 10657, dtype: int64"
            ]
          },
          "metadata": {},
          "execution_count": 41
        }
      ]
    },
    {
      "cell_type": "code",
      "source": [
        "cities_by_accidents[:20]"
      ],
      "metadata": {
        "colab": {
          "base_uri": "https://localhost:8080/"
        },
        "id": "MG2i-2x4INGJ",
        "outputId": "dea2d14f-65da-4ff6-eae8-2bdc1c715545"
      },
      "execution_count": null,
      "outputs": [
        {
          "output_type": "execute_result",
          "data": {
            "text/plain": [
              "Los Angeles     39984\n",
              "Miami           36233\n",
              "Charlotte       22203\n",
              "Houston         20843\n",
              "Dallas          19497\n",
              "Sacramento      18431\n",
              "Orlando         16169\n",
              "Portland        14805\n",
              "San Diego       14090\n",
              "Minneapolis     12653\n",
              "Atlanta         11854\n",
              "Chicago         11507\n",
              "Saint Paul      10084\n",
              "Phoenix          9934\n",
              "Raleigh          9516\n",
              "San Jose         9362\n",
              "Richmond         8472\n",
              "Nashville        8381\n",
              "Riverside        8201\n",
              "Jacksonville     7815\n",
              "Name: City, dtype: int64"
            ]
          },
          "metadata": {},
          "execution_count": 44
        }
      ]
    },
    {
      "cell_type": "code",
      "source": [
        "cities_by_accidents[:20].plot(kind='barh')"
      ],
      "metadata": {
        "colab": {
          "base_uri": "https://localhost:8080/",
          "height": 282
        },
        "id": "sjfMCqJPACfq",
        "outputId": "daaaed29-8541-49b4-a8d2-7ee39664f209"
      },
      "execution_count": null,
      "outputs": [
        {
          "output_type": "execute_result",
          "data": {
            "text/plain": [
              "<matplotlib.axes._subplots.AxesSubplot at 0x7fc6a6408850>"
            ]
          },
          "metadata": {},
          "execution_count": 50
        },
        {
          "output_type": "display_data",
          "data": {
            "image/png": "[encoded data removed]",
            "text/plain": [
              "<Figure size 432x288 with 1 Axes>"
            ]
          },
          "metadata": {
            "needs_background": "light"
          }
        }
      ]
    },
    {
      "cell_type": "code",
      "source": [
        ""
      ],
      "metadata": {
        "id": "isOHC390ACdS"
      },
      "execution_count": null,
      "outputs": []
    },
    {
      "cell_type": "markdown",
      "source": [
        "# we need to cross check with the real data inorder to confirm the data which we are analysing is correct or not"
      ],
      "metadata": {
        "id": "OMNs7Qv7Olk6"
      }
    },
    {
      "cell_type": "code",
      "source": [
        "'New York' in df['City']"
      ],
      "metadata": {
        "colab": {
          "base_uri": "https://localhost:8080/"
        },
        "id": "VWuoTB8hACa9",
        "outputId": "39fdd52b-8417-464b-9d72-438dfa984e43"
      },
      "execution_count": null,
      "outputs": [
        {
          "output_type": "execute_result",
          "data": {
            "text/plain": [
              "False"
            ]
          },
          "metadata": {},
          "execution_count": 46
        }
      ]
    },
    {
      "cell_type": "code",
      "source": [
        "'NY' in df['State']"
      ],
      "metadata": {
        "colab": {
          "base_uri": "https://localhost:8080/"
        },
        "id": "n0a308FuACYU",
        "outputId": "c47c841b-938b-42c1-c535-44149394b879"
      },
      "execution_count": null,
      "outputs": [
        {
          "output_type": "execute_result",
          "data": {
            "text/plain": [
              "False"
            ]
          },
          "metadata": {},
          "execution_count": 48
        }
      ]
    },
    {
      "cell_type": "code",
      "source": [
        ""
      ],
      "metadata": {
        "id": "t8_hZZ78ACV-"
      },
      "execution_count": null,
      "outputs": []
    },
    {
      "cell_type": "markdown",
      "source": [
        "# Do a lot of cities have less number of accidents or do a lot cities have high number accidents? what does that distribution look like?\n",
        "- To know that we need to use distplot\n",
        "- Seaborn Distplot represents the overall distribution of continuous data variables. The Seaborn module along with the Matplotlib module is used to depict the distplot with different variations in it. The Distplot depicts the data by a histogram and a line in combination to it."
      ],
      "metadata": {
        "id": "curQH1oEP28O"
      }
    },
    {
      "cell_type": "code",
      "source": [
        "type(cities_by_accidents)                                  # IT  HAS SERIES VALUE ATTACHED WITH A LABEL"
      ],
      "metadata": {
        "colab": {
          "base_uri": "https://localhost:8080/"
        },
        "id": "yLmgJNqlQOWj",
        "outputId": "8394583d-b809-4729-e8fc-72702a74abd4"
      },
      "execution_count": null,
      "outputs": [
        {
          "output_type": "execute_result",
          "data": {
            "text/plain": [
              "pandas.core.series.Series"
            ]
          },
          "metadata": {},
          "execution_count": 53
        }
      ]
    },
    {
      "cell_type": "code",
      "source": [
        "import seaborn as sns\n",
        "sns.set_theme();\n",
        "sns.distplot(cities_by_accidents);"
      ],
      "metadata": {
        "colab": {
          "base_uri": "https://localhost:8080/",
          "height": 340
        },
        "id": "jXWQpxpZO5gE",
        "outputId": "ca73281d-ccd5-4d04-b706-e565eb31e993"
      },
      "execution_count": null,
      "outputs": [
        {
          "output_type": "stream",
          "name": "stderr",
          "text": [
            "/usr/local/lib/python3.7/dist-packages/seaborn/distributions.py:2619: FutureWarning: `distplot` is a deprecated function and will be removed in a future version. Please adapt your code to use either `displot` (a figure-level function with similar flexibility) or `histplot` (an axes-level function for histograms).\n",
            "  warnings.warn(msg, FutureWarning)\n"
          ]
        },
        {
          "output_type": "display_data",
          "data": {
            "image/png": "[encoded data removed]",
            "text/plain": [
              "<Figure size 432x288 with 1 Axes>"
            ]
          },
          "metadata": {}
        }
      ]
    },
    {
      "cell_type": "code",
      "source": [
        "sns.distplot(cities_by_accidents[:20]);"
      ],
      "metadata": {
        "colab": {
          "base_uri": "https://localhost:8080/",
          "height": 351
        },
        "id": "fqxaOcf5O5cf",
        "outputId": "d9d7bcae-d566-4d5a-f528-062dcb65ee71"
      },
      "execution_count": null,
      "outputs": [
        {
          "output_type": "stream",
          "name": "stderr",
          "text": [
            "/usr/local/lib/python3.7/dist-packages/seaborn/distributions.py:2619: FutureWarning: `distplot` is a deprecated function and will be removed in a future version. Please adapt your code to use either `displot` (a figure-level function with similar flexibility) or `histplot` (an axes-level function for histograms).\n",
            "  warnings.warn(msg, FutureWarning)\n"
          ]
        },
        {
          "output_type": "display_data",
          "data": {
            "image/png": "[encoded data removed]",
            "text/plain": [
              "<Figure size 432x288 with 1 Axes>"
            ]
          },
          "metadata": {}
        }
      ]
    },
    {
      "cell_type": "code",
      "source": [
        ""
      ],
      "metadata": {
        "id": "dzdZoR6GO5Z3"
      },
      "execution_count": null,
      "outputs": []
    },
    {
      "cell_type": "markdown",
      "source": [
        "# we might want to create two buckets\n",
        "- high_accidents_cities and\n",
        "- low_accidents_cities"
      ],
      "metadata": {
        "id": "Jg0cGJG-RgIp"
      }
    },
    {
      "cell_type": "code",
      "source": [
        "high_accidents_cities= cities_by_accidents[cities_by_accidents>=1000]\n",
        "low_accidents_cities= cities_by_accidents[cities_by_accidents<1000]"
      ],
      "metadata": {
        "id": "r6-u_j0AO5XZ"
      },
      "execution_count": null,
      "outputs": []
    },
    {
      "cell_type": "code",
      "source": [
        "print(len(high_accidents_cities))\n",
        "print(len(low_accidents_cities))"
      ],
      "metadata": {
        "colab": {
          "base_uri": "https://localhost:8080/"
        },
        "id": "nsN9-FyuSJ_N",
        "outputId": "86e5942d-b315-40d8-ae40-201bb5e5eebb"
      },
      "execution_count": null,
      "outputs": [
        {
          "output_type": "stream",
          "name": "stdout",
          "text": [
            "251\n",
            "10406\n"
          ]
        }
      ]
    },
    {
      "cell_type": "code",
      "source": [
        "#cities(unique cities len=10658) a"
      ],
      "metadata": {
        "id": "bnJtySP0SmlA"
      },
      "execution_count": null,
      "outputs": []
    },
    {
      "cell_type": "code",
      "source": [
        "len(high_accidents_cities)/len(cities)"
      ],
      "metadata": {
        "colab": {
          "base_uri": "https://localhost:8080/"
        },
        "id": "6nM9_mnWO5VE",
        "outputId": "6162ffc3-56f4-40a3-c0bc-350999d84c1e"
      },
      "execution_count": null,
      "outputs": [
        {
          "output_type": "execute_result",
          "data": {
            "text/plain": [
              "0.023550384687558643"
            ]
          },
          "metadata": {},
          "execution_count": 60
        }
      ]
    },
    {
      "cell_type": "code",
      "source": [
        "# seems like less than 2 % of the cities has more than 1000 accidents"
      ],
      "metadata": {
        "colab": {
          "base_uri": "https://localhost:8080/"
        },
        "id": "G2wKgdd8O5Sq",
        "outputId": "e2340f15-1313-4965-dc48-c89932936cc1"
      },
      "execution_count": null,
      "outputs": [
        {
          "output_type": "execute_result",
          "data": {
            "text/plain": [
              "0.023550384687558643"
            ]
          },
          "metadata": {},
          "execution_count": 63
        }
      ]
    },
    {
      "cell_type": "code",
      "source": [
        "sns.distplot(high_accidents_cities);"
      ],
      "metadata": {
        "colab": {
          "base_uri": "https://localhost:8080/",
          "height": 340
        },
        "id": "Mb6yGfaLO5QF",
        "outputId": "2f6dec9c-c262-4e3a-fed1-d45c789844ee"
      },
      "execution_count": null,
      "outputs": [
        {
          "output_type": "stream",
          "name": "stderr",
          "text": [
            "/usr/local/lib/python3.7/dist-packages/seaborn/distributions.py:2619: FutureWarning: `distplot` is a deprecated function and will be removed in a future version. Please adapt your code to use either `displot` (a figure-level function with similar flexibility) or `histplot` (an axes-level function for histograms).\n",
            "  warnings.warn(msg, FutureWarning)\n"
          ]
        },
        {
          "output_type": "display_data",
          "data": {
            "image/png": "[encoded data removed]",
            "text/plain": [
              "<Figure size 432x288 with 1 Axes>"
            ]
          },
          "metadata": {}
        }
      ]
    },
    {
      "cell_type": "code",
      "source": [
        "sns.distplot(low_accidents_cities);"
      ],
      "metadata": {
        "colab": {
          "base_uri": "https://localhost:8080/",
          "height": 340
        },
        "id": "PhDS5hmhO5N7",
        "outputId": "f1359fdd-9db8-442c-c405-7b656acd78cf"
      },
      "execution_count": null,
      "outputs": [
        {
          "output_type": "stream",
          "name": "stderr",
          "text": [
            "/usr/local/lib/python3.7/dist-packages/seaborn/distributions.py:2619: FutureWarning: `distplot` is a deprecated function and will be removed in a future version. Please adapt your code to use either `displot` (a figure-level function with similar flexibility) or `histplot` (an axes-level function for histograms).\n",
            "  warnings.warn(msg, FutureWarning)\n"
          ]
        },
        {
          "output_type": "display_data",
          "data": {
            "image/png": "[encoded data removed]",
            "text/plain": [
              "<Figure size 432x288 with 1 Axes>"
            ]
          },
          "metadata": {}
        }
      ]
    },
    {
      "cell_type": "code",
      "source": [
        "# The number of accidents per city increases and decreases exponenially\n",
        "# when the graph is exponentially varying it becomes very tricky to understand so we can use a log scale in histplot"
      ],
      "metadata": {
        "id": "a_cJDbMHO5Lp"
      },
      "execution_count": null,
      "outputs": []
    },
    {
      "cell_type": "code",
      "source": [
        "sns.histplot(cities_by_accidents,log_scale=True);"
      ],
      "metadata": {
        "colab": {
          "base_uri": "https://localhost:8080/",
          "height": 291
        },
        "id": "WfVuWIXMO5JU",
        "outputId": "3a2af31b-217d-47b6-ac3a-4f242a8a09ff"
      },
      "execution_count": null,
      "outputs": [
        {
          "output_type": "display_data",
          "data": {
            "image/png": "[encoded data removed]",
            "text/plain": [
              "<Figure size 432x288 with 1 Axes>"
            ]
          },
          "metadata": {}
        }
      ]
    },
    {
      "cell_type": "code",
      "source": [
        "# The above graph shows a lot cities have 0 accidents which seems wrong may be it could indicate missing data"
      ],
      "metadata": {
        "id": "3L7X3nIkWCGn"
      },
      "execution_count": null,
      "outputs": []
    },
    {
      "cell_type": "code",
      "source": [
        "# we can ignore simply the accidents occuring less than 10 cause when we are doing high level analysis this might not help to draw insights or conclusions"
      ],
      "metadata": {
        "id": "aiDgxa5OXFw4"
      },
      "execution_count": null,
      "outputs": []
    },
    {
      "cell_type": "code",
      "source": [
        "cities_by_accidents[cities_by_accidents==1]"
      ],
      "metadata": {
        "colab": {
          "base_uri": "https://localhost:8080/"
        },
        "id": "IUwRKAwnYGh5",
        "outputId": "0003823e-6d72-4257-9a0b-7f5763aff1a5"
      },
      "execution_count": null,
      "outputs": [
        {
          "output_type": "execute_result",
          "data": {
            "text/plain": [
              "Rumney           1\n",
              "Chestnutridge    1\n",
              "Melvin           1\n",
              "Amidon           1\n",
              "Manitou Beach    1\n",
              "                ..\n",
              "Ocean            1\n",
              "Guntown          1\n",
              "Skamokawa        1\n",
              "Free Soil        1\n",
              "Gabbs            1\n",
              "Name: City, Length: 1167, dtype: int64"
            ]
          },
          "metadata": {},
          "execution_count": 75
        }
      ]
    },
    {
      "cell_type": "code",
      "source": [
        "cities_by_accidents[cities_by_accidents<10]"
      ],
      "metadata": {
        "colab": {
          "base_uri": "https://localhost:8080/"
        },
        "id": "lc5dFYPXO5Go",
        "outputId": "6e620e4f-879c-43a2-bdd9-7db2ee6c4568"
      },
      "execution_count": null,
      "outputs": [
        {
          "output_type": "execute_result",
          "data": {
            "text/plain": [
              "Wetmore           9\n",
              "Orangeville       9\n",
              "Peoa              9\n",
              "Temperance        9\n",
              "South Yarmouth    9\n",
              "                 ..\n",
              "Ocean             1\n",
              "Guntown           1\n",
              "Skamokawa         1\n",
              "Free Soil         1\n",
              "Gabbs             1\n",
              "Name: City, Length: 4704, dtype: int64"
            ]
          },
          "metadata": {},
          "execution_count": 74
        }
      ]
    },
    {
      "cell_type": "code",
      "source": [
        ""
      ],
      "metadata": {
        "id": "jRuwOGWfWycQ"
      },
      "execution_count": null,
      "outputs": []
    },
    {
      "cell_type": "markdown",
      "source": [
        "## Start_Time\n",
        "- At what time most of the accidents are taking place"
      ],
      "metadata": {
        "id": "7h4PTyEDZAVB"
      }
    },
    {
      "cell_type": "code",
      "source": [
        "df['Start_Time']"
      ],
      "metadata": {
        "colab": {
          "base_uri": "https://localhost:8080/"
        },
        "id": "r5O4WKXyWyY3",
        "outputId": "d25daefa-9983-4090-cc65-2d5c97a899b6"
      },
      "execution_count": null,
      "outputs": [
        {
          "output_type": "execute_result",
          "data": {
            "text/plain": [
              "0          2016-02-08 00:37:08\n",
              "1          2016-02-08 05:56:20\n",
              "2          2016-02-08 06:15:39\n",
              "3          2016-02-08 06:15:39\n",
              "4          2016-02-08 06:51:45\n",
              "                  ...         \n",
              "1516059    2019-08-23 18:03:25\n",
              "1516060    2019-08-23 19:11:30\n",
              "1516061    2019-08-23 19:00:21\n",
              "1516062    2019-08-23 19:00:21\n",
              "1516063    2019-08-23 18:52:06\n",
              "Name: Start_Time, Length: 1516064, dtype: object"
            ]
          },
          "metadata": {},
          "execution_count": 76
        }
      ]
    },
    {
      "cell_type": "code",
      "source": [
        "type(df['Start_Time'][0])"
      ],
      "metadata": {
        "colab": {
          "base_uri": "https://localhost:8080/"
        },
        "id": "j6V2ycpdWyV1",
        "outputId": "26dc8d42-cb3d-449c-be0f-4202ccabb64f"
      },
      "execution_count": null,
      "outputs": [
        {
          "output_type": "execute_result",
          "data": {
            "text/plain": [
              "str"
            ]
          },
          "metadata": {},
          "execution_count": 80
        }
      ]
    },
    {
      "cell_type": "code",
      "source": [
        "# IT'S CURRENTLY A STRING WE NEED TO CHANGE IT INTO A DATE\n",
        "# pd.to_datetime()\n",
        "# we will overwrite in df['Start_Time']"
      ],
      "metadata": {
        "id": "RjR6AVjrWyRm"
      },
      "execution_count": null,
      "outputs": []
    },
    {
      "cell_type": "code",
      "source": [
        "df['Start_Time']=pd.to_datetime(df['Start_Time'])\n",
        "df['Start_Time']"
      ],
      "metadata": {
        "colab": {
          "base_uri": "https://localhost:8080/"
        },
        "id": "Jp_gGkVEWyPe",
        "outputId": "4a28d5d7-8224-459c-db8c-6ab16af6cc8d"
      },
      "execution_count": null,
      "outputs": [
        {
          "output_type": "execute_result",
          "data": {
            "text/plain": [
              "0         2016-02-08 00:37:08\n",
              "1         2016-02-08 05:56:20\n",
              "2         2016-02-08 06:15:39\n",
              "3         2016-02-08 06:15:39\n",
              "4         2016-02-08 06:51:45\n",
              "                  ...        \n",
              "1516059   2019-08-23 18:03:25\n",
              "1516060   2019-08-23 19:11:30\n",
              "1516061   2019-08-23 19:00:21\n",
              "1516062   2019-08-23 19:00:21\n",
              "1516063   2019-08-23 18:52:06\n",
              "Name: Start_Time, Length: 1516064, dtype: datetime64[ns]"
            ]
          },
          "metadata": {},
          "execution_count": 83
        }
      ]
    },
    {
      "cell_type": "code",
      "source": [
        "type(df['Start_Time'][0])                                    #IT'S TIMESTAMP"
      ],
      "metadata": {
        "colab": {
          "base_uri": "https://localhost:8080/"
        },
        "id": "Nkrr-oqsWyNM",
        "outputId": "d362b4fa-e41a-4a17-d981-adf4db2e54c4"
      },
      "execution_count": null,
      "outputs": [
        {
          "output_type": "execute_result",
          "data": {
            "text/plain": [
              "pandas._libs.tslibs.timestamps.Timestamp"
            ]
          },
          "metadata": {},
          "execution_count": 85
        }
      ]
    },
    {
      "cell_type": "code",
      "source": [
        "# EACH ACCIDENT HAPPENED AT EXACTLY SOME POINT OF TIME SO WE CAN PULL OUT PIECES OF INFORMATION FR0M Start_Time AND STORE THAT IN A DIFFERENT COLUMN"
      ],
      "metadata": {
        "id": "fvji0QNwWyK1"
      },
      "execution_count": null,
      "outputs": []
    },
    {
      "cell_type": "code",
      "source": [
        "# .dt.hour --> USED TO PULL OUT THE HOUR FROM THE TIMESTAMP "
      ],
      "metadata": {
        "id": "3hBKjdKVWyIW"
      },
      "execution_count": null,
      "outputs": []
    },
    {
      "cell_type": "code",
      "source": [
        "df['Start_Time'].dt.hour"
      ],
      "metadata": {
        "colab": {
          "base_uri": "https://localhost:8080/"
        },
        "id": "xq7KB4IKWyF-",
        "outputId": "56603a60-852f-4280-b0d9-6b39a8ac00be"
      },
      "execution_count": null,
      "outputs": [
        {
          "output_type": "execute_result",
          "data": {
            "text/plain": [
              "0           0\n",
              "1           5\n",
              "2           6\n",
              "3           6\n",
              "4           6\n",
              "           ..\n",
              "1516059    18\n",
              "1516060    19\n",
              "1516061    19\n",
              "1516062    19\n",
              "1516063    18\n",
              "Name: Start_Time, Length: 1516064, dtype: int64"
            ]
          },
          "metadata": {},
          "execution_count": 87
        }
      ]
    },
    {
      "cell_type": "code",
      "source": [
        "sns.histplot(df['Start_Time'].dt.hour,bins=24);"
      ],
      "metadata": {
        "colab": {
          "base_uri": "https://localhost:8080/",
          "height": 285
        },
        "id": "pTprYU2TWyDa",
        "outputId": "2c6576be-4bb5-49c9-fbc1-e761bb1fb499"
      },
      "execution_count": null,
      "outputs": [
        {
          "output_type": "display_data",
          "data": {
            "image/png": "[encoded data removed]",
            "text/plain": [
              "<Figure size 432x288 with 1 Axes>"
            ]
          },
          "metadata": {}
        }
      ]
    },
    {
      "cell_type": "code",
      "source": [
        "# Inorder to have percentages as y-axis rather than count use distplot\n",
        "# kde=False -> By default, seaborn plots both kernel density estimation and histogram, kde=False means you want to hide it and only display the histogram.\n",
        "# norm_hist=True-> If True the histogram shows height as density rather than count.This is implied if a KDE or fitted density is plotted"
      ],
      "metadata": {
        "id": "zFVSEDcCWyA8"
      },
      "execution_count": null,
      "outputs": []
    },
    {
      "cell_type": "code",
      "source": [
        "sns.distplot(df['Start_Time'].dt.hour,bins=24,kde=False,norm_hist=True);"
      ],
      "metadata": {
        "colab": {
          "base_uri": "https://localhost:8080/",
          "height": 340
        },
        "id": "QuOSYJBtWx-1",
        "outputId": "262267b1-9b2a-4197-e0b7-10628b81c3b8"
      },
      "execution_count": null,
      "outputs": [
        {
          "output_type": "stream",
          "name": "stderr",
          "text": [
            "/usr/local/lib/python3.7/dist-packages/seaborn/distributions.py:2619: FutureWarning: `distplot` is a deprecated function and will be removed in a future version. Please adapt your code to use either `displot` (a figure-level function with similar flexibility) or `histplot` (an axes-level function for histograms).\n",
            "  warnings.warn(msg, FutureWarning)\n"
          ]
        },
        {
          "output_type": "display_data",
          "data": {
            "image/png": "[encoded data removed]",
            "text/plain": [
              "<Figure size 432x288 with 1 Axes>"
            ]
          },
          "metadata": {}
        }
      ]
    },
    {
      "cell_type": "markdown",
      "source": [
        "A high percentage of the accidents occur between 5pm and 8pm (probably people are in hurry to get home after work)\n",
        "Next highest percentage of the accidents is between 5am and 10 am."
      ],
      "metadata": {
        "id": "I86knLW8iuJm"
      }
    },
    {
      "cell_type": "code",
      "source": [
        "# .dt.dayofweek  USED TO PULL OUT THE DAY OF WEEK FROM THE TIMESTAMP "
      ],
      "metadata": {
        "id": "dMKKk6YLlSe1"
      },
      "execution_count": null,
      "outputs": []
    },
    {
      "cell_type": "code",
      "source": [
        "sns.distplot(df['Start_Time'].dt.dayofweek,bins=7,kde=False,norm_hist=True);"
      ],
      "metadata": {
        "colab": {
          "base_uri": "https://localhost:8080/",
          "height": 340
        },
        "id": "tXroDfWiWx6M",
        "outputId": "c54076ee-1740-4306-8fc1-3c7d31b5400f"
      },
      "execution_count": null,
      "outputs": [
        {
          "output_type": "stream",
          "name": "stderr",
          "text": [
            "/usr/local/lib/python3.7/dist-packages/seaborn/distributions.py:2619: FutureWarning: `distplot` is a deprecated function and will be removed in a future version. Please adapt your code to use either `displot` (a figure-level function with similar flexibility) or `histplot` (an axes-level function for histograms).\n",
            "  warnings.warn(msg, FutureWarning)\n"
          ]
        },
        {
          "output_type": "display_data",
          "data": {
            "image/png": "[encoded data removed]",
            "text/plain": [
              "<Figure size 432x288 with 1 Axes>"
            ]
          },
          "metadata": {}
        }
      ]
    },
    {
      "cell_type": "code",
      "source": [
        ""
      ],
      "metadata": {
        "id": "Jvi6hq7RWx3h"
      },
      "execution_count": null,
      "outputs": []
    },
    {
      "cell_type": "markdown",
      "source": [
        "Is the distribution of accidents is same by the hour on weekends as on weekdays\n",
        "## This clears the idea which we are having that the high number accidents are taking place during work time\n"
      ],
      "metadata": {
        "id": "xe1_STyaoOxC"
      }
    },
    {
      "cell_type": "code",
      "source": [
        "sns.distplot(df['Start_Time'].dt.dayofweek,bins=7,kde=False,norm_hist=True);"
      ],
      "metadata": {
        "id": "mimeYmQtWx1Q"
      },
      "execution_count": null,
      "outputs": []
    },
    {
      "cell_type": "code",
      "source": [
        "df['Start_Time'].dt.dayofweek==6"
      ],
      "metadata": {
        "colab": {
          "base_uri": "https://localhost:8080/"
        },
        "id": "QCSLDJCyWxyo",
        "outputId": "1f099110-d151-402d-fb4d-5f216e442d58"
      },
      "execution_count": null,
      "outputs": [
        {
          "output_type": "execute_result",
          "data": {
            "text/plain": [
              "0          False\n",
              "1          False\n",
              "2          False\n",
              "3          False\n",
              "4          False\n",
              "           ...  \n",
              "1516059    False\n",
              "1516060    False\n",
              "1516061    False\n",
              "1516062    False\n",
              "1516063    False\n",
              "Name: Start_Time, Length: 1516064, dtype: bool"
            ]
          },
          "metadata": {},
          "execution_count": 102
        }
      ]
    },
    {
      "cell_type": "code",
      "source": [
        "df['Start_Time'][df['Start_Time'].dt.dayofweek==6]"
      ],
      "metadata": {
        "colab": {
          "base_uri": "https://localhost:8080/"
        },
        "id": "tya2uo-7Wxwl",
        "outputId": "f5f74ebd-76b1-4be8-cb83-666bf7ca7beb"
      },
      "execution_count": null,
      "outputs": [
        {
          "output_type": "execute_result",
          "data": {
            "text/plain": [
              "158       2016-02-14 03:58:33\n",
              "159       2016-02-14 05:26:58\n",
              "160       2016-02-14 16:30:40\n",
              "161       2016-02-14 16:38:40\n",
              "162       2016-02-14 17:40:17\n",
              "                  ...        \n",
              "1513810   2019-08-18 22:48:14\n",
              "1513811   2019-08-18 23:24:10\n",
              "1513925   2019-08-18 22:56:56\n",
              "1513926   2019-08-18 22:56:56\n",
              "1513965   2019-08-18 22:54:41\n",
              "Name: Start_Time, Length: 123775, dtype: datetime64[ns]"
            ]
          },
          "metadata": {},
          "execution_count": 103
        }
      ]
    },
    {
      "cell_type": "code",
      "source": [
        "sundays_Start_Time=df['Start_Time'][df['Start_Time'].dt.dayofweek==6]\n",
        "sundays_Start_Time"
      ],
      "metadata": {
        "colab": {
          "base_uri": "https://localhost:8080/"
        },
        "id": "A31WUz8CWxuq",
        "outputId": "6da6a95e-95ed-4ce1-f3be-8c39bd01e38a"
      },
      "execution_count": null,
      "outputs": [
        {
          "output_type": "execute_result",
          "data": {
            "text/plain": [
              "158       2016-02-14 03:58:33\n",
              "159       2016-02-14 05:26:58\n",
              "160       2016-02-14 16:30:40\n",
              "161       2016-02-14 16:38:40\n",
              "162       2016-02-14 17:40:17\n",
              "                  ...        \n",
              "1513810   2019-08-18 22:48:14\n",
              "1513811   2019-08-18 23:24:10\n",
              "1513925   2019-08-18 22:56:56\n",
              "1513926   2019-08-18 22:56:56\n",
              "1513965   2019-08-18 22:54:41\n",
              "Name: Start_Time, Length: 123775, dtype: datetime64[ns]"
            ]
          },
          "metadata": {},
          "execution_count": 110
        }
      ]
    },
    {
      "cell_type": "code",
      "source": [
        "sns.distplot(sundays_Start_Time.dt.hour,bins=24,kde=False,norm_hist=True);"
      ],
      "metadata": {
        "colab": {
          "base_uri": "https://localhost:8080/",
          "height": 340
        },
        "id": "nCV791cPWxsl",
        "outputId": "7a09647b-2f82-4fdd-8833-6ed700636286"
      },
      "execution_count": null,
      "outputs": [
        {
          "output_type": "stream",
          "name": "stderr",
          "text": [
            "/usr/local/lib/python3.7/dist-packages/seaborn/distributions.py:2619: FutureWarning: `distplot` is a deprecated function and will be removed in a future version. Please adapt your code to use either `displot` (a figure-level function with similar flexibility) or `histplot` (an axes-level function for histograms).\n",
            "  warnings.warn(msg, FutureWarning)\n"
          ]
        },
        {
          "output_type": "display_data",
          "data": {
            "image/png": "[encoded data removed]",
            "text/plain": [
              "<Figure size 432x288 with 1 Axes>"
            ]
          },
          "metadata": {}
        }
      ]
    },
    {
      "cell_type": "code",
      "source": [
        "mondays_Start_Time=df['Start_Time'][df['Start_Time'].dt.dayofweek==0]\n",
        "mondays_Start_Time"
      ],
      "metadata": {
        "colab": {
          "base_uri": "https://localhost:8080/"
        },
        "id": "6AlQ7kYIWxqC",
        "outputId": "ab47a853-1bea-44a0-84d0-be586240ae3c"
      },
      "execution_count": null,
      "outputs": [
        {
          "output_type": "execute_result",
          "data": {
            "text/plain": [
              "0         2016-02-08 00:37:08\n",
              "1         2016-02-08 05:56:20\n",
              "2         2016-02-08 06:15:39\n",
              "3         2016-02-08 06:15:39\n",
              "4         2016-02-08 06:51:45\n",
              "                  ...        \n",
              "1514005   2019-08-19 20:43:02\n",
              "1514006   2019-08-19 20:41:30\n",
              "1514369   2019-08-19 22:18:31\n",
              "1514370   2019-08-19 22:21:28\n",
              "1514371   2019-08-19 22:31:15\n",
              "Name: Start_Time, Length: 235831, dtype: datetime64[ns]"
            ]
          },
          "metadata": {},
          "execution_count": 113
        }
      ]
    },
    {
      "cell_type": "code",
      "source": [
        "sns.distplot(mondays_Start_Time.dt.hour,bins=24,kde=False,norm_hist=True);"
      ],
      "metadata": {
        "colab": {
          "base_uri": "https://localhost:8080/",
          "height": 341
        },
        "id": "fP-CPqwZrie0",
        "outputId": "cbbca8c9-7cfb-4d37-96f9-941689b1794c"
      },
      "execution_count": null,
      "outputs": [
        {
          "output_type": "stream",
          "name": "stderr",
          "text": [
            "/usr/local/lib/python3.7/dist-packages/seaborn/distributions.py:2619: FutureWarning: `distplot` is a deprecated function and will be removed in a future version. Please adapt your code to use either `displot` (a figure-level function with similar flexibility) or `histplot` (an axes-level function for histograms).\n",
            "  warnings.warn(msg, FutureWarning)\n"
          ]
        },
        {
          "output_type": "display_data",
          "data": {
            "image/png": "[encoded data removed]",
            "text/plain": [
              "<Figure size 432x288 with 1 Axes>"
            ]
          },
          "metadata": {}
        }
      ]
    },
    {
      "cell_type": "markdown",
      "source": [
        "Insight from above\n",
        "- On sundays the peak occurs between 1am and decreasing till 5am\n",
        "and also increases from 10am and continuous till 12am \n",
        "- Where as on weekdays the peak occurs at only certain time like from 5am and 10 am, 5pm and 8pm\n"
      ],
      "metadata": {
        "id": "JvKvkrzbsZbJ"
      }
    },
    {
      "cell_type": "code",
      "source": [
        ""
      ],
      "metadata": {
        "id": "MCNjdnj-ricW"
      },
      "execution_count": null,
      "outputs": []
    },
    {
      "cell_type": "markdown",
      "source": [
        "## Month Analysis\n"
      ],
      "metadata": {
        "id": "lNPiKu1TuCIN"
      }
    },
    {
      "cell_type": "code",
      "source": [
        "# .dt.month\n",
        "# .dt.year"
      ],
      "metadata": {
        "id": "2ZkI8Wda4UmG"
      },
      "execution_count": null,
      "outputs": []
    },
    {
      "cell_type": "code",
      "source": [
        "df['Start_Time']"
      ],
      "metadata": {
        "colab": {
          "base_uri": "https://localhost:8080/"
        },
        "id": "pRXrrBVa9t1c",
        "outputId": "86c9ba5f-3f94-4685-da4d-5dd3e2f6244c"
      },
      "execution_count": null,
      "outputs": [
        {
          "output_type": "execute_result",
          "data": {
            "text/plain": [
              "0         2016-02-08 00:37:08\n",
              "1         2016-02-08 05:56:20\n",
              "2         2016-02-08 06:15:39\n",
              "3         2016-02-08 06:15:39\n",
              "4         2016-02-08 06:51:45\n",
              "                  ...        \n",
              "1516059   2019-08-23 18:03:25\n",
              "1516060   2019-08-23 19:11:30\n",
              "1516061   2019-08-23 19:00:21\n",
              "1516062   2019-08-23 19:00:21\n",
              "1516063   2019-08-23 18:52:06\n",
              "Name: Start_Time, Length: 1516064, dtype: datetime64[ns]"
            ]
          },
          "metadata": {},
          "execution_count": 135
        }
      ]
    },
    {
      "cell_type": "code",
      "source": [
        "# This is data of all the four years with respective months"
      ],
      "metadata": {
        "id": "VYwfF6RD93M5"
      },
      "execution_count": null,
      "outputs": []
    },
    {
      "cell_type": "code",
      "source": [
        "sns.distplot(df['Start_Time'].dt.month,bins=12,kde=False,norm_hist=True);"
      ],
      "metadata": {
        "colab": {
          "base_uri": "https://localhost:8080/",
          "height": 340
        },
        "id": "C1nFdTQ2ribL",
        "outputId": "ffb3174b-7c41-4f68-c227-2d232ce61e35"
      },
      "execution_count": null,
      "outputs": [
        {
          "output_type": "stream",
          "name": "stderr",
          "text": [
            "/usr/local/lib/python3.7/dist-packages/seaborn/distributions.py:2619: FutureWarning: `distplot` is a deprecated function and will be removed in a future version. Please adapt your code to use either `displot` (a figure-level function with similar flexibility) or `histplot` (an axes-level function for histograms).\n",
            "  warnings.warn(msg, FutureWarning)\n"
          ]
        },
        {
          "output_type": "display_data",
          "data": {
            "image/png": "[encoded data removed]",
            "text/plain": [
              "<Figure size 432x288 with 1 Axes>"
            ]
          },
          "metadata": {}
        }
      ]
    },
    {
      "cell_type": "code",
      "source": [
        "df['Start_Time'].dt.year"
      ],
      "metadata": {
        "colab": {
          "base_uri": "https://localhost:8080/"
        },
        "id": "eq_lxNuW-K0E",
        "outputId": "8c9bbd7f-c0e9-4007-d075-ce07a8a4f492"
      },
      "execution_count": null,
      "outputs": [
        {
          "output_type": "execute_result",
          "data": {
            "text/plain": [
              "0          2016\n",
              "1          2016\n",
              "2          2016\n",
              "3          2016\n",
              "4          2016\n",
              "           ... \n",
              "1516059    2019\n",
              "1516060    2019\n",
              "1516061    2019\n",
              "1516062    2019\n",
              "1516063    2019\n",
              "Name: Start_Time, Length: 1516064, dtype: int64"
            ]
          },
          "metadata": {},
          "execution_count": 137
        }
      ]
    },
    {
      "cell_type": "code",
      "source": [
        "# looking for a particualr year"
      ],
      "metadata": {
        "id": "xIizbaPh-vQf"
      },
      "execution_count": null,
      "outputs": []
    },
    {
      "cell_type": "code",
      "source": [
        "df.columns"
      ],
      "metadata": {
        "colab": {
          "base_uri": "https://localhost:8080/"
        },
        "id": "TchOwatTAQFm",
        "outputId": "adb31d39-b4b8-4fc5-9419-73e05c621048"
      },
      "execution_count": null,
      "outputs": [
        {
          "output_type": "execute_result",
          "data": {
            "text/plain": [
              "Index(['ID', 'Severity', 'Start_Time', 'End_Time', 'Start_Lat', 'Start_Lng',\n",
              "       'End_Lat', 'End_Lng', 'Distance(mi)', 'Description', 'Number', 'Street',\n",
              "       'Side', 'City', 'County', 'State', 'Zipcode', 'Country', 'Timezone',\n",
              "       'Airport_Code', 'Weather_Timestamp', 'Temperature(F)', 'Wind_Chill(F)',\n",
              "       'Humidity(%)', 'Pressure(in)', 'Visibility(mi)', 'Wind_Direction',\n",
              "       'Wind_Speed(mph)', 'Precipitation(in)', 'Weather_Condition', 'Amenity',\n",
              "       'Bump', 'Crossing', 'Give_Way', 'Junction', 'No_Exit', 'Railway',\n",
              "       'Roundabout', 'Station', 'Stop', 'Traffic_Calming', 'Traffic_Signal',\n",
              "       'Turning_Loop', 'Sunrise_Sunset', 'Civil_Twilight', 'Nautical_Twilight',\n",
              "       'Astronomical_Twilight'],\n",
              "      dtype='object')"
            ]
          },
          "metadata": {},
          "execution_count": 155
        }
      ]
    },
    {
      "cell_type": "code",
      "source": [
        "df_2019=df[df['Start_Time'].dt.year == 2016]\n",
        "sns.distplot(df_2019['Start_Time'].dt.month,bins=12,kde=False,norm_hist=True);"
      ],
      "metadata": {
        "colab": {
          "base_uri": "https://localhost:8080/",
          "height": 340
        },
        "id": "hkINfXTpriYA",
        "outputId": "a12cd42d-f2d1-4c94-a70f-60583cbb05c0"
      },
      "execution_count": null,
      "outputs": [
        {
          "output_type": "stream",
          "name": "stderr",
          "text": [
            "/usr/local/lib/python3.7/dist-packages/seaborn/distributions.py:2619: FutureWarning: `distplot` is a deprecated function and will be removed in a future version. Please adapt your code to use either `displot` (a figure-level function with similar flexibility) or `histplot` (an axes-level function for histograms).\n",
            "  warnings.warn(msg, FutureWarning)\n"
          ]
        },
        {
          "output_type": "display_data",
          "data": {
            "image/png": "[encoded data removed]",
            "text/plain": [
              "<Figure size 432x288 with 1 Axes>"
            ]
          },
          "metadata": {}
        }
      ]
    },
    {
      "cell_type": "code",
      "source": [
        ""
      ],
      "metadata": {
        "id": "YF_PWKpkriVR"
      },
      "execution_count": null,
      "outputs": []
    },
    {
      "cell_type": "markdown",
      "source": [
        "# Can you explain month-wise trend of accidents?\n",
        "- This seems like an offtrend much data is missing for 2016"
      ],
      "metadata": {
        "id": "yiNjRdB-_ufr"
      }
    },
    {
      "cell_type": "markdown",
      "source": [
        "## Start Latitude and Start Longitude"
      ],
      "metadata": {
        "id": "Ic9RbYKNDq9l"
      }
    },
    {
      "cell_type": "code",
      "source": [
        "df['Start_Lat']"
      ],
      "metadata": {
        "colab": {
          "base_uri": "https://localhost:8080/"
        },
        "id": "z36xAGyXriRC",
        "outputId": "2817e5b9-97dd-49f4-fc7b-d8ebb24c42dd"
      },
      "execution_count": null,
      "outputs": [
        {
          "output_type": "execute_result",
          "data": {
            "text/plain": [
              "0          40.10891\n",
              "1          39.86542\n",
              "2          39.10266\n",
              "3          39.10148\n",
              "4          41.06213\n",
              "             ...   \n",
              "1516059    34.00248\n",
              "1516060    32.76696\n",
              "1516061    33.77545\n",
              "1516062    33.99246\n",
              "1516063    34.13393\n",
              "Name: Start_Lat, Length: 1516064, dtype: float64"
            ]
          },
          "metadata": {},
          "execution_count": 158
        }
      ]
    },
    {
      "cell_type": "code",
      "source": [
        "df['Start_Lng']"
      ],
      "metadata": {
        "colab": {
          "base_uri": "https://localhost:8080/"
        },
        "id": "ovNkB6s3riOo",
        "outputId": "0a4fd372-5349-4e9e-c716-aebe5e654416"
      },
      "execution_count": null,
      "outputs": [
        {
          "output_type": "execute_result",
          "data": {
            "text/plain": [
              "0          -83.09286\n",
              "1          -84.06280\n",
              "2          -84.52468\n",
              "3          -84.52341\n",
              "4          -81.53784\n",
              "             ...    \n",
              "1516059   -117.37936\n",
              "1516060   -117.14806\n",
              "1516061   -117.84779\n",
              "1516062   -118.40302\n",
              "1516063   -117.23092\n",
              "Name: Start_Lng, Length: 1516064, dtype: float64"
            ]
          },
          "metadata": {},
          "execution_count": 159
        }
      ]
    },
    {
      "cell_type": "code",
      "source": [
        "sns.scatterplot(x=df['Start_Lng'],y=df['Start_Lat'])"
      ],
      "metadata": {
        "colab": {
          "base_uri": "https://localhost:8080/",
          "height": 304
        },
        "id": "_aQD3HcPEDEP",
        "outputId": "197e3efc-6563-4c3e-c223-5d92c8a26024"
      },
      "execution_count": null,
      "outputs": [
        {
          "output_type": "execute_result",
          "data": {
            "text/plain": [
              "<matplotlib.axes._subplots.AxesSubplot at 0x7fc68c9fd590>"
            ]
          },
          "metadata": {},
          "execution_count": 163
        },
        {
          "output_type": "display_data",
          "data": {
            "image/png": "[encoded data removed]",
            "text/plain": [
              "<Figure size 432x288 with 1 Axes>"
            ]
          },
          "metadata": {}
        }
      ]
    },
    {
      "cell_type": "code",
      "source": [
        "#To decrease the density or the thickness of the pointer we are creating a sample dataframe "
      ],
      "metadata": {
        "id": "km9pfTtbEDA4"
      },
      "execution_count": null,
      "outputs": []
    },
    {
      "cell_type": "code",
      "source": [
        "sample_df= df.sample(int(0.1*len(df)))\n",
        "sns.scatterplot(x=sample_df.Start_Lng,y=sample_df.Start_Lat,size=0.001)"
      ],
      "metadata": {
        "colab": {
          "base_uri": "https://localhost:8080/",
          "height": 304
        },
        "id": "VV_vgGF3EC78",
        "outputId": "206e5cd5-1a04-40c5-b795-2b8bb1b47aa9"
      },
      "execution_count": null,
      "outputs": [
        {
          "output_type": "execute_result",
          "data": {
            "text/plain": [
              "<matplotlib.axes._subplots.AxesSubplot at 0x7fc68cce1990>"
            ]
          },
          "metadata": {},
          "execution_count": 169
        },
        {
          "output_type": "display_data",
          "data": {
            "image/png": "[encoded data removed]",
            "text/plain": [
              "<Figure size 432x288 with 1 Axes>"
            ]
          },
          "metadata": {}
        }
      ]
    },
    {
      "cell_type": "code",
      "source": [
        "#INORDER TO PLOT THE POINTS ON MAP WE MAKE USE folium library\n",
        "# Folium is a Python library used for visualizing geospatial data."
      ],
      "metadata": {
        "id": "QRLKMmqqEC6B"
      },
      "execution_count": null,
      "outputs": []
    },
    {
      "cell_type": "code",
      "source": [
        "import folium "
      ],
      "metadata": {
        "id": "sdz7a3YoEC3n"
      },
      "execution_count": null,
      "outputs": []
    },
    {
      "cell_type": "code",
      "source": [
        "lat,lon=df['Start_Lat'][0],df['Start_Lng'][0]\n",
        "lat,lon"
      ],
      "metadata": {
        "colab": {
          "base_uri": "https://localhost:8080/"
        },
        "id": "-NXkOGBuEC1q",
        "outputId": "4c91a199-c45a-4081-958e-a0bce806acbf"
      },
      "execution_count": null,
      "outputs": [
        {
          "output_type": "execute_result",
          "data": {
            "text/plain": [
              "(40.108909999999995, -83.09286)"
            ]
          },
          "metadata": {},
          "execution_count": 170
        }
      ]
    },
    {
      "cell_type": "code",
      "source": [
        "# folium.Map() ->gives the world map\n",
        "# we put a Marker on the map {Marker=requires a location either a list or tuple)\n",
        "# we need to return the map and add the marker to it inorder to disply the location point on the map"
      ],
      "metadata": {
        "id": "_l-g-Vs5ECzZ"
      },
      "execution_count": null,
      "outputs": []
    },
    {
      "cell_type": "code",
      "source": [
        "# we need iterate over the bunch of latitudes and longitudes \n",
        "# sample(100)--> sample of 100 items since we can'nt iterate over high number of values\n",
        "# iterrow(),itercolumns(),iteritems() are used to iterate over in pandas "
      ],
      "metadata": {
        "id": "43QrrDADN_jz"
      },
      "execution_count": null,
      "outputs": []
    },
    {
      "cell_type": "code",
      "source": [
        "for i in df[['Start_Lat','Start_Lng']].sample(100).iteritems():           #this is what we need\n",
        "  print(i[1])"
      ],
      "metadata": {
        "colab": {
          "base_uri": "https://localhost:8080/"
        },
        "id": "e3ngGBFaOs5c",
        "outputId": "0879c7af-dc7a-4659-d848-206b36f32268"
      },
      "execution_count": null,
      "outputs": [
        {
          "output_type": "stream",
          "name": "stdout",
          "text": [
            "1264064    40.006110\n",
            "337970     32.989063\n",
            "548597     39.835145\n",
            "564136     29.940419\n",
            "99794      33.462160\n",
            "             ...    \n",
            "956451     33.754830\n",
            "178073     33.879870\n",
            "393984     27.933095\n",
            "776342     36.842220\n",
            "803934     35.117860\n",
            "Name: Start_Lat, Length: 100, dtype: float64\n",
            "1264064   -104.980940\n",
            "337970     -80.156343\n",
            "548597     -75.421144\n",
            "564136     -90.099314\n",
            "99794     -112.023600\n",
            "              ...    \n",
            "956451    -117.851950\n",
            "178073    -117.655420\n",
            "393984     -82.330779\n",
            "776342     -76.216470\n",
            "803934    -111.095770\n",
            "Name: Start_Lng, Length: 100, dtype: float64\n"
          ]
        }
      ]
    },
    {
      "cell_type": "code",
      "source": [
        "# In the below cell we obtained lat and lng as a list and we turned them into a pair and probably put ZIP into the heatmap"
      ],
      "metadata": {
        "id": "q7eWy_tVQabv"
      },
      "execution_count": null,
      "outputs": []
    },
    {
      "cell_type": "code",
      "source": [
        "list(zip(list(df['Start_Lat']),list(df['Start_Lng'])))"
      ],
      "metadata": {
        "colab": {
          "base_uri": "https://localhost:8080/"
        },
        "id": "nC0kyMjTP9F2",
        "outputId": "b7462200-f05e-4bbb-fb04-08c825be38d0"
      },
      "execution_count": null,
      "outputs": [
        {
          "output_type": "execute_result",
          "data": {
            "text/plain": [
              "[(40.108909999999995, -83.09286),\n",
              " (39.86542, -84.0628),\n",
              " (39.10266, -84.52468),\n",
              " (39.10148, -84.52341),\n",
              " (41.062129999999996, -81.53784),\n",
              " (39.172393, -84.49279200000001),\n",
              " (39.06324, -84.03243),\n",
              " (39.06708, -84.05855),\n",
              " (39.77565, -84.18603),\n",
              " (41.37531, -81.82016999999999),\n",
              " (40.702247, -84.075887),\n",
              " (40.10931, -82.96849),\n",
              " (39.19288, -84.47723),\n",
              " (39.13877, -84.53394),\n",
              " (41.4739, -81.704233),\n",
              " (39.582242, -83.677814),\n",
              " (40.151785, -81.312635),\n",
              " (40.151747, -81.312682),\n",
              " (39.972409999999996, -82.84695),\n",
              " (39.9838, -82.85656999999999),\n",
              " (40.02664, -82.9944),\n",
              " (41.679361, -83.573037),\n",
              " (40.99613, -85.26613),\n",
              " (39.0381, -84.59243000000001),\n",
              " (40.03386, -82.99601),\n",
              " (39.85798, -84.28181),\n",
              " (39.15267, -84.5395),\n",
              " (39.307320000000004, -85.95982),\n",
              " (39.77572, -84.04815),\n",
              " (39.97643, -83.12306),\n",
              " (39.58595, -85.82518),\n",
              " (39.3638, -85.51659000000001),\n",
              " (39.45132, -85.62516),\n",
              " (39.75067, -84.14148),\n",
              " (39.2675, -81.49929),\n",
              " (39.86025, -85.96623000000001),\n",
              " (41.95677, -83.67214),\n",
              " (38.27401, -85.74844),\n",
              " (41.95677, -83.67214),\n",
              " (40.52225, -80.06666),\n",
              " (40.487814, -80.009439),\n",
              " (40.156298, -83.018431),\n",
              " (41.47461, -81.71181999999999),\n",
              " (41.0618, -81.54608),\n",
              " (40.45112, -85.15048),\n",
              " (40.35429, -85.14993),\n",
              " (39.75855, -85.13715),\n",
              " (39.74408, -85.13749),\n",
              " (39.965148, -83.020499),\n",
              " (40.72813, -84.78965),\n",
              " (39.85223, -85.25846999999999),\n",
              " (41.46747, -81.75909),\n",
              " (41.83193, -80.10143000000001),\n",
              " (39.744287, -84.204939),\n",
              " (39.71548, -84.22033),\n",
              " (39.7504, -84.20561),\n",
              " (41.72316, -84.96444),\n",
              " (40.04376, -82.99708000000001),\n",
              " (38.1781, -85.71946),\n",
              " (38.18577, -85.80678),\n",
              " (38.27191, -85.80838),\n",
              " (39.923905, -82.87008),\n",
              " (41.035565999999996, -81.569917),\n",
              " (39.9239, -83.68767),\n",
              " (41.851914, -80.175232),\n",
              " (39.93849, -82.84849),\n",
              " (38.969429999999996, -80.1096),\n",
              " (39.00248, -80.22624),\n",
              " (41.66805, -83.57063000000001),\n",
              " (41.48339, -81.66297),\n",
              " (41.50127, -81.4804),\n",
              " (39.789093, -82.989106),\n",
              " (41.67073, -81.24561),\n",
              " (41.708459999999995, -81.17636),\n",
              " (41.44246, -81.78485),\n",
              " (39.77128, -84.1923),\n",
              " (41.50499, -81.47417),\n",
              " (40.109653, -80.2029),\n",
              " (38.38852, -81.7687),\n",
              " (41.03572, -81.57809),\n",
              " (41.47487, -81.72095),\n",
              " (41.62845, -84.80559000000001),\n",
              " (41.62894, -84.80373),\n",
              " (41.16102, -81.78573),\n",
              " (41.628232000000004, -84.808858),\n",
              " (41.62986, -84.76619000000001),\n",
              " (39.74729, -84.21426),\n",
              " (41.42099, -81.69051999999999),\n",
              " (41.42318, -81.84674),\n",
              " (38.79691, -84.48273),\n",
              " (38.80878, -84.49638),\n",
              " (38.30155, -85.85499),\n",
              " (38.33667, -81.65623000000001),\n",
              " (38.33614, -81.65623000000001),\n",
              " (41.0961, -81.58593),\n",
              " (41.12155, -85.18715999999999),\n",
              " (38.829993, -80.667067),\n",
              " (40.05642, -83.03097),\n",
              " (41.37717, -81.5139),\n",
              " (39.173970000000004, -84.49031),\n",
              " (39.75513, -84.16614),\n",
              " (39.173970000000004, -84.49031),\n",
              " (41.12624, -81.65299),\n",
              " (38.33667, -81.65623000000001),\n",
              " (41.10389, -81.5),\n",
              " (39.16417, -84.45275),\n",
              " (40.11184, -83.00883),\n",
              " (38.31922, -85.75301999999999),\n",
              " (39.09881, -84.50801),\n",
              " (41.473859000000004, -81.708409),\n",
              " (41.039988, -81.565332),\n",
              " (41.73565, -84.99082),\n",
              " (39.26566, -84.43965),\n",
              " (41.469809999999995, -81.81104),\n",
              " (41.25666, -81.63157),\n",
              " (40.58919, -80.09885),\n",
              " (41.063559999999995, -81.49078),\n",
              " (41.06218, -81.50595),\n",
              " (39.17736, -84.4873),\n",
              " (38.33956, -81.60991999999999),\n",
              " (41.47889, -81.6934),\n",
              " (40.58919, -80.09885),\n",
              " (41.411190000000005, -81.64414000000001),\n",
              " (39.24907, -84.44561999999999),\n",
              " (39.28775, -84.40073000000001),\n",
              " (41.47379, -81.89631),\n",
              " (41.549409999999995, -81.60676),\n",
              " (39.03347, -84.603),\n",
              " (39.74903, -84.20106),\n",
              " (39.894729999999996, -83.044),\n",
              " (39.19641, -84.47331),\n",
              " (39.22461, -84.45364000000001),\n",
              " (39.153059999999996, -84.44283),\n",
              " (39.97262, -82.98368),\n",
              " (40.535447, -80.03596),\n",
              " (40.529455, -80.03506999999999),\n",
              " (41.49647, -81.67733),\n",
              " (41.0634, -81.49079),\n",
              " (39.74284, -84.20479),\n",
              " (41.46822, -81.9476),\n",
              " (41.92479, -83.36026),\n",
              " (41.184738, -80.432713),\n",
              " (40.27317, -85.5577),\n",
              " (39.98264, -85.14301999999999),\n",
              " (40.27317, -85.5577),\n",
              " (40.42667, -85.54968000000001),\n",
              " (39.97527, -85.14018),\n",
              " (39.098890000000004, -84.52118),\n",
              " (38.88012, -84.62527),\n",
              " (38.792559999999995, -84.60423),\n",
              " (39.74284, -84.20479),\n",
              " (40.484221999999995, -80.13755400000001),\n",
              " (41.20104, -80.06859),\n",
              " (39.055279999999996, -84.39072),\n",
              " (41.623325, -83.692226),\n",
              " (40.53024, -80.00957),\n",
              " (40.53024, -80.00957),\n",
              " (40.06527, -82.99591),\n",
              " (40.43954, -80.00971),\n",
              " (41.422004, -81.730092),\n",
              " (39.3638, -85.51659000000001),\n",
              " (39.82083, -85.7749),\n",
              " (40.0366, -85.72561999999999),\n",
              " (39.855691, -84.29079200000001),\n",
              " (40.049152, -85.682047),\n",
              " (39.83939, -85.55752),\n",
              " (40.13386, -80.00666),\n",
              " (40.43954, -80.00971),\n",
              " (40.13386, -80.00666),\n",
              " (40.13386, -80.00666),\n",
              " (39.978590000000004, -82.9763),\n",
              " (39.95459, -83.04255),\n",
              " (39.68291, -85.97372),\n",
              " (38.49304, -85.77156),\n",
              " (38.33428, -85.82177),\n",
              " (39.99921, -83.02875),\n",
              " (38.53844, -85.77702),\n",
              " (38.1781, -85.71946),\n",
              " (39.87433, -82.99882),\n",
              " (41.39546, -85.32855),\n",
              " (41.394690000000004, -85.28893000000001),\n",
              " (41.90473, -83.36986),\n",
              " (40.771370000000005, -84.62203000000001),\n",
              " (40.80059, -84.61374),\n",
              " (39.87433, -82.99882),\n",
              " (40.78593, -84.61787),\n",
              " (40.80059, -84.61374),\n",
              " (41.67487, -83.57266),\n",
              " (41.47376, -81.86113),\n",
              " (38.33465, -85.75389),\n",
              " (39.14014, -84.53495),\n",
              " (41.801429999999996, -85.34888000000001),\n",
              " (41.81755, -85.32291),\n",
              " (41.35761, -81.81988),\n",
              " (39.343920000000004, -84.39043000000001),\n",
              " (39.816154, -83.18010500000001),\n",
              " (38.824929, -85.47449499999999),\n",
              " (38.82415, -85.63794),\n",
              " (40.593244, -85.150017),\n",
              " (40.600487, -85.150502),\n",
              " (41.19362, -80.2374),\n",
              " (40.55267, -85.14974000000001),\n",
              " (40.567440000000005, -85.14993),\n",
              " (40.14212, -81.55153),\n",
              " (39.94397, -82.41127),\n",
              " (39.96893, -83.11922),\n",
              " (40.6126, -80.09494000000001),\n",
              " (40.11184, -83.00883),\n",
              " (41.06347, -81.50372),\n",
              " (39.972931, -85.965783),\n",
              " (39.95459, -83.04255),\n",
              " (40.11184, -83.00883),\n",
              " (39.972409999999996, -82.84695),\n",
              " (39.9912, -85.9188),\n",
              " (41.34965, -81.51146),\n",
              " (41.11987, -80.69004),\n",
              " (41.11851, -80.69242),\n",
              " (40.05642, -83.03097),\n",
              " (41.123412, -80.68202600000001),\n",
              " (38.117487, -85.760397),\n",
              " (41.441340000000004, -81.65055),\n",
              " (38.61531, -80.76034),\n",
              " (41.124052, -80.677589),\n",
              " (39.95085, -82.94428),\n",
              " (41.06257, -81.52228000000001),\n",
              " (40.112120000000004, -83.03905999999999),\n",
              " (39.887033, -83.043909),\n",
              " (40.04916, -83.03336),\n",
              " (41.129059999999996, -85.1612),\n",
              " (41.17798, -85.10323000000001),\n",
              " (38.08783, -83.90263),\n",
              " (41.63316, -83.54203000000001),\n",
              " (39.149639, -84.539381),\n",
              " (40.9605, -85.3528),\n",
              " (40.96051, -85.34522),\n",
              " (41.08204, -80.64846999999999),\n",
              " (41.617909999999995, -83.54106999999999),\n",
              " (38.41592, -82.3465),\n",
              " (41.675709999999995, -83.69385),\n",
              " (39.08272, -84.52264),\n",
              " (39.280947, -80.278075),\n",
              " (38.36387, -81.73867),\n",
              " (40.0187, -82.90465999999999),\n",
              " (41.53757, -81.64083000000001),\n",
              " (41.16522, -81.47454),\n",
              " (39.52352, -82.02360999999999),\n",
              " (39.517216, -82.025802),\n",
              " (40.322818, -83.071034),\n",
              " (41.73565, -84.99082),\n",
              " (39.14648, -84.45455),\n",
              " (39.821220000000004, -85.76482),\n",
              " (41.11889, -81.65406999999999),\n",
              " (40.121557, -83.151457),\n",
              " (40.110170000000004, -83.15876999999999),\n",
              " (41.57777, -81.54987),\n",
              " (40.121557, -83.151457),\n",
              " (40.110170000000004, -83.15876999999999),\n",
              " (41.04592, -81.69463),\n",
              " (41.42099, -81.69051999999999),\n",
              " (39.27486, -84.346),\n",
              " (39.28266, -84.56742),\n",
              " (39.9467, -82.22232),\n",
              " (39.173970000000004, -84.49031),\n",
              " (39.17736, -84.4873),\n",
              " (39.9467, -82.22232),\n",
              " (39.9467, -82.22232),\n",
              " (41.685179999999995, -83.5678),\n",
              " (41.66572, -83.5652),\n",
              " (39.27125, -84.35176),\n",
              " (41.47395, -81.69931),\n",
              " (39.98505, -80.74006),\n",
              " (39.95813, -80.76219),\n",
              " (41.56544, -81.5835),\n",
              " (38.32587, -83.11389),\n",
              " (38.25869, -85.7622),\n",
              " (38.29322, -85.654625),\n",
              " (39.78609, -83.24606999999999),\n",
              " (41.53968, -81.62795),\n",
              " (39.08927, -84.5227),\n",
              " (38.25922, -85.76632),\n",
              " (41.552640000000004, -81.60032),\n",
              " (39.02187, -84.50492),\n",
              " (41.06755, -81.57421),\n",
              " (40.49223, -80.01029),\n",
              " (41.48836, -81.66471),\n",
              " (39.95085, -82.94428),\n",
              " (41.420629999999996, -81.80859),\n",
              " (41.06755, -81.57421),\n",
              " (40.82949, -81.39732),\n",
              " (41.400909999999996, -81.81724),\n",
              " (41.13355, -85.13584),\n",
              " (41.14226, -85.13611),\n",
              " (38.870385999999996, -84.624429),\n",
              " (41.47974, -81.6667),\n",
              " (40.30095, -80.16651999999999),\n",
              " (39.115429999999996, -84.50003000000001),\n",
              " (41.1419, -81.47694),\n",
              " (39.14917, -84.44711),\n",
              " (39.819790000000005, -84.18908),\n",
              " (39.84509, -84.1899),\n",
              " (41.47461, -81.71181999999999),\n",
              " (39.17304, -84.47589),\n",
              " (39.1021, -84.49754),\n",
              " (41.49873, -81.67260999999999),\n",
              " (39.12627, -84.53509),\n",
              " (41.473946000000005, -81.699011),\n",
              " (39.9745, -83.09654),\n",
              " (39.85911, -84.2808),\n",
              " (39.24943, -84.36541),\n",
              " (38.31179, -85.58773000000001),\n",
              " (39.27486, -84.346),\n",
              " (39.29287, -84.31981),\n",
              " (39.15267, -84.5395),\n",
              " (41.4675, -81.49014),\n",
              " (39.26661, -84.35605),\n",
              " (39.27125, -84.35176),\n",
              " (38.20674, -85.74846),\n",
              " (40.138040000000004, -82.97112),\n",
              " (41.47965, -81.66758),\n",
              " (39.08887, -84.52271),\n",
              " (41.6882, -83.64064),\n",
              " (40.06527, -82.99591),\n",
              " (39.865359999999995, -84.05238),\n",
              " (38.420223, -82.293065),\n",
              " (41.474140000000006, -81.69893),\n",
              " (41.47542, -81.68721),\n",
              " (40.07297, -83.1347),\n",
              " (40.056090000000005, -80.679211),\n",
              " (38.19105, -85.71902),\n",
              " (38.254540000000006, -85.71969),\n",
              " (39.171694, -84.494399),\n",
              " (41.06239, -81.52229),\n",
              " (39.259254, -84.440978),\n",
              " (39.905178, -82.895471),\n",
              " (40.0988, -83.13331),\n",
              " (41.339909999999996, -81.81739),\n",
              " (40.0999, -82.92089),\n",
              " (39.4728, -80.11963),\n",
              " (41.46631, -81.77065999999999),\n",
              " (38.34109, -81.70017),\n",
              " (41.160072, -85.232647),\n",
              " (41.163626, -85.24482900000001),\n",
              " (39.14014, -84.53495),\n",
              " (40.945370000000004, -81.15473),\n",
              " (41.68591, -83.911307),\n",
              " (41.704522999999995, -83.9136),\n",
              " (40.945772, -81.17219399999999),\n",
              " (38.82445, -82.98299),\n",
              " (38.84111, -82.98432),\n",
              " (39.00079, -84.42043000000001),\n",
              " (39.96071, -85.35383),\n",
              " (39.2675, -81.49929),\n",
              " (40.27317, -85.5577),\n",
              " (40.42667, -85.54968000000001),\n",
              " (38.130782, -81.388878),\n",
              " (38.545195, -85.778613),\n",
              " (38.362427000000004, -81.714434),\n",
              " (38.39115, -81.58664),\n",
              " (40.08978, -82.98725999999999),\n",
              " (40.0122, -82.99188000000001),\n",
              " (41.68918, -83.53681999999999),\n",
              " (39.3781, -84.365),\n",
              " (39.11919, -84.53539),\n",
              " (39.050290000000004, -83.77673),\n",
              " (39.04827, -83.77199),\n",
              " (40.0717, -82.90821),\n",
              " (39.09655, -84.48312),\n",
              " (40.43077, -80.02638),\n",
              " (41.443708, -85.19285),\n",
              " (41.438119, -85.15969399999999),\n",
              " (41.46747, -81.75909),\n",
              " (39.044435, -84.465864),\n",
              " (39.22461, -84.45364000000001),\n",
              " (41.104217, -81.499987),\n",
              " (41.1003, -81.4999),\n",
              " (39.1021, -84.49754),\n",
              " (41.46375, -81.69353000000001),\n",
              " (41.52134, -83.45642),\n",
              " (41.525490000000005, -83.46344),\n",
              " (41.43166, -81.68160999999999),\n",
              " (38.22363, -85.50532),\n",
              " (40.854659999999996, -81.41646999999999),\n",
              " (38.22272, -85.50111),\n",
              " (39.12424, -84.53501),\n",
              " (39.09858, -84.51974),\n",
              " (39.63551, -84.19519),\n",
              " (40.39715, -80.10368000000001),\n",
              " (41.56709, -81.57816),\n",
              " (41.18225, -84.94275999999999),\n",
              " (41.18225, -84.94275999999999),\n",
              " (39.10148, -84.52341),\n",
              " (39.10266, -84.52468),\n",
              " (41.55245, -83.60061999999999),\n",
              " (38.52006, -81.35221),\n",
              " (41.3513, -83.62276),\n",
              " (39.25015, -81.30566),\n",
              " (41.345031, -82.285379),\n",
              " (41.351335, -82.26144599999999),\n",
              " (38.384570000000004, -81.804429),\n",
              " (40.415279999999996, -80.01234000000001),\n",
              " (40.03598, -83.12479),\n",
              " (41.03669, -81.50492),\n",
              " (41.68971, -83.53045999999999),\n",
              " (39.587784, -83.723939),\n",
              " (39.626236999999996, -83.73105),\n",
              " (41.06243, -81.49904000000001),\n",
              " (41.06218, -81.50595),\n",
              " (39.97262, -82.98368),\n",
              " (39.93658, -83.00941999999999),\n",
              " (41.208579, -82.807829),\n",
              " (41.4051, -81.8184),\n",
              " (39.29035, -84.39078),\n",
              " (39.90524, -82.89541),\n",
              " (40.04376, -82.99708000000001),\n",
              " (39.98793, -82.98568),\n",
              " (41.874915, -85.409527),\n",
              " (41.890234, -85.409642),\n",
              " (39.9335, -82.78939),\n",
              " (40.04916, -83.03336),\n",
              " (39.99493, -82.93332),\n",
              " (39.837270000000004, -83.09326999999999),\n",
              " (40.989540000000005, -81.49372),\n",
              " (38.53844, -85.77702),\n",
              " (41.10389, -81.5),\n",
              " (38.577894, -85.77896),\n",
              " (41.42099, -81.69051999999999),\n",
              " (38.580546000000005, -85.77866),\n",
              " (39.833935, -84.061832),\n",
              " (38.30344, -85.88893),\n",
              " (39.93654, -83.40048),\n",
              " (39.95612, -83.37499),\n",
              " (39.177659999999996, -84.39780999999999),\n",
              " (40.02155, -83.0354),\n",
              " (39.97518, -85.63374),\n",
              " (39.94576, -85.63454),\n",
              " (40.277440000000006, -85.72518000000001),\n",
              " (40.2777, -85.67459000000001),\n",
              " (39.17304, -84.47589),\n",
              " (41.686479999999996, -83.5669),\n",
              " (41.66267, -85.03312),\n",
              " (41.68976, -83.666),\n",
              " (39.94594, -82.9432),\n",
              " (41.4758, -81.66036),\n",
              " (41.628312, -84.812135),\n",
              " (39.967240000000004, -83.02459),\n",
              " (41.964290000000005, -83.35018000000001),\n",
              " (41.282993, -83.638931),\n",
              " (41.63126, -83.48336),\n",
              " (41.427584, -85.8495),\n",
              " (41.471378, -85.839527),\n",
              " (41.46747, -81.75909),\n",
              " (39.183640000000004, -84.48373000000001),\n",
              " (41.94495, -80.40234),\n",
              " (39.53078, -84.310264),\n",
              " (41.438774, -81.80341999999999),\n",
              " (39.9838, -82.85656999999999),\n",
              " (40.444134000000005, -80.028261),\n",
              " (39.977270000000004, -83.15445),\n",
              " (39.9745, -83.09654),\n",
              " (39.97865, -83.11698),\n",
              " (39.97327, -83.12002),\n",
              " (39.22571, -84.36832),\n",
              " (39.986342, -83.118881),\n",
              " (39.736290000000004, -84.20489),\n",
              " (41.4051, -81.8184),\n",
              " (41.41101, -81.66634),\n",
              " (39.244640000000004, -84.44835),\n",
              " (40.112120000000004, -83.03905999999999),\n",
              " (40.30095, -80.16651999999999),\n",
              " (40.29739, -80.16798),\n",
              " (41.49243, -81.67554),\n",
              " (40.1827, -80.26148),\n",
              " (39.95459, -83.04255),\n",
              " (39.97527, -85.14018),\n",
              " (39.98511, -85.14406),\n",
              " (38.29514, -85.75655),\n",
              " (39.93654, -83.40048),\n",
              " (39.94143, -83.39224),\n",
              " (39.115429999999996, -84.50003000000001),\n",
              " (41.030684, -81.885739),\n",
              " (41.43166, -81.68160999999999),\n",
              " (40.6664, -80.227514),\n",
              " (40.67137, -80.22581),\n",
              " (41.305199, -81.438626),\n",
              " (40.354252, -85.843032),\n",
              " (40.402251, -85.842969),\n",
              " (41.267520000000005, -85.85673),\n",
              " (39.97307, -82.98405),\n",
              " (39.9672, -81.28699999999999),\n",
              " (39.96392, -81.27197),\n",
              " (41.526309999999995, -83.62123000000001),\n",
              " (39.93292, -82.83025),\n",
              " (39.08272, -84.52264),\n",
              " (39.8552, -84.32502),\n",
              " (41.65404, -85.70526),\n",
              " (41.654579999999996, -85.58601),\n",
              " (41.39465, -81.65326),\n",
              " (41.06211, -81.53053),\n",
              " (41.09598, -81.49976),\n",
              " (41.85222, -85.67843),\n",
              " (38.148808, -80.929665),\n",
              " (41.52447, -85.57791),\n",
              " (41.5105, -85.57781),\n",
              " (39.90524, -82.89541),\n",
              " (41.23598, -81.49325999999999),\n",
              " (38.70101, -80.66483000000001),\n",
              " (39.22498, -84.38094),\n",
              " (40.776022999999995, -80.12718100000001),\n",
              " (38.86027, -80.65729),\n",
              " (39.88203, -83.04748000000001),\n",
              " (39.892534000000005, -83.038786),\n",
              " (39.89698, -83.03428000000001),\n",
              " (41.67439, -83.693727),\n",
              " (41.12999, -85.15503000000001),\n",
              " (39.098890000000004, -84.52118),\n",
              " (41.526309999999995, -83.62123000000001),\n",
              " (39.088552, -84.522724),\n",
              " (39.954229999999995, -82.98879000000001),\n",
              " (39.21018, -84.46345),\n",
              " (39.95369, -82.96403000000001),\n",
              " (40.40934, -80.19247),\n",
              " (40.44126, -80.19314),\n",
              " (39.161609999999996, -84.51375),\n",
              " (39.161609999999996, -84.51375),\n",
              " (39.15141, -84.54061),\n",
              " (39.75855, -85.13715),\n",
              " (41.675709999999995, -83.69385),\n",
              " (41.675709999999995, -83.69385),\n",
              " (39.28805, -84.37462),\n",
              " (41.53618, -83.6176),\n",
              " (39.07202, -84.51907),\n",
              " (38.259133, -85.752672),\n",
              " (40.44425, -80.02821),\n",
              " (40.44278, -80.02468),\n",
              " (38.30155, -85.85499),\n",
              " (40.35405, -80.13756),\n",
              " (40.354490000000006, -80.13835999999999),\n",
              " (38.30344, -85.88893),\n",
              " (41.08789, -83.66011),\n",
              " (41.02454, -80.92163000000001),\n",
              " (41.02413, -80.90579),\n",
              " (39.08168, -84.7069),\n",
              " (38.185390000000005, -85.81793),\n",
              " (39.27734, -84.86438000000001),\n",
              " (39.16437, -84.43731),\n",
              " (39.748585, -84.226084),\n",
              " (39.4728, -80.11963),\n",
              " (41.187807, -80.149019),\n",
              " (41.19242, -80.15860500000001),\n",
              " (38.233483, -85.62671800000001),\n",
              " (38.33954, -81.609895),\n",
              " (40.07297, -83.1347),\n",
              " (40.08402, -83.13046),\n",
              " (38.346309999999995, -83.40449),\n",
              " (38.35382, -83.40553),\n",
              " (39.04416, -84.46656),\n",
              " (38.41807, -81.54525),\n",
              " (38.309401, -85.847643),\n",
              " (41.64679, -83.54913),\n",
              " (38.198747999999995, -85.733953),\n",
              " (39.97401, -82.99355),\n",
              " (39.173970000000004, -84.49031),\n",
              " (41.68843, -83.56258000000001),\n",
              " (41.67904, -83.5732),\n",
              " (39.25249, -84.36493),\n",
              " (38.310736, -85.590395),\n",
              " (41.469409999999996, -81.80535),\n",
              " (38.20674, -85.74846),\n",
              " (39.226317, -84.37107900000001),\n",
              " (41.68721, -83.55579),\n",
              " (40.09775, -84.22926),\n",
              " (41.42147, -81.70682),\n",
              " (38.294146000000005, -85.756847),\n",
              " (39.17304, -84.47589),\n",
              " (38.15982, -84.67308),\n",
              " (39.11675, -84.53355),\n",
              " (39.24943, -84.36541),\n",
              " (41.06146, -81.5049),\n",
              " (39.183640000000004, -84.48373000000001),\n",
              " (41.06228, -81.50986999999999),\n",
              " (39.98793, -82.98568),\n",
              " (39.95971, -83.04811),\n",
              " (39.1479, -84.53929000000001),\n",
              " (39.89555, -83.84997),\n",
              " (39.992259999999995, -82.98517),\n",
              " (39.40983, -82.97548),\n",
              " (40.6126, -80.09494000000001),\n",
              " (39.224790000000006, -84.27783000000001),\n",
              " (39.11675, -84.53355),\n",
              " (41.43869, -81.80554000000001),\n",
              " (40.016819, -82.90411),\n",
              " (39.097570000000005, -84.51666),\n",
              " (41.062470000000005, -81.52405),\n",
              " (39.13219, -84.49464),\n",
              " (39.097654, -84.516019),\n",
              " (41.34965, -81.51146),\n",
              " (41.37717, -81.5139),\n",
              " (40.125890000000005, -80.13661),\n",
              " (40.131890000000006, -80.132407),\n",
              " (40.00507, -83.1186),\n",
              " (39.437940000000005, -82.53893000000001),\n",
              " (39.12627, -84.53509),\n",
              " (38.07759, -84.45711999999999),\n",
              " (40.090790000000005, -82.90783),\n",
              " (39.64731, -85.91696999999999),\n",
              " (39.08927, -84.5227),\n",
              " (38.26109, -85.73695),\n",
              " (38.19785, -85.70445),\n",
              " (39.056540000000005, -84.54283000000001),\n",
              " (41.42413, -81.64519),\n",
              " (39.28638, -84.42706),\n",
              " (41.374990000000004, -83.61635),\n",
              " (41.06228, -81.50986999999999),\n",
              " (41.06146, -81.5049),\n",
              " (41.53907, -81.63354),\n",
              " (40.04916, -83.03336),\n",
              " (41.13613, -81.72196),\n",
              " (39.09891, -84.49181999999999),\n",
              " (39.96268, -82.84305),\n",
              " (39.173970000000004, -84.49031),\n",
              " (39.169109999999996, -84.42104),\n",
              " (39.003821, -80.391285),\n",
              " (39.17736, -84.4873),\n",
              " (39.143159999999995, -84.47069),\n",
              " (39.2696, -84.34894),\n",
              " (40.521732, -81.64755),\n",
              " (40.513360999999996, -81.651599),\n",
              " (41.526309999999995, -83.62123000000001),\n",
              " (38.992607, -80.195782),\n",
              " (38.839151, -82.152877),\n",
              " (40.27675, -85.49916),\n",
              " (40.521679999999996, -80.13163),\n",
              " (39.837109999999996, -84.54392),\n",
              " (39.02296, -84.51784),\n",
              " (38.455787, -81.88205),\n",
              " (39.02397, -84.48039),\n",
              " (38.22433, -85.751),\n",
              " (39.05973, -84.42438),\n",
              " (39.27734, -84.86438000000001),\n",
              " (41.47965, -81.66758),\n",
              " (39.02257, -84.48631),\n",
              " (40.44846, -80.00755),\n",
              " (39.09891, -84.28556999999999),\n",
              " (41.06026, -81.55485999999999),\n",
              " (41.802758000000004, -83.684687),\n",
              " (38.0791, -83.94591),\n",
              " (38.01846, -84.15159),\n",
              " (38.30344, -85.88893),\n",
              " (38.84109, -85.81618),\n",
              " (41.14181, -80.72015999999999),\n",
              " (39.14648, -84.45455),\n",
              " (41.042629999999996, -81.50543),\n",
              " (38.21089, -85.82606),\n",
              " (39.75067, -84.14148),\n",
              " (38.28581, -85.50792),\n",
              " (39.152733000000005, -84.541403),\n",
              " (38.23585, -85.658849),\n",
              " (38.202490000000004, -85.68697),\n",
              " (40.534909999999996, -83.10678),\n",
              " (40.52035, -83.10043),\n",
              " (39.12965, -84.49555),\n",
              " (38.22811, -85.7514),\n",
              " (40.41233, -80.07815),\n",
              " (39.7504, -84.20561),\n",
              " (39.08272, -84.52264),\n",
              " (39.781457, -85.839651),\n",
              " (39.781457, -85.839651),\n",
              " (41.060759999999995, -81.45923),\n",
              " (39.688148, -83.88431),\n",
              " (39.693164, -83.882745),\n",
              " (39.9488, -83.02845),\n",
              " (41.115840000000006, -81.61428000000001),\n",
              " (39.797697, -84.189677),\n",
              " (39.20326, -85.95763000000001),\n",
              " (39.244640000000004, -84.44835),\n",
              " (39.73733, -84.25733000000001),\n",
              " (39.969853, -85.972976),\n",
              " (41.11889, -81.65406999999999),\n",
              " (39.13219, -84.49464),\n",
              " (41.458, -83.62201999999999),\n",
              " (40.09268, -83.03726),\n",
              " (40.066965, -83.289888),\n",
              " (40.045608, -83.29660799999999),\n",
              " (39.97307, -82.98405),\n",
              " (39.982479999999995, -85.123922),\n",
              " (39.981095, -85.11027299999999),\n",
              " (40.430209999999995, -80.02554),\n",
              " (40.432190000000006, -80.02781999999999),\n",
              " (39.976566999999996, -83.128639),\n",
              " (41.256658, -85.363439),\n",
              " (41.374990000000004, -83.61635),\n",
              " (41.252653, -85.347328),\n",
              " (39.93658, -83.00941999999999),\n",
              " (39.14014, -84.53495),\n",
              " (40.153014, -82.970316),\n",
              " (39.90524, -82.89541),\n",
              " (39.13219, -84.49464),\n",
              " (40.42581, -80.4294),\n",
              " (41.08789, -83.65977),\n",
              " (39.9488, -83.02845),\n",
              " (41.47585, -81.87980999999999),\n",
              " (39.1079, -84.50284),\n",
              " (38.340803, -81.680728),\n",
              " (40.964729999999996, -85.28862),\n",
              " (38.441, -82.12679),\n",
              " (38.4413, -82.01529000000001),\n",
              " (38.441, -82.12679),\n",
              " (38.18977, -83.48379),\n",
              " (41.194131, -80.201982),\n",
              " (40.09601, -83.13626),\n",
              " (41.23632, -83.65401999999999),\n",
              " (38.1737, -84.81473000000001),\n",
              " (38.19016, -85.7616),\n",
              " (39.25249, -84.36493),\n",
              " (39.137217, -84.04718299999999),\n",
              " (39.141453999999996, -84.016543),\n",
              " (38.344424, -81.613662),\n",
              " (41.931129999999996, -83.35857),\n",
              " (40.89268, -84.61808),\n",
              " (40.46013, -80.19126),\n",
              " (41.119341999999996, -80.698025),\n",
              " (41.117872, -80.693898),\n",
              " (39.15267, -84.5395),\n",
              " (38.27362, -85.80906),\n",
              " (41.458, -83.62201999999999),\n",
              " (39.35655, -84.26419),\n",
              " (38.4062, -81.54054000000001),\n",
              " (41.025259000000005, -81.5042),\n",
              " (38.27362, -85.80906),\n",
              " (38.119690000000006, -85.77235),\n",
              " (38.275406, -85.81314300000001),\n",
              " (38.275079999999996, -85.81517099999999),\n",
              " (41.397690000000004, -81.939),\n",
              " (39.46513, -80.13559000000001),\n",
              " (38.217994, -81.426024),\n",
              " (38.215401, -81.42437199999999),\n",
              " (39.042851, -84.612615),\n",
              " (38.26109, -85.73695),\n",
              " (39.056540000000005, -84.54283000000001),\n",
              " (41.840758, -84.361657),\n",
              " (41.841122999999996, -84.361652),\n",
              " (41.63316, -83.54203000000001),\n",
              " (40.02874, -81.04368000000001),\n",
              " (41.43891, -81.80258),\n",
              " (41.0811, -81.50348000000001),\n",
              " (38.35575, -81.65420999999999),\n",
              " (39.94585, -82.94293),\n",
              " (41.69017, -83.5181),\n",
              " (40.112120000000004, -83.03905999999999),\n",
              " (41.502590000000005, -81.66974),\n",
              " (39.989994, -83.02512),\n",
              " (41.480458, -81.692932),\n",
              " (39.22461, -84.45364000000001),\n",
              " (40.04376, -82.99708000000001),\n",
              " (39.936209999999996, -82.88318000000001),\n",
              " (39.167788, -82.524172),\n",
              " (39.20655, -82.48212),\n",
              " (41.365759999999995, -81.51602),\n",
              " (39.977321999999994, -81.183327),\n",
              " (39.961933, -81.175436),\n",
              " (39.68292, -84.23004),\n",
              " (40.02664, -82.9944),\n",
              " (38.583372, -81.994824),\n",
              " (38.581196000000006, -82.004356),\n",
              " (40.07297, -83.1347),\n",
              " (41.586890000000004, -83.56234),\n",
              " (38.31714, -85.57677),\n",
              " (40.07297, -83.1347),\n",
              " (39.07202, -84.51907),\n",
              " (41.46747, -81.75909),\n",
              " (40.82645, -81.39675),\n",
              " (40.82645, -81.39675),\n",
              " (39.056540000000005, -84.54283000000001),\n",
              " (39.06272, -84.65728),\n",
              " (39.03368, -84.59527),\n",
              " (40.021209999999996, -82.99503),\n",
              " (39.866695, -84.9305),\n",
              " (39.056540000000005, -84.54283000000001),\n",
              " (39.03232, -84.59137),\n",
              " (41.04058, -81.61256999999999),\n",
              " (40.98884, -83.64875),\n",
              " (39.956579999999995, -83.37075),\n",
              " (39.89857, -83.72139),\n",
              " (39.896448, -83.72312099999999),\n",
              " (41.47965, -81.66758),\n",
              " (39.71548, -84.22033),\n",
              " (40.0389, -85.71828000000001),\n",
              " (41.17516, -81.23116999999999),\n",
              " (41.151070000000004, -81.21375),\n",
              " (40.0389, -85.71828000000001),\n",
              " (39.993359999999996, -85.83861999999999),\n",
              " (40.46013, -80.19126),\n",
              " (41.68976, -83.666),\n",
              " (39.973259999999996, -83.00690999999999),\n",
              " (39.48572, -83.94191),\n",
              " (39.83355, -85.99635),\n",
              " (39.83355, -85.99635),\n",
              " (39.79721, -85.97153),\n",
              " (39.79721, -85.97153),\n",
              " (39.98056, -83.11924),\n",
              " (41.458, -83.62243000000001),\n",
              " (39.905352, -82.995352),\n",
              " (39.99921, -83.02875),\n",
              " (40.869049, -81.95845600000001),\n",
              " (41.419021, -81.519515),\n",
              " (39.343920000000004, -84.39043000000001),\n",
              " (39.9454, -82.60271),\n",
              " (38.353957, -81.73513100000001),\n",
              " (38.354504999999996, -81.731585),\n",
              " (41.501622999999995, -81.479519),\n",
              " (39.86477, -83.99871),\n",
              " (38.737813, -85.250959),\n",
              " (40.00507, -83.1186),\n",
              " (39.919779999999996, -82.93149),\n",
              " (39.097570000000005, -84.51666),\n",
              " (41.07995, -81.50389),\n",
              " (41.63316, -83.54203000000001),\n",
              " (39.82529, -83.03175999999999),\n",
              " (39.83209, -82.99884),\n",
              " (39.83208, -83.000447),\n",
              " (39.83214, -82.99838000000001),\n",
              " (38.416631, -84.861968),\n",
              " (40.55549, -80.11634000000001),\n",
              " (39.17736, -84.4873),\n",
              " (41.484589, -81.691778),\n",
              " (41.227340000000005, -81.62705),\n",
              " (39.04695, -84.57498000000001),\n",
              " (39.25595, -84.44287),\n",
              " (39.8888, -82.88181999999999),\n",
              " (39.74729, -84.21426),\n",
              " (39.97415, -83.09486),\n",
              " (39.08272, -84.52264),\n",
              " (39.949808000000004, -83.02289300000001),\n",
              " (39.951409999999996, -83.0137),\n",
              " (38.7056, -80.66107),\n",
              " (39.1479, -84.53929000000001),\n",
              " (41.7573, -83.48075),\n",
              " (39.98946, -85.9299),\n",
              " (39.98894, -83.025012),\n",
              " (41.110996, -80.82384),\n",
              " (41.686859000000005, -83.554005),\n",
              " (41.53907, -81.63354),\n",
              " (39.300562, -84.518869),\n",
              " (41.202543, -85.7011),\n",
              " (39.19288, -84.47723),\n",
              " (40.07297, -83.1347),\n",
              " (39.140991, -84.483618),\n",
              " (41.121598999999996, -80.789503),\n",
              " (41.31438, -81.51286),\n",
              " (39.85922, -84.27762),\n",
              " (40.42005, -80.03531),\n",
              " (39.9589, -82.98257),\n",
              " (39.89087, -83.85382),\n",
              " (39.89862, -83.85353),\n",
              " (40.03938, -83.050567),\n",
              " (41.41218, -81.61371),\n",
              " (38.306159, -80.833765),\n",
              " (40.104, -82.94154),\n",
              " (38.24178, -85.62212),\n",
              " (41.552640000000004, -81.60032),\n",
              " (39.992259999999995, -82.98517),\n",
              " (38.315529999999995, -85.58313000000001),\n",
              " (38.400331, -85.371049),\n",
              " (38.312509999999996, -85.57741999999999),\n",
              " (38.400331, -85.371049),\n",
              " (39.889379999999996, -82.88316),\n",
              " (38.15873, -80.90504),\n",
              " (38.155136999999996, -80.912154),\n",
              " (39.9745, -83.09654),\n",
              " (41.47487, -81.72095),\n",
              " (39.26931, -84.4307),\n",
              " (38.2201, -85.82223),\n",
              " (41.48339, -81.66297),\n",
              " (39.161609999999996, -84.51375),\n",
              " (41.42734, -82.08322),\n",
              " (41.526309999999995, -83.62123000000001),\n",
              " (39.917320000000004, -83.012335),\n",
              " (41.608670000000004, -81.48891),\n",
              " (41.20554, -85.17116),\n",
              " (41.1787, -85.16594),\n",
              " (41.507189000000004, -81.67124),\n",
              " (39.97415, -83.09486),\n",
              " (39.97043, -83.01961999999999),\n",
              " (39.93849, -82.84849),\n",
              " (39.89698, -83.03428000000001),\n",
              " (39.71452, -84.22281),\n",
              " (40.11468, -83.01644),\n",
              " (38.34244, -85.80447),\n",
              " (41.47036, -81.65984),\n",
              " (38.30056, -85.84703),\n",
              " (39.169389, -84.50389),\n",
              " (39.936838, -83.042661),\n",
              " (39.937567, -83.04209200000001),\n",
              " (39.9425, -82.53536),\n",
              " (39.27125, -84.35176),\n",
              " (41.398877, -83.616108),\n",
              " (39.24422, -84.30224),\n",
              " (40.412997, -80.07973299999999),\n",
              " (39.021521, -84.50784300000001),\n",
              " (41.123670000000004, -80.76913),\n",
              " (41.073876, -83.66091999999999),\n",
              " (39.01992, -83.65886),\n",
              " (38.97914, -83.65465),\n",
              " (40.099270000000004, -83.15793000000001),\n",
              " (39.93658, -83.00941999999999),\n",
              " (39.115429999999996, -84.50003000000001),\n",
              " (41.474552, -81.711522),\n",
              " (39.78517, -84.18457),\n",
              " (41.47974, -81.6667),\n",
              " (38.277190000000004, -85.69383),\n",
              " (38.495124, -85.771118),\n",
              " (39.73277, -84.20522),\n",
              " (41.458, -83.62243000000001),\n",
              " (39.045381, -84.462312),\n",
              " (41.526, -81.65974),\n",
              " (40.78725, -81.38592),\n",
              " (38.3657, -85.75495),\n",
              " (39.02575, -84.61272),\n",
              " (40.90923, -81.79765),\n",
              " (40.91649, -81.78869),\n",
              " (39.10051, -80.39199),\n",
              " (40.082643, -82.91367199999999),\n",
              " (41.47162, -81.90626),\n",
              " (40.08155, -82.91859000000001),\n",
              " (40.07976, -82.92689),\n",
              " (38.27511, -85.81238),\n",
              " (39.02908, -84.53565),\n",
              " (39.04455, -84.57798000000001),\n",
              " (39.830259999999996, -81.45434),\n",
              " (39.81436, -81.46898),\n",
              " (38.41336, -82.3483),\n",
              " (38.20674, -85.74846),\n",
              " (38.10937, -85.70123000000001),\n",
              " (40.26758, -82.92745),\n",
              " (38.22285, -85.57436),\n",
              " (40.43827, -80.00527),\n",
              " (39.08272, -84.52264),\n",
              " (40.046599, -85.99359),\n",
              " (41.67904, -83.5732),\n",
              " (40.52225, -80.06666),\n",
              " (41.041763, -81.3932),\n",
              " (39.02541, -85.88784),\n",
              " (39.887572, -84.047499),\n",
              " (39.90803, -84.03969000000001),\n",
              " (39.8181, -81.45925),\n",
              " (39.8181, -81.45925),\n",
              " (39.8181, -81.45925),\n",
              " (39.81447, -81.46769),\n",
              " (41.47307, -80.36586),\n",
              " (41.460561, -80.366376),\n",
              " (39.75022, -84.19668),\n",
              " (39.161609999999996, -84.51375),\n",
              " (39.82329, -84.166569),\n",
              " (39.818751, -84.167637),\n",
              " (39.15267, -84.5395),\n",
              " (40.480209, -85.719799),\n",
              " (39.026759999999996, -84.61421),\n",
              " (40.480209, -85.719799),\n",
              " (40.480129999999996, -85.72942900000001),\n",
              " (38.24863, -85.70467),\n",
              " (39.24907, -84.44561999999999),\n",
              " (39.183640000000004, -84.48373000000001),\n",
              " (41.420898, -81.69322),\n",
              " (39.18976, -84.26285),\n",
              " (40.009209999999996, -83.03149),\n",
              " (41.12369, -80.75595),\n",
              " (41.09705, -81.50012),\n",
              " (41.03011, -81.40292099999999),\n",
              " (39.9533, -83.0032),\n",
              " (39.91404, -83.01729),\n",
              " (39.118109999999994, -84.49975),\n",
              " (39.73277, -84.20522),\n",
              " (41.47379, -81.69592),\n",
              " (41.47395, -81.69931),\n",
              " (39.62334, -81.83577),\n",
              " (39.98233, -82.98449000000001),\n",
              " (40.15106, -80.03243),\n",
              " (41.66332, -83.56385999999999),\n",
              " (39.35245, -84.37507),\n",
              " (41.67178, -83.6939),\n",
              " (38.380179999999996, -82.60993),\n",
              " (39.03347, -84.603),\n",
              " (40.42116, -80.0438),\n",
              " (41.341147, -83.347543),\n",
              " (41.34131, -83.376561),\n",
              " (40.26758, -82.92745),\n",
              " (40.432459, -80.023538),\n",
              " (39.9912, -85.9188),\n",
              " (39.056540000000005, -84.54283000000001),\n",
              " (38.39328, -85.76223),\n",
              " (39.971658000000005, -80.017133),\n",
              " (39.98381, -80.01011),\n",
              " (39.844570000000004, -85.51639399999999),\n",
              " (38.399528000000004, -85.76430500000001),\n",
              " (38.38981, -81.76937),\n",
              " (41.47965, -81.66758),\n",
              " (39.978590000000004, -82.9763),\n",
              " (40.681090000000005, -80.24616999999999),\n",
              " (40.681090000000005, -80.24616999999999),\n",
              " (41.47487, -81.72095),\n",
              " ...]"
            ]
          },
          "metadata": {},
          "execution_count": 180
        }
      ]
    },
    {
      "cell_type": "code",
      "source": [
        "#It would look nice to show the heatmap based upon the density of the points"
      ],
      "metadata": {
        "id": "bFsZLJPiPg47"
      },
      "execution_count": null,
      "outputs": []
    },
    {
      "cell_type": "code",
      "source": [
        "from folium.plugins import HeatMap"
      ],
      "metadata": {
        "id": "FsGnrQypQ7ml"
      },
      "execution_count": null,
      "outputs": []
    },
    {
      "cell_type": "code",
      "source": [
        "map=folium.Map()\n",
        "marker=folium.Marker((lat,lon))\n",
        "marker.add_to(map)\n",
        "map "
      ],
      "metadata": {
        "colab": {
          "base_uri": "https://localhost:8080/",
          "height": 763
        },
        "id": "AXmVrxNgECxS",
        "outputId": "2bc5a4bd-be08-4cf9-ac92-9e3c84f471ad"
      },
      "execution_count": null,
      "outputs": [
        {
          "output_type": "execute_result",
          "data": {
            "text/html": [
              "<div style=\"width:100%;\"><div style=\"position:relative;width:100%;height:0;padding-bottom:60%;\"><span style=\"color:#565656\">Make this Notebook Trusted to load map: File -> Trust Notebook</span><iframe src=\"about:blank\" style=\"position:absolute;width:100%;height:100%;left:0;top:0;border:none !important;\" data-html=%3C%21DOCTYPE%20html%3E%0A%3Chead%3E%20%20%20%20%0A%20%20%20%20%3Cmeta%20http-equiv%3D%22content-type%22%20content%3D%22text/html%3B%20charset%3DUTF-8%22%20/%3E%0A%20%20%20%20%3Cscript%3EL_PREFER_CANVAS%3Dfalse%3B%20L_NO_TOUCH%3Dfalse%3B%20L_DISABLE_3D%3Dfalse%3B%3C/script%3E%0A%20%20%20%20%3Cscript%20src%3D%22https%3A//cdn.jsdelivr.net/npm/leaflet%401.4.0/dist/leaflet.js%22%3E%3C/script%3E%0A%20%20%20%20%3Cscript%20src%3D%22https%3A//code.jquery.com/jquery-1.12.4.min.js%22%3E%3C/script%3E%0A%20%20%20%20%3Cscript%20src%3D%22https%3A//maxcdn.bootstrapcdn.com/bootstrap/3.2.0/js/bootstrap.min.js%22%3E%3C/script%3E%0A%20%20%20%20%3Cscript%20src%3D%22https%3A//cdnjs.cloudflare.com/ajax/libs/Leaflet.awesome-markers/2.0.2/leaflet.awesome-markers.js%22%3E%3C/script%3E%0A%20%20%20%20%3Clink%20rel%3D%22stylesheet%22%20href%3D%22https%3A//cdn.jsdelivr.net/npm/leaflet%401.4.0/dist/leaflet.css%22/%3E%0A%20%20%20%20%3Clink%20rel%3D%22stylesheet%22%20href%3D%22https%3A//maxcdn.bootstrapcdn.com/bootstrap/3.2.0/css/bootstrap.min.css%22/%3E%0A%20%20%20%20%3Clink%20rel%3D%22stylesheet%22%20href%3D%22https%3A//maxcdn.bootstrapcdn.com/bootstrap/3.2.0/css/bootstrap-theme.min.css%22/%3E%0A%20%20%20%20%3Clink%20rel%3D%22stylesheet%22%20href%3D%22https%3A//maxcdn.bootstrapcdn.com/font-awesome/4.6.3/css/font-awesome.min.css%22/%3E%0A%20%20%20%20%3Clink%20rel%3D%22stylesheet%22%20href%3D%22https%3A//cdnjs.cloudflare.com/ajax/libs/Leaflet.awesome-markers/2.0.2/leaflet.awesome-markers.css%22/%3E%0A%20%20%20%20%3Clink%20rel%3D%22stylesheet%22%20href%3D%22https%3A//rawcdn.githack.com/python-visualization/folium/master/folium/templates/leaflet.awesome.rotate.css%22/%3E%0A%20%20%20%20%3Cstyle%3Ehtml%2C%20body%20%7Bwidth%3A%20100%25%3Bheight%3A%20100%25%3Bmargin%3A%200%3Bpadding%3A%200%3B%7D%3C/style%3E%0A%20%20%20%20%3Cstyle%3E%23map%20%7Bposition%3Aabsolute%3Btop%3A0%3Bbottom%3A0%3Bright%3A0%3Bleft%3A0%3B%7D%3C/style%3E%0A%20%20%20%20%0A%20%20%20%20%3Cmeta%20name%3D%22viewport%22%20content%3D%22width%3Ddevice-width%2C%0A%20%20%20%20%20%20%20%20initial-scale%3D1.0%2C%20maximum-scale%3D1.0%2C%20user-scalable%3Dno%22%20/%3E%0A%20%20%20%20%3Cstyle%3E%23map_ff7d3831363f4194a16424ec228b2f21%20%7B%0A%20%20%20%20%20%20%20%20position%3A%20relative%3B%0A%20%20%20%20%20%20%20%20width%3A%20100.0%25%3B%0A%20%20%20%20%20%20%20%20height%3A%20100.0%25%3B%0A%20%20%20%20%20%20%20%20left%3A%200.0%25%3B%0A%20%20%20%20%20%20%20%20top%3A%200.0%25%3B%0A%20%20%20%20%20%20%20%20%7D%0A%20%20%20%20%3C/style%3E%0A%3C/head%3E%0A%3Cbody%3E%20%20%20%20%0A%20%20%20%20%0A%20%20%20%20%3Cdiv%20class%3D%22folium-map%22%20id%3D%22map_ff7d3831363f4194a16424ec228b2f21%22%20%3E%3C/div%3E%0A%3C/body%3E%0A%3Cscript%3E%20%20%20%20%0A%20%20%20%20%0A%20%20%20%20%0A%20%20%20%20%20%20%20%20var%20bounds%20%3D%20null%3B%0A%20%20%20%20%0A%0A%20%20%20%20var%20map_ff7d3831363f4194a16424ec228b2f21%20%3D%20L.map%28%0A%20%20%20%20%20%20%20%20%27map_ff7d3831363f4194a16424ec228b2f21%27%2C%20%7B%0A%20%20%20%20%20%20%20%20center%3A%20%5B0%2C%200%5D%2C%0A%20%20%20%20%20%20%20%20zoom%3A%201%2C%0A%20%20%20%20%20%20%20%20maxBounds%3A%20bounds%2C%0A%20%20%20%20%20%20%20%20layers%3A%20%5B%5D%2C%0A%20%20%20%20%20%20%20%20worldCopyJump%3A%20false%2C%0A%20%20%20%20%20%20%20%20crs%3A%20L.CRS.EPSG3857%2C%0A%20%20%20%20%20%20%20%20zoomControl%3A%20true%2C%0A%20%20%20%20%20%20%20%20%7D%29%3B%0A%0A%0A%20%20%20%20%0A%20%20%20%20var%20tile_layer_7c88018b03694b42894bcf95958f007d%20%3D%20L.tileLayer%28%0A%20%20%20%20%20%20%20%20%27https%3A//%7Bs%7D.tile.openstreetmap.org/%7Bz%7D/%7Bx%7D/%7By%7D.png%27%2C%0A%20%20%20%20%20%20%20%20%7B%0A%20%20%20%20%20%20%20%20%22attribution%22%3A%20null%2C%0A%20%20%20%20%20%20%20%20%22detectRetina%22%3A%20false%2C%0A%20%20%20%20%20%20%20%20%22maxNativeZoom%22%3A%2018%2C%0A%20%20%20%20%20%20%20%20%22maxZoom%22%3A%2018%2C%0A%20%20%20%20%20%20%20%20%22minZoom%22%3A%200%2C%0A%20%20%20%20%20%20%20%20%22noWrap%22%3A%20false%2C%0A%20%20%20%20%20%20%20%20%22opacity%22%3A%201%2C%0A%20%20%20%20%20%20%20%20%22subdomains%22%3A%20%22abc%22%2C%0A%20%20%20%20%20%20%20%20%22tms%22%3A%20false%0A%7D%29.addTo%28map_ff7d3831363f4194a16424ec228b2f21%29%3B%0A%20%20%20%20%0A%20%20%20%20%20%20%20%20var%20marker_c8527ee61c4d4849aa99b6c9f57ab328%20%3D%20L.marker%28%0A%20%20%20%20%20%20%20%20%20%20%20%20%5B40.108909999999995%2C%20-83.09286%5D%2C%0A%20%20%20%20%20%20%20%20%20%20%20%20%7B%0A%20%20%20%20%20%20%20%20%20%20%20%20%20%20%20%20icon%3A%20new%20L.Icon.Default%28%29%2C%0A%20%20%20%20%20%20%20%20%20%20%20%20%20%20%20%20%7D%0A%20%20%20%20%20%20%20%20%20%20%20%20%29.addTo%28map_ff7d3831363f4194a16424ec228b2f21%29%3B%0A%20%20%20%20%20%20%20%20%0A%3C/script%3E onload=\"this.contentDocument.open();this.contentDocument.write(    decodeURIComponent(this.getAttribute('data-html')));this.contentDocument.close();\" allowfullscreen webkitallowfullscreen mozallowfullscreen></iframe></div></div>"
            ],
            "text/plain": [
              "<folium.folium.Map at 0x7fc68b5a0210>"
            ]
          },
          "metadata": {},
          "execution_count": 176
        }
      ]
    },
    {
      "cell_type": "code",
      "source": [
        "map=folium.Map()\n",
        "HeatMap(lat_lon_pairs).add_to(map)\n",
        "map"
      ],
      "metadata": {
        "colab": {
          "base_uri": "https://localhost:8080/",
          "height": 763
        },
        "id": "aMtU3qhZECvH",
        "outputId": "894b6e22-7dd1-4b0f-c671-0341f236eaf7"
      },
      "execution_count": null,
      "outputs": [
        {
          "output_type": "execute_result",
          "data": {
            "text/html": [
              "<div style=\"width:100%;\"><div style=\"position:relative;width:100%;height:0;padding-bottom:60%;\"><span style=\"color:#565656\">Make this Notebook Trusted to load map: File -> Trust Notebook</span><iframe src=\"about:blank\" style=\"position:absolute;width:100%;height:100%;left:0;top:0;border:none !important;\" data-html=%3C%21DOCTYPE%20html%3E%0A%3Chead%3E%20%20%20%20%0A%20%20%20%20%3Cmeta%20http-equiv%3D%22content-type%22%20content%3D%22text/html%3B%20charset%3DUTF-8%22%20/%3E%0A%20%20%20%20%3Cscript%3EL_PREFER_CANVAS%3Dfalse%3B%20L_NO_TOUCH%3Dfalse%3B%20L_DISABLE_3D%3Dfalse%3B%3C/script%3E%0A%20%20%20%20%3Cscript%20src%3D%22https%3A//cdn.jsdelivr.net/npm/leaflet%401.4.0/dist/leaflet.js%22%3E%3C/script%3E%0A%20%20%20%20%3Cscript%20src%3D%22https%3A//code.jquery.com/jquery-1.12.4.min.js%22%3E%3C/script%3E%0A%20%20%20%20%3Cscript%20src%3D%22https%3A//maxcdn.bootstrapcdn.com/bootstrap/3.2.0/js/bootstrap.min.js%22%3E%3C/script%3E%0A%20%20%20%20%3Cscript%20src%3D%22https%3A//cdnjs.cloudflare.com/ajax/libs/Leaflet.awesome-markers/2.0.2/leaflet.awesome-markers.js%22%3E%3C/script%3E%0A%20%20%20%20%3Clink%20rel%3D%22stylesheet%22%20href%3D%22https%3A//cdn.jsdelivr.net/npm/leaflet%401.4.0/dist/leaflet.css%22/%3E%0A%20%20%20%20%3Clink%20rel%3D%22stylesheet%22%20href%3D%22https%3A//maxcdn.bootstrapcdn.com/bootstrap/3.2.0/css/bootstrap.min.css%22/%3E%0A%20%20%20%20%3Clink%20rel%3D%22stylesheet%22%20href%3D%22https%3A//maxcdn.bootstrapcdn.com/bootstrap/3.2.0/css/bootstrap-theme.min.css%22/%3E%0A%20%20%20%20%3Clink%20rel%3D%22stylesheet%22%20href%3D%22https%3A//maxcdn.bootstrapcdn.com/font-awesome/4.6.3/css/font-awesome.min.css%22/%3E%0A%20%20%20%20%3Clink%20rel%3D%22stylesheet%22%20href%3D%22https%3A//cdnjs.cloudflare.com/ajax/libs/Leaflet.awesome-markers/2.0.2/leaflet.awesome-markers.css%22/%3E%0A%20%20%20%20%3Clink%20rel%3D%22stylesheet%22%20href%3D%22https%3A//rawcdn.githack.com/python-visualization/folium/master/folium/templates/leaflet.awesome.rotate.css%22/%3E%0A%20%20%20%20%3Cstyle%3Ehtml%2C%20body%20%7Bwidth%3A%20100%25%3Bheight%3A%20100%25%3Bmargin%3A%200%3Bpadding%3A%200%3B%7D%3C/style%3E%0A%20%20%20%20%3Cstyle%3E%23map%20%7Bposition%3Aabsolute%3Btop%3A0%3Bbottom%3A0%3Bright%3A0%3Bleft%3A0%3B%7D%3C/style%3E%0A%20%20%20%20%0A%20%20%20%20%3Cmeta%20name%3D%22viewport%22%20content%3D%22width%3Ddevice-width%2C%0A%20%20%20%20%20%20%20%20initial-scale%3D1.0%2C%20maximum-scale%3D1.0%2C%20user-scalable%3Dno%22%20/%3E%0A%20%20%20%20%3Cstyle%3E%23map_d446556f25f24a6399b250dad6f4de95%20%7B%0A%20%20%20%20%20%20%20%20position%3A%20relative%3B%0A%20%20%20%20%20%20%20%20width%3A%20100.0%25%3B%0A%20%20%20%20%20%20%20%20height%3A%20100.0%25%3B%0A%20%20%20%20%20%20%20%20left%3A%200.0%25%3B%0A%20%20%20%20%20%20%20%20top%3A%200.0%25%3B%0A%20%20%20%20%20%20%20%20%7D%0A%20%20%20%20%3C/style%3E%0A%20%20%20%20%3Cscript%20src%3D%22https%3A//leaflet.github.io/Leaflet.heat/dist/leaflet-heat.js%22%3E%3C/script%3E%0A%3C/head%3E%0A%3Cbody%3E%20%20%20%20%0A%20%20%20%20%0A%20%20%20%20%3Cdiv%20class%3D%22folium-map%22%20id%3D%22map_d446556f25f24a6399b250dad6f4de95%22%20%3E%3C/div%3E%0A%3C/body%3E%0A%3Cscript%3E%20%20%20%20%0A%20%20%20%20%0A%20%20%20%20%0A%20%20%20%20%20%20%20%20var%20bounds%20%3D%20null%3B%0A%20%20%20%20%0A%0A%20%20%20%20var%20map_d446556f25f24a6399b250dad6f4de95%20%3D%20L.map%28%0A%20%20%20%20%20%20%20%20%27map_d446556f25f24a6399b250dad6f4de95%27%2C%20%7B%0A%20%20%20%20%20%20%20%20center%3A%20%5B0%2C%200%5D%2C%0A%20%20%20%20%20%20%20%20zoom%3A%201%2C%0A%20%20%20%20%20%20%20%20maxBounds%3A%20bounds%2C%0A%20%20%20%20%20%20%20%20layers%3A%20%5B%5D%2C%0A%20%20%20%20%20%20%20%20worldCopyJump%3A%20false%2C%0A%20%20%20%20%20%20%20%20crs%3A%20L.CRS.EPSG3857%2C%0A%20%20%20%20%20%20%20%20zoomControl%3A%20true%2C%0A%20%20%20%20%20%20%20%20%7D%29%3B%0A%0A%0A%20%20%20%20%0A%20%20%20%20var%20tile_layer_d34f2ca41c8e4ada935ad74f43f35715%20%3D%20L.tileLayer%28%0A%20%20%20%20%20%20%20%20%27https%3A//%7Bs%7D.tile.openstreetmap.org/%7Bz%7D/%7Bx%7D/%7By%7D.png%27%2C%0A%20%20%20%20%20%20%20%20%7B%0A%20%20%20%20%20%20%20%20%22attribution%22%3A%20null%2C%0A%20%20%20%20%20%20%20%20%22detectRetina%22%3A%20false%2C%0A%20%20%20%20%20%20%20%20%22maxNativeZoom%22%3A%2018%2C%0A%20%20%20%20%20%20%20%20%22maxZoom%22%3A%2018%2C%0A%20%20%20%20%20%20%20%20%22minZoom%22%3A%200%2C%0A%20%20%20%20%20%20%20%20%22noWrap%22%3A%20false%2C%0A%20%20%20%20%20%20%20%20%22opacity%22%3A%201%2C%0A%20%20%20%20%20%20%20%20%22subdomains%22%3A%20%22abc%22%2C%0A%20%20%20%20%20%20%20%20%22tms%22%3A%20false%0A%7D%29.addTo%28map_d446556f25f24a6399b250dad6f4de95%29%3B%0A%20%20%20%20%0A%20%20%20%20%20%20%20%20%20%20%20%20var%20heat_map_b39b95038e3d414aaeafac3cb63d2c31%20%3D%20L.heatLayer%28%0A%20%20%20%20%20%20%20%20%20%20%20%20%20%20%20%20%5B%5B40.477334%2C%20-76.290639%5D%2C%20%5B30.442628000000003%2C%20-91.138463%5D%2C%20%5B38.809214000000004%2C%20-122.572864%5D%2C%20%5B29.779133%2C%20-95.560614%5D%2C%20%5B39.77154%2C%20-104.81423000000001%5D%2C%20%5B39.5778%2C%20-75.07066%5D%2C%20%5B41.909219%2C%20-87.664099%5D%2C%20%5B37.52809%2C%20-77.52875999999999%5D%2C%20%5B43.453722%2C%20-123.41792%5D%2C%20%5B39.007655%2C%20-93.937815%5D%2C%20%5B37.22937%2C%20-121.97345%5D%2C%20%5B39.714345%2C%20-91.41896700000001%5D%2C%20%5B25.503604%2C%20-80.41090600000001%5D%2C%20%5B39.87612%2C%20-75.28029000000001%5D%2C%20%5B33.4349%2C%20-82.17759000000001%5D%2C%20%5B40.207390000000004%2C%20-75.43522%5D%2C%20%5B35.52922%2C%20-97.57885999999999%5D%2C%20%5B37.255765000000004%2C%20-121.954668%5D%2C%20%5B33.38112%2C%20-86.81378000000001%5D%2C%20%5B34.037432%2C%20-118.29876599999999%5D%2C%20%5B25.836976%2C%20-80.32230200000001%5D%2C%20%5B36.90237%2C%20-76.23758000000001%5D%2C%20%5B41.192948%2C%20-111.94883%5D%2C%20%5B29.317346999999998%2C%20-81.05243%5D%2C%20%5B44.105644%2C%20-122.68184%5D%2C%20%5B32.86939%2C%20-96.89817%5D%2C%20%5B38.558496000000005%2C%20-121.382931%5D%2C%20%5B25.940929999999998%2C%20-80.19008000000001%5D%2C%20%5B40.33639%2C%20-76.42761%5D%2C%20%5B40.576163%2C%20-122.36068%5D%2C%20%5B39.197555%2C%20-123.74659799999999%5D%2C%20%5B28.450378000000004%2C%20-81.40363%5D%2C%20%5B32.794259999999994%2C%20-97.21214%5D%2C%20%5B42.40971%2C%20-83.07760999999999%5D%2C%20%5B40.69359%2C%20-111.90287%5D%2C%20%5B39.337144%2C%20-76.481472%5D%2C%20%5B29.937359999999998%2C%20-95.48361%5D%2C%20%5B35.22025%2C%20-80.82873000000001%5D%2C%20%5B33.91049%2C%20-112.14554%5D%2C%20%5B37.603428%2C%20-122.06414199999999%5D%2C%20%5B40.730270000000004%2C%20-73.87620799999999%5D%2C%20%5B33.89815%2C%20-84.26787%5D%2C%20%5B41.253194%2C%20-73.6764%5D%2C%20%5B32.929619%2C%20-117.240825%5D%2C%20%5B33.182043%2C%20-117.23085800000001%5D%2C%20%5B25.824404%2C%20-80.2066%5D%2C%20%5B34.467424%2C%20-117.34834599999999%5D%2C%20%5B33.8616%2C%20-87.38835%5D%2C%20%5B38.739461%2C%20-122.14826699999999%5D%2C%20%5B38.886753000000006%2C%20-121.015826%5D%2C%20%5B45.53262%2C%20-122.57654%5D%2C%20%5B26.546190000000003%2C%20-81.87162%5D%2C%20%5B46.099381%2C%20-123.160901%5D%2C%20%5B33.914491%2C%20-117.88268000000001%5D%2C%20%5B46.099209%2C%20-123.15990900000001%5D%2C%20%5B40.924125%2C%20-102.448636%5D%2C%20%5B45.872772%2C%20-122.711653%5D%2C%20%5B28.064657%2C%20-82.73877%5D%2C%20%5B38.64317%2C%20-121.43409%5D%2C%20%5B27.78108%2C%20-82.66055%5D%2C%20%5B26.165897%2C%20-80.159891%5D%2C%20%5B36.877567%2C%20-119.97318700000001%5D%2C%20%5B37.13779%2C%20-93.72466999999999%5D%2C%20%5B37.20102%2C%20-121.736494%5D%2C%20%5B28.517297999999997%2C%20-81.483818%5D%2C%20%5B41.734809999999996%2C%20-72.66427%5D%2C%20%5B33.24091%2C%20-84.38245%5D%2C%20%5B26.081889%2C%20-80.16810600000001%5D%2C%20%5B40.05148%2C%20-75.53017%5D%2C%20%5B34.03553%2C%20-118.1699%5D%2C%20%5B32.77004%2C%20-117.13978%5D%2C%20%5B28.147645%2C%20-82.69268100000001%5D%2C%20%5B46.28365%2C%20-122.90194%5D%2C%20%5B45.37321%2C%20-93.5634%5D%2C%20%5B30.237387%2C%20-97.624328%5D%2C%20%5B32.79135%2C%20-96.81363%5D%2C%20%5B25.786510999999997%2C%20-80.212239%5D%2C%20%5B28.5393%2C%20-81.2526%5D%2C%20%5B25.763631%2C%20-80.26280200000001%5D%2C%20%5B36.9231%2C%20-119.83055%5D%2C%20%5B43.156989%2C%20-77.655175%5D%2C%20%5B40.84637%2C%20-74.35051999999999%5D%2C%20%5B40.80896%2C%20-73.55792%5D%2C%20%5B29.942496999999996%2C%20-90.07476899999999%5D%2C%20%5B38.439686%2C%20-121.40248999999999%5D%2C%20%5B42.74671%2C%20-83.42604%5D%2C%20%5B33.957451%2C%20-92.20209%5D%2C%20%5B47.63207%2C%20-122.18623000000001%5D%2C%20%5B37.238602%2C%20-80.229916%5D%2C%20%5B34.208525%2C%20-79.80467900000001%5D%2C%20%5B33.25602%2C%20-117.068353%5D%2C%20%5B38.79647%2C%20-77.13546%5D%2C%20%5B32.74477%2C%20-96.61219%5D%2C%20%5B42.900199%2C%20-71.465631%5D%2C%20%5B45.22695%2C%20-122.81367%5D%2C%20%5B25.714654%2C%20-80.41241600000001%5D%2C%20%5B36.829246999999995%2C%20-76.30856899999999%5D%2C%20%5B34.07181%2C%20-118.122918%5D%2C%20%5B40.39516%2C%20-80.10246%5D%2C%20%5B28.851722%2C%20-82.381573%5D%2C%20%5B38.91359%2C%20-76.99112%5D%2C%20%5B25.33768%2C%20-80.455187%5D%2C%20%5B33.559595%2C%20-117.672082%5D%2C%20%5B40.725702000000005%2C%20-73.83790400000001%5D%2C%20%5B37.577133%2C%20-77.46446%5D%2C%20%5B34.094742%2C%20-117.98796499999999%5D%2C%20%5B40.659929999999996%2C%20-73.56833%5D%2C%20%5B38.67988%2C%20-121.33941000000002%5D%2C%20%5B26.51991%2C%20-80.0727%5D%2C%20%5B38.941140000000004%2C%20-94.85807%5D%2C%20%5B37.700464000000004%2C%20-121.92563999999999%5D%2C%20%5B36.81422%2C%20-76.75307%5D%2C%20%5B45.517628%2C%20-122.66688400000001%5D%2C%20%5B26.136129999999998%2C%20-80.19933%5D%2C%20%5B45.521034%2C%20-122.665765%5D%2C%20%5B46.09877%2C%20-123.05646000000002%5D%2C%20%5B32.920590000000004%2C%20-96.75061%5D%2C%20%5B34.071812%2C%20-117.883921%5D%2C%20%5B34.340144%2C%20-118.51951299999999%5D%2C%20%5B44.436833%2C%20-119.30696200000001%5D%2C%20%5B41.16245%2C%20-112.02285%5D%2C%20%5B30.413521000000003%2C%20-84.331009%5D%2C%20%5B34.087375%2C%20-117.68088999999999%5D%2C%20%5B34.741678%2C%20-92.34983000000001%5D%2C%20%5B37.772659999999995%2C%20-122.40677%5D%2C%20%5B33.70524%2C%20-117.95443%5D%2C%20%5B45.134679999999996%2C%20-116.2831%5D%2C%20%5B38.54477%2C%20-121.47398999999999%5D%2C%20%5B32.64885%2C%20-96.77620999999999%5D%2C%20%5B39.988011%2C%20-121.63514099999999%5D%2C%20%5B34.620979%2C%20-120.080528%5D%2C%20%5B34.141996999999996%2C%20-117.32234%5D%2C%20%5B39.78009%2C%20-104.93226000000001%5D%2C%20%5B34.219246999999996%2C%20-117.071675%5D%2C%20%5B33.87291%2C%20-118.34236999999999%5D%2C%20%5B34.154858000000004%2C%20-118.31086499999999%5D%2C%20%5B37.641179%2C%20-121.00906200000001%5D%2C%20%5B41.164294%2C%20-73.35671500000001%5D%2C%20%5B30.3208%2C%20-81.70904%5D%2C%20%5B35.526872%2C%20-120.674699%5D%2C%20%5B33.996067%2C%20-117.88976299999999%5D%2C%20%5B27.824628000000004%2C%20-82.728418%5D%2C%20%5B35.084859%2C%20-80.99184%5D%2C%20%5B35.8268%2C%20-78.620655%5D%2C%20%5B33.043915999999996%2C%20-117.285735%5D%2C%20%5B40.748020000000004%2C%20-73.96818%5D%2C%20%5B41.92256%2C%20-83.36104%5D%2C%20%5B40.823609999999995%2C%20-73.00518000000001%5D%2C%20%5B35.146646999999994%2C%20-80.819313%5D%2C%20%5B33.5547%2C%20-86.83136%5D%2C%20%5B34.011696%2C%20-118.418253%5D%2C%20%5B45.04687%2C%20-93.10984%5D%2C%20%5B47.601971%2C%20-122.32491599999999%5D%2C%20%5B38.343003%2C%20-122.006703%5D%2C%20%5B38.019762%2C%20-120.246801%5D%2C%20%5B41.55011%2C%20-81.60528000000001%5D%2C%20%5B40.17103%2C%20-75.07122%5D%2C%20%5B45.534698999999996%2C%20-122.6665%5D%2C%20%5B35.06975%2C%20-85.100605%5D%2C%20%5B25.82284%2C%20-80.32151999999999%5D%2C%20%5B25.904192000000002%2C%20-80.317711%5D%2C%20%5B32.969962%2C%20-81.763006%5D%2C%20%5B33.026662%2C%20-116.56250700000001%5D%2C%20%5B37.575479%2C%20-77.47706%5D%2C%20%5B34.07427%2C%20-118.2193%5D%2C%20%5B40.854842%2C%20-73.9702%5D%2C%20%5B44.88498%2C%20-93.41059%5D%2C%20%5B44.067438%2C%20-123.456984%5D%2C%20%5B37.62789%2C%20-122.08164%5D%2C%20%5B38.657107%2C%20-121.380323%5D%2C%20%5B45.529575%2C%20-118.447404%5D%2C%20%5B39.185340000000004%2C%20-94.5186%5D%2C%20%5B29.948940000000004%2C%20-95.4131%5D%2C%20%5B28.645253000000004%2C%20-81.99480600000001%5D%2C%20%5B45.687490999999994%2C%20-120.48661100000001%5D%2C%20%5B38.524879999999996%2C%20-121.46777%5D%2C%20%5B37.001746000000004%2C%20-122.021004%5D%2C%20%5B44.412040000000005%2C%20-117.30828000000001%5D%2C%20%5B41.66817%2C%20-86.7272%5D%2C%20%5B41.235372999999996%2C%20-73.028059%5D%2C%20%5B35.40084%2C%20-82.51131%5D%2C%20%5B30.667758000000003%2C%20-83.316926%5D%2C%20%5B38.128985%2C%20-77.512997%5D%2C%20%5B44.96542%2C%20-93.28805%5D%2C%20%5B33.87203%2C%20-117.66521999999999%5D%2C%20%5B35.038258%2C%20-107.36725%5D%2C%20%5B41.55362%2C%20-87.31126%5D%2C%20%5B40.754127000000004%2C%20-75.53868%5D%2C%20%5B38.499675%2C%20-77.38046899999999%5D%2C%20%5B39.895681%2C%20-75.10793000000001%5D%2C%20%5B38.31921%2C%20-81.719075%5D%2C%20%5B38.575047%2C%20-121.57320700000001%5D%2C%20%5B40.741821%2C%20-73.782967%5D%2C%20%5B30.308642%2C%20-97.728411%5D%2C%20%5B32.67295%2C%20-96.99081%5D%2C%20%5B32.66075%2C%20-96.87136%5D%2C%20%5B38.923627%2C%20-76.93055%5D%2C%20%5B45.15862%2C%20-123.20208000000001%5D%2C%20%5B33.911561999999996%2C%20-118.160023%5D%2C%20%5B38.9094%2C%20-77.21557%5D%2C%20%5B37.80771%2C%20-122.36764%5D%2C%20%5B40.581578%2C%20-98.39248%5D%2C%20%5B34.50253%2C%20-111.57803%5D%2C%20%5B28.347333000000003%2C%20-81.508995%5D%2C%20%5B39.603896999999996%2C%20-76.477994%5D%2C%20%5B40.246776000000004%2C%20-76.469146%5D%2C%20%5B42.74805%2C%20-71.49289%5D%2C%20%5B38.804403%2C%20-123.01236100000001%5D%2C%20%5B45.587152%2C%20-118.639936%5D%2C%20%5B44.850742%2C%20-123.01012%5D%2C%20%5B43.791276%2C%20-70.315083%5D%2C%20%5B29.054886%2C%20-81.30426%5D%2C%20%5B36.401579999999996%2C%20-121.58078%5D%2C%20%5B43.730990000000006%2C%20-95.1746%5D%2C%20%5B25.910063%2C%20-80.210076%5D%2C%20%5B25.750464%2C%20-80.208899%5D%2C%20%5B29.76347%2C%20-95.36963%5D%2C%20%5B37.236067%2C%20-121.75901699999999%5D%2C%20%5B34.069633%2C%20-118.261298%5D%2C%20%5B36.61295%2C%20-121.85407%5D%2C%20%5B28.949114%2C%20-81.259506%5D%2C%20%5B27.274822999999998%2C%20-80.359312%5D%2C%20%5B41.950894%2C%20-87.882848%5D%2C%20%5B37.274260999999996%2C%20-77.33009200000001%5D%2C%20%5B37.3495%2C%20-121.82908%5D%2C%20%5B45.141909000000005%2C%20-121.627849%5D%2C%20%5B34.01952%2C%20-118.173901%5D%2C%20%5B42.383419%2C%20-83.149026%5D%2C%20%5B35.31844%2C%20-80.77898%5D%2C%20%5B34.222111%2C%20-118.36646999999999%5D%2C%20%5B33.92848%2C%20-118.28931999999999%5D%2C%20%5B40.12958%2C%20-76.21602%5D%2C%20%5B38.465165%2C%20-123.00906%5D%2C%20%5B25.787589%2C%20-80.18007800000001%5D%2C%20%5B35.376179%2C%20-119.002987%5D%2C%20%5B35.218152%2C%20-80.834113%5D%2C%20%5B34.292976%2C%20-79.704757%5D%2C%20%5B25.889985%2C%20-80.269378%5D%2C%20%5B37.31453%2C%20-121.82791999999999%5D%2C%20%5B35.952082%2C%20-83.204923%5D%2C%20%5B29.460101%2C%20-98.404066%5D%2C%20%5B32.893159999999995%2C%20-117.115478%5D%2C%20%5B40.72578%2C%20-74.13155%5D%2C%20%5B33.467054%2C%20-111.843273%5D%2C%20%5B34.026732%2C%20-117.567448%5D%2C%20%5B40.75327%2C%20-74.21083%5D%2C%20%5B37.906842%2C%20-122.31497%5D%2C%20%5B40.660138%2C%20-111.95246000000002%5D%2C%20%5B36.99597%2C%20-121.717075%5D%2C%20%5B38.350459%2C%20-121.417456%5D%2C%20%5B33.873822%2C%20-117.696322%5D%2C%20%5B33.915242%2C%20-118.187599%5D%2C%20%5B35.63841%2C%20-97.51371999999999%5D%2C%20%5B39.321824%2C%20-77.354515%5D%2C%20%5B34.165391%2C%20-118.480782%5D%2C%20%5B29.977451000000002%2C%20-90.11219100000001%5D%2C%20%5B36.748959%2C%20-119.776073%5D%2C%20%5B39.43522%2C%20-76.633661%5D%2C%20%5B37.613040000000005%2C%20-113.15316000000001%5D%2C%20%5B43.885905%2C%20-84.959456%5D%2C%20%5B34.127088%2C%20-118.474797%5D%2C%20%5B29.09579%2C%20-82.240155%5D%2C%20%5B41.25385%2C%20-111.85275800000001%5D%2C%20%5B38.99774%2C%20-94.50242%5D%2C%20%5B30.22232%2C%20-81.51424%5D%2C%20%5B38.829209999999996%2C%20-104.84073000000001%5D%2C%20%5B45.335538%2C%20-122.76956000000001%5D%2C%20%5B44.88709%2C%20-93.32895%5D%2C%20%5B33.1283%2C%20-117.11243999999999%5D%2C%20%5B40.158951%2C%20-80.119085%5D%2C%20%5B38.914640000000006%2C%20-76.93269000000001%5D%2C%20%5B34.239129999999996%2C%20-118.47313%5D%2C%20%5B25.684099%2C%20-80.400543%5D%2C%20%5B26.267845%2C%20-81.742562%5D%2C%20%5B40.126754%2C%20-75.131332%5D%2C%20%5B37.64884%2C%20-122.096842%5D%2C%20%5B28.538435999999997%2C%20-81.373271%5D%2C%20%5B33.48468%2C%20-117.1424%5D%2C%20%5B34.054356%2C%20-118.004333%5D%2C%20%5B39.069%2C%20-94.51133%5D%2C%20%5B39.11782%2C%20-78.19333%5D%2C%20%5B48.185359000000005%2C%20-111.93410700000001%5D%2C%20%5B41.36527%2C%20-81.51599%5D%2C%20%5B28.212643%2C%20-80.610648%5D%2C%20%5B33.505114%2C%20-112.112571%5D%2C%20%5B29.496990000000004%2C%20-82.29468%5D%2C%20%5B33.98635%2C%20-118.28025%5D%2C%20%5B34.13841%2C%20-118.27656999999999%5D%2C%20%5B40.731697%2C%20-73.87145600000001%5D%2C%20%5B25.828331%2C%20-80.206171%5D%2C%20%5B25.708067%2C%20-80.285596%5D%2C%20%5B40.245052%2C%20-74.700449%5D%2C%20%5B28.476676%2C%20-80.777668%5D%2C%20%5B40.727659%2C%20-74.129465%5D%2C%20%5B37.559470000000005%2C%20-122.30193%5D%2C%20%5B25.931894%2C%20-80.203648%5D%2C%20%5B42.46455%2C%20-87.86639%5D%2C%20%5B43.164189%2C%20-77.646624%5D%2C%20%5B36.83399%2C%20-119.78518000000001%5D%2C%20%5B33.991296000000006%2C%20-118.062694%5D%2C%20%5B41.751740000000005%2C%20-87.97381999999999%5D%2C%20%5B33.773393%2C%20-118.039162%5D%2C%20%5B25.910063%2C%20-80.210076%5D%2C%20%5B33.92321%2C%20-118.20573%5D%2C%20%5B27.298792%2C%20-82.497502%5D%2C%20%5B32.9128%2C%20-96.76849%5D%2C%20%5B38.514915%2C%20-90.334677%5D%2C%20%5B48.93765%2C%20-116.32372099999999%5D%2C%20%5B37.699861%2C%20-122.12095500000001%5D%2C%20%5B34.030237%2C%20-117.66776999999999%5D%2C%20%5B34.748540000000006%2C%20-82.28175%5D%2C%20%5B32.791575%2C%20-117.159218%5D%2C%20%5B29.737813%2C%20-95.491605%5D%2C%20%5B34.483208000000005%2C%20-82.459412%5D%2C%20%5B38.48295%2C%20-121.8113%5D%2C%20%5B38.736469%2C%20-77.193122%5D%2C%20%5B42.274770000000004%2C%20-71.05026%5D%2C%20%5B38.880904%2C%20-77.221988%5D%2C%20%5B41.846298%2C%20-73.55827%5D%2C%20%5B40.02047%2C%20-75.14119000000001%5D%2C%20%5B34.02499%2C%20-118.2387%5D%2C%20%5B32.724224%2C%20-96.762821%5D%2C%20%5B35.394676000000004%2C%20-84.715265%5D%2C%20%5B26.707929999999998%2C%20-80.15195%5D%2C%20%5B37.582423999999996%2C%20-122.326692%5D%2C%20%5B40.636418%2C%20-111.904921%5D%2C%20%5B33.67892%2C%20-114.077976%5D%2C%20%5B34.434961%2C%20-103.8442%5D%2C%20%5B37.410295%2C%20-121.911106%5D%2C%20%5B26.102067%2C%20-80.218187%5D%2C%20%5B34.005720000000004%2C%20-117.96019%5D%2C%20%5B34.81575%2C%20-92.32688%5D%2C%20%5B40.699788%2C%20-73.996237%5D%2C%20%5B44.972931%2C%20-93.409548%5D%2C%20%5B34.06392%2C%20-117.27238%5D%2C%20%5B29.77757%2C%20-95.5628%5D%2C%20%5B43.031890000000004%2C%20-76.46425%5D%2C%20%5B42.86521%2C%20-71.3383%5D%2C%20%5B41.69835%2C%20-87.59477%5D%2C%20%5B34.115193%2C%20-118.482111%5D%2C%20%5B38.45825%2C%20-77.40844%5D%2C%20%5B34.282610999999996%2C%20-117.351375%5D%2C%20%5B33.831375%2C%20-118.0839%5D%2C%20%5B33.955490999999995%2C%20-117.38125900000001%5D%2C%20%5B41.043194%2C%20-121.630936%5D%2C%20%5B29.7329%2C%20-95.45993%5D%2C%20%5B26.556659999999997%2C%20-81.89806%5D%2C%20%5B32.653219%2C%20-96.750744%5D%2C%20%5B43.23169%2C%20-77.7336%5D%2C%20%5B47.278927%2C%20-122.310666%5D%2C%20%5B33.348999%2C%20-111.97086999999999%5D%2C%20%5B40.89674%2C%20-74.48782%5D%2C%20%5B39.127621000000005%2C%20-121.55556499999999%5D%2C%20%5B32.846924%2C%20-117.236131%5D%2C%20%5B33.974446%2C%20-118.056436%5D%2C%20%5B40.138427%2C%20-75.31581%5D%2C%20%5B33.875331%2C%20-118.193156%5D%2C%20%5B39.26117%2C%20-94.58706%5D%2C%20%5B41.248995%2C%20-112.016783%5D%2C%20%5B43.888740000000006%2C%20-92.48789000000001%5D%2C%20%5B39.622409999999995%2C%20-105.19506000000001%5D%2C%20%5B25.702214%2C%20-80.292312%5D%2C%20%5B34.236884%2C%20-117.425075%5D%2C%20%5B33.325359999999996%2C%20-117.15848999999999%5D%2C%20%5B40.331105%2C%20-122.281623%5D%2C%20%5B44.9549%2C%20-93.18845999999999%5D%2C%20%5B40.47525%2C%20-74.86305%5D%2C%20%5B35.23742%2C%20-80.74302%5D%2C%20%5B41.131151%2C%20-100.76397%5D%2C%20%5B45.37915%2C%20-122.04507%5D%2C%20%5B40.76873%2C%20-73.94898%5D%2C%20%5B39.56392%2C%20-104.87177%5D%2C%20%5B29.973609999999997%2C%20-90.05705%5D%2C%20%5B40.781420000000004%2C%20-73.53566%5D%2C%20%5B42.33514%2C%20-88.11203%5D%2C%20%5B35.779967%2C%20-78.625058%5D%2C%20%5B26.723738%2C%20-80.091286%5D%2C%20%5B43.164693%2C%20-73.716362%5D%2C%20%5B29.498093%2C%20-98.400378%5D%2C%20%5B42.326673%2C%20-88.608455%5D%2C%20%5B42.000556%2C%20-121.708472%5D%2C%20%5B34.29598%2C%20-117.45508000000001%5D%2C%20%5B37.14609%2C%20-121.98586%5D%2C%20%5B37.78862%2C%20-122.25171%5D%2C%20%5B41.991438%2C%20-88.02365999999999%5D%2C%20%5B37.958265000000004%2C%20-121.258854%5D%2C%20%5B35.551441%2C%20-120.70343799999999%5D%2C%20%5B37.63077%2C%20-77.57764%5D%2C%20%5B38.838429999999995%2C%20-77.25135%5D%2C%20%5B38.838570000000004%2C%20-77.43698%5D%2C%20%5B27.930479%2C%20-80.603635%5D%2C%20%5B38.880282%2C%20-77.031037%5D%2C%20%5B37.115373999999996%2C%20-77.867204%5D%2C%20%5B40.540805999999996%2C%20-74.508193%5D%2C%20%5B33.837672%2C%20-117.52576100000002%5D%2C%20%5B33.998082000000004%2C%20-117.931097%5D%2C%20%5B39.795341%2C%20-86.16489%5D%2C%20%5B41.883140000000004%2C%20-87.64558000000001%5D%2C%20%5B41.82547%2C%20-71.41945%5D%2C%20%5B37.455246%2C%20-77.55396800000001%5D%2C%20%5B37.775028999999996%2C%20-121.32083999999999%5D%2C%20%5B37.998477%2C%20-120.38368100000001%5D%2C%20%5B40.090070000000004%2C%20-74.21423%5D%2C%20%5B42.19462%2C%20-88.08955%5D%2C%20%5B32.87369%2C%20-96.77034%5D%2C%20%5B34.41251%2C%20-118.57831000000002%5D%2C%20%5B37.787420000000004%2C%20-122.2481%5D%2C%20%5B40.41532%2C%20-80.01250999999999%5D%2C%20%5B34.065688%2C%20-117.50036599999999%5D%2C%20%5B37.970799%2C%20-122.32033799999999%5D%2C%20%5B36.432162%2C%20-80.034689%5D%2C%20%5B32.67781%2C%20-97.12%5D%2C%20%5B34.062657%2C%20-117.396426%5D%2C%20%5B40.861746999999994%2C%20-74.058712%5D%2C%20%5B34.19239%2C%20-118.40236000000002%5D%2C%20%5B31.76506%2C%20-106.45098999999999%5D%2C%20%5B41.5711%2C%20-87.29082%5D%2C%20%5B33.638740000000006%2C%20-112.435124%5D%2C%20%5B44.71078%2C%20-93.03254%5D%2C%20%5B37.111548%2C%20-76.48096899999999%5D%2C%20%5B39.90957%2C%20-104.9906%5D%2C%20%5B30.313871000000002%2C%20-81.664649%5D%2C%20%5B33.690109%2C%20-117.76827800000001%5D%2C%20%5B41.710249%2C%20-73.084799%5D%2C%20%5B41.73151%2C%20-83.48886999999999%5D%2C%20%5B39.940776%2C%20-75.195328%5D%2C%20%5B38.822518%2C%20-89.557875%5D%2C%20%5B40.198508000000004%2C%20-122.242347%5D%2C%20%5B38.36772%2C%20-105.7126%5D%2C%20%5B45.109667%2C%20-122.63844099999999%5D%2C%20%5B47.463079%2C%20-122.28333300000001%5D%2C%20%5B40.109140000000004%2C%20-82.96761%5D%2C%20%5B33.70507%2C%20-117.8551%5D%2C%20%5B25.749454%2C%20-80.335813%5D%2C%20%5B34.871001%2C%20-82.32838100000001%5D%2C%20%5B38.93778%2C%20-94.479557%5D%2C%20%5B33.55409%2C%20-112.03778%5D%2C%20%5B34.992298999999996%2C%20-118.94702099999999%5D%2C%20%5B33.354502000000004%2C%20-86.854487%5D%2C%20%5B40.853658%2C%20-73.965014%5D%2C%20%5B33.654920000000004%2C%20-84.36503%5D%2C%20%5B37.942605%2C%20-122.477717%5D%2C%20%5B40.574003000000005%2C%20-111.89998999999999%5D%2C%20%5B26.25931%2C%20-80.2499%5D%2C%20%5B34.065263%2C%20-118.251649%5D%2C%20%5B44.796205%2C%20-123.033303%5D%2C%20%5B34.03309%2C%20-118.14486000000001%5D%2C%20%5B33.928430999999996%2C%20-118.252726%5D%2C%20%5B38.700287%2C%20-121.363616%5D%2C%20%5B32.71821%2C%20-96.82807%5D%2C%20%5B40.706958%2C%20-74.253857%5D%2C%20%5B32.222426%2C%20-110.84108700000002%5D%2C%20%5B37.015589%2C%20-76.453717%5D%2C%20%5B25.846972%2C%20-80.21169300000001%5D%2C%20%5B34.152933000000004%2C%20-118.279824%5D%2C%20%5B40.061291%2C%20-75.323413%5D%2C%20%5B37.894859999999994%2C%20-120.847066%5D%2C%20%5B32.71206%2C%20-117.101372%5D%2C%20%5B38.34156%2C%20-81.66338%5D%2C%20%5B32.64546%2C%20-96.85625%5D%2C%20%5B38.868995%2C%20-77.889099%5D%2C%20%5B40.2167%2C%20-74.75712%5D%2C%20%5B35.239909999999995%2C%20-80.88575%5D%2C%20%5B28.18205%2C%20-81.74427%5D%2C%20%5B37.046389000000005%2C%20-121.277222%5D%2C%20%5B33.982298%2C%20-118.074156%5D%2C%20%5B33.772005%2C%20-78.979943%5D%2C%20%5B34.055939%2C%20-117.40511000000001%5D%2C%20%5B33.949665%2C%20-118.091898%5D%2C%20%5B40.034290000000006%2C%20-75.01955%5D%2C%20%5B33.461487%2C%20-112.08021000000001%5D%2C%20%5B37.418%2C%20-77.53619%5D%2C%20%5B33.77394%2C%20-117.87188%5D%2C%20%5B38.702740000000006%2C%20-121.38283%5D%2C%20%5B40.064129%2C%20-75.322466%5D%2C%20%5B30.349420000000002%2C%20-91.06295899999999%5D%2C%20%5B37.85001%2C%20-112.43919%5D%2C%20%5B27.337941999999998%2C%20-82.46915600000001%5D%2C%20%5B26.681982%2C%20-81.883388%5D%2C%20%5B37.949290999999995%2C%20-120.425118%5D%2C%20%5B38.431169%2C%20-121.877958%5D%2C%20%5B38.6387%2C%20-121.38426000000001%5D%2C%20%5B33.926790000000004%2C%20-118.17798%5D%2C%20%5B29.792008000000003%2C%20-95.264454%5D%2C%20%5B42.190289%2C%20-88.106437%5D%2C%20%5B32.450761%2C%20-93.865532%5D%2C%20%5B39.6444%2C%20-106.30776999999999%5D%2C%20%5B33.927766%2C%20-118.257962%5D%2C%20%5B42.30559%2C%20-83.17829%5D%2C%20%5B30.424376000000002%2C%20-89.136526%5D%2C%20%5B32.44986%2C%20-86.212383%5D%2C%20%5B43.03557%2C%20-87.93261%5D%2C%20%5B38.635985999999995%2C%20-77.290481%5D%2C%20%5B33.961859999999994%2C%20-118.42101000000001%5D%2C%20%5B40.70071%2C%20-73.99519000000001%5D%2C%20%5B45.34613%2C%20-123.18373700000001%5D%2C%20%5B34.08701%2C%20-117.68588000000001%5D%2C%20%5B38.236852%2C%20-122.099658%5D%2C%20%5B33.898588000000004%2C%20-117.559623%5D%2C%20%5B38.873342%2C%20-104.75707%5D%2C%20%5B38.768570000000004%2C%20-104.77897%5D%2C%20%5B38.214225%2C%20-122.13778%5D%2C%20%5B40.644953%2C%20-111.90287%5D%2C%20%5B33.520585%2C%20-86.831012%5D%2C%20%5B33.75862%2C%20-84.37915%5D%2C%20%5B39.084189%2C%20-84.47274200000001%5D%2C%20%5B36.15376%2C%20-86.84665%5D%2C%20%5B37.698132%2C%20-121.941015%5D%2C%20%5B34.266132%2C%20-118.85195300000001%5D%2C%20%5B40.73752%2C%20-74.03466%5D%2C%20%5B42.56731%2C%20-87.94976%5D%2C%20%5B37.37082%2C%20-121.91318999999999%5D%2C%20%5B40.697338%2C%20-73.981858%5D%2C%20%5B42.06279%2C%20-88.07158000000001%5D%2C%20%5B44.863440000000004%2C%20-123.00846999999999%5D%2C%20%5B42.92964%2C%20-85.660607%5D%2C%20%5B45.44623%2C%20-117.35248%5D%2C%20%5B38.62871%2C%20-90.316%5D%2C%20%5B35.22214%2C%20-80.86839%5D%2C%20%5B41.145959999999995%2C%20-73.25962%5D%2C%20%5B40.38145%2C%20-79.81307%5D%2C%20%5B40.33596%2C%20-75.382837%5D%2C%20%5B41.76332%2C%20-72.64084%5D%2C%20%5B42.93919%2C%20-85.67864%5D%2C%20%5B32.9069%2C%20-96.72870999999999%5D%2C%20%5B32.693649%2C%20-96.637574%5D%2C%20%5B38.574013%2C%20-121.38311599999999%5D%2C%20%5B32.669618%2C%20-97.305095%5D%2C%20%5B32.660540999999995%2C%20-117.07664199999999%5D%2C%20%5B32.950821999999995%2C%20-96.823273%5D%2C%20%5B38.288716%2C%20-77.50862%5D%2C%20%5B45.06895%2C%20-93.27161%5D%2C%20%5B37.7011%2C%20-122.4714%5D%2C%20%5B45.54156%2C%20-122.47738000000001%5D%2C%20%5B33.46195%2C%20-112.14625%5D%2C%20%5B28.508974%2C%20-81.41913000000001%5D%2C%20%5B38.707346%2C%20-122.04847%5D%2C%20%5B42.153940000000006%2C%20-88.33568000000001%5D%2C%20%5B34.84689%2C%20-92.14941999999999%5D%2C%20%5B28.570375%2C%20-81.475978%5D%2C%20%5B42.370447%2C%20-87.882329%5D%2C%20%5B44.564069%2C%20-123.207505%5D%2C%20%5B26.70648%2C%20-80.08651%5D%2C%20%5B33.365291%2C%20-111.601371%5D%2C%20%5B38.561292%2C%20-121.64323200000001%5D%2C%20%5B40.111990000000006%2C%20-83.02608000000001%5D%2C%20%5B33.184689%2C%20-117.232697%5D%2C%20%5B44.635221%2C%20-123.185103%5D%2C%20%5B41.483115999999995%2C%20-81.691964%5D%2C%20%5B32.18506%2C%20-110.97755%5D%2C%20%5B37.80644%2C%20-121.99085%5D%2C%20%5B44.341762%2C%20-121.99547199999999%5D%2C%20%5B36.86578%2C%20-119.96061999999999%5D%2C%20%5B37.63155%2C%20-122.0878%5D%2C%20%5B42.942851%2C%20-85.63695200000001%5D%2C%20%5B45.054748%2C%20-93.316171%5D%2C%20%5B34.88015%2C%20-82.20626999999999%5D%2C%20%5B42.383340000000004%2C%20-83.21757%5D%2C%20%5B29.570009999999996%2C%20-98.65159%5D%2C%20%5B45.473279999999995%2C%20-123.844251%5D%2C%20%5B38.56447%2C%20-121.4968%5D%2C%20%5B29.598149%2C%20-95.378276%5D%2C%20%5B40.268640000000005%2C%20-75.46916999999999%5D%2C%20%5B40.714059999999996%2C%20-73.95300999999999%5D%2C%20%5B37.815852%2C%20-121.293935%5D%2C%20%5B40.000412%2C%20-104.821951%5D%2C%20%5B44.114340000000006%2C%20-121.29186000000001%5D%2C%20%5B41.92094%2C%20-87.67535%5D%2C%20%5B44.889305%2C%20-93.385124%5D%2C%20%5B37.804087%2C%20-122.302728%5D%2C%20%5B38.704384999999995%2C%20-121.313106%5D%2C%20%5B36.939525%2C%20-76.30341899999999%5D%2C%20%5B36.26825%2C%20-121.805435%5D%2C%20%5B40.02316%2C%20-76.54184000000001%5D%2C%20%5B43.16103%2C%20-77.682834%5D%2C%20%5B34.07288%2C%20-117.77604%5D%2C%20%5B43.108429%2C%20-124.30966399999998%5D%2C%20%5B45.80494%2C%20-118.37536000000001%5D%2C%20%5B34.011901%2C%20-118.418015%5D%2C%20%5B38.895764%2C%20-121.1209%5D%2C%20%5B42.05604%2C%20-88.01859%5D%2C%20%5B40.827678999999996%2C%20-73.930966%5D%2C%20%5B34.17437%2C%20-118.39218999999999%5D%2C%20%5B43.83397%2C%20-123.02885%5D%2C%20%5B47.30335%2C%20-122.2302%5D%2C%20%5B41.87402%2C%20-87.73034%5D%2C%20%5B34.065265999999994%2C%20-118.251718%5D%2C%20%5B37.928635%2C%20-122.38509599999999%5D%2C%20%5B34.698637%2C%20-82.207638%5D%2C%20%5B33.625690000000006%2C%20-111.9257%5D%2C%20%5B44.89056%2C%20-93.32182%5D%2C%20%5B42.27807%2C%20-83.154%5D%2C%20%5B33.831506%2C%20-118.08351100000002%5D%2C%20%5B44.863823%2C%20-94.333412%5D%2C%20%5B29.44721%2C%20-98.63498%5D%2C%20%5B25.717076000000002%2C%20-80.330822%5D%2C%20%5B25.839085999999998%2C%20-80.321656%5D%2C%20%5B38.468979%2C%20-121.408763%5D%2C%20%5B29.774724%2C%20-82.607811%5D%2C%20%5B40.585299%2C%20-122.36073200000001%5D%2C%20%5B32.668176%2C%20-97.355982%5D%2C%20%5B25.628949%2C%20-80.340104%5D%2C%20%5B41.077001%2C%20-74.147366%5D%2C%20%5B35.352539%2C%20-118.980557%5D%2C%20%5B35.408601000000004%2C%20-119.02092900000001%5D%2C%20%5B33.685722999999996%2C%20-84.065676%5D%2C%20%5B38.53848%2C%20-121.512879%5D%2C%20%5B46.71525%2C%20-94.39988000000001%5D%2C%20%5B32.74413%2C%20-97.33576%5D%2C%20%5B43.48307%2C%20-118.8424%5D%2C%20%5B34.26956%2C%20-118.63345%5D%2C%20%5B40.63848%2C%20-74.1437%5D%2C%20%5B25.89509%2C%20-80.20942%5D%2C%20%5B36.252357%2C%20-86.647588%5D%2C%20%5B34.008318%2C%20-117.968627%5D%2C%20%5B29.78398%2C%20-95.49638%5D%2C%20%5B43.34402%2C%20-89.02524%5D%2C%20%5B39.464092%2C%20-108.040601%5D%2C%20%5B36.740878%2C%20-119.81451799999999%5D%2C%20%5B43.891591%2C%20-92.638228%5D%2C%20%5B33.916540999999995%2C%20-117.438748%5D%2C%20%5B26.06534%2C%20-80.2155%5D%2C%20%5B33.866401%2C%20-117.71726899999999%5D%2C%20%5B42.40517%2C%20-83.42478%5D%2C%20%5B34.0545%2C%20-118.21003%5D%2C%20%5B33.68052%2C%20-79.00379000000001%5D%2C%20%5B39.85709%2C%20-82.82384%5D%2C%20%5B34.30187%2C%20-117.46038999999999%5D%2C%20%5B35.51598%2C%20-97.60121%5D%2C%20%5B36.73346%2C%20-119.801984%5D%2C%20%5B38.041207%2C%20-121.97446200000002%5D%2C%20%5B29.63144%2C%20-95.38728%5D%2C%20%5B44.28921%2C%20-92.68205999999999%5D%2C%20%5B29.154758%2C%20-82.053587%5D%2C%20%5B26.08411%2C%20-80.196347%5D%2C%20%5B25.807477%2C%20-80.28921899999999%5D%2C%20%5B34.04987%2C%20-118.22251000000001%5D%2C%20%5B41.376745%2C%20-82.25708900000001%5D%2C%20%5B33.94419%2C%20-84.50973%5D%2C%20%5B26.501453%2C%20-81.85521%5D%2C%20%5B29.80953%2C%20-95.31285%5D%2C%20%5B36.736156%2C%20-119.627885%5D%2C%20%5B38.110240000000005%2C%20-79.05959%5D%2C%20%5B43.855156%2C%20-120.75434399999999%5D%2C%20%5B39.03563%2C%20-77.02586%5D%2C%20%5B41.82828%2C%20-80.75771999999999%5D%2C%20%5B25.518584%2C%20-80.42757399999999%5D%2C%20%5B37.44797%2C%20-121.92153%5D%2C%20%5B34.030737%2C%20-118.21691200000001%5D%2C%20%5B33.96788%2C%20-118.37173%5D%2C%20%5B41.314361%2C%20-74.117366%5D%2C%20%5B40.72009%2C%20-111.90364%5D%2C%20%5B42.79335%2C%20-86.16793%5D%2C%20%5B42.53192%2C%20-73.78443%5D%2C%20%5B37.789998%2C%20-120.86603899999999%5D%2C%20%5B25.686119%2C%20-80.44614%5D%2C%20%5B39.58063%2C%20-105.08693000000001%5D%2C%20%5B45.92861%2C%20-122.72235%5D%2C%20%5B35.79058%2C%20-119.16976399999999%5D%2C%20%5B32.26336%2C%20-81.09236899999999%5D%2C%20%5B34.03006%2C%20-118.44153999999999%5D%2C%20%5B43.115322%2C%20-77.59698900000001%5D%2C%20%5B41.15443%2C%20-73.24525%5D%2C%20%5B33.105744%2C%20-117.093497%5D%2C%20%5B40.81622%2C%20-73.79818%5D%2C%20%5B32.207026%2C%20-110.891054%5D%2C%20%5B35.900949%2C%20-78.652824%5D%2C%20%5B37.63243%2C%20-122.43746000000002%5D%2C%20%5B33.891777000000005%2C%20-84.257144%5D%2C%20%5B37.541628%2C%20-122.285081%5D%2C%20%5B28.088245%2C%20-82.473407%5D%2C%20%5B43.068515999999995%2C%20-71.333361%5D%2C%20%5B36.09345%2C%20-80.37635%5D%2C%20%5B35.16686%2C%20-111.319195%5D%2C%20%5B37.70024%2C%20-122.10852%5D%2C%20%5B26.333486999999998%2C%20-81.751212%5D%2C%20%5B33.87648%2C%20-118.09898999999999%5D%2C%20%5B33.881516999999995%2C%20-117.648311%5D%2C%20%5B35.279361%2C%20-80.964704%5D%2C%20%5B45.54%2C%20-122.45761999999999%5D%2C%20%5B33.651594%2C%20-117.76115300000001%5D%2C%20%5B33.85917%2C%20-118.20152%5D%2C%20%5B34.031825%2C%20-117.550444%5D%2C%20%5B37.53544%2C%20-122.075271%5D%2C%20%5B30.028679999999998%2C%20-95.42916%5D%2C%20%5B34.053554%2C%20-117.78148300000001%5D%2C%20%5B28.851703999999998%2C%20-82.486788%5D%2C%20%5B40.783970000000004%2C%20-73.62631999999999%5D%2C%20%5B25.80157%2C%20-80.32123%5D%2C%20%5B33.85217%2C%20-117.971652%5D%2C%20%5B36.773486%2C%20-119.91626799999999%5D%2C%20%5B25.942655%2C%20-80.204303%5D%2C%20%5B38.369671000000004%2C%20-121.95789199999999%5D%2C%20%5B37.29575%2C%20-76.67737%5D%2C%20%5B32.759879999999995%2C%20-97.2017%5D%2C%20%5B34.0319%2C%20-84.04608%5D%2C%20%5B40.205908%2C%20-75.22448%5D%2C%20%5B33.92852%2C%20-118.23916399999999%5D%2C%20%5B33.825733%2C%20-118.241778%5D%2C%20%5B38.55615%2C%20-121.44318999999999%5D%2C%20%5B40.460491999999995%2C%20-111.465576%5D%2C%20%5B25.7029%2C%20-80.31854%5D%2C%20%5B45.506240000000005%2C%20-122.77909%5D%2C%20%5B34.26793%2C%20-118.484748%5D%2C%20%5B43.780522%2C%20-121.449624%5D%2C%20%5B38.660848%2C%20-121.35051299999999%5D%2C%20%5B25.899058%2C%20-80.229108%5D%2C%20%5B39.340835%2C%20-120.3447%5D%2C%20%5B42.913514%2C%20-85.628504%5D%2C%20%5B36.845858%2C%20-76.17528100000001%5D%2C%20%5B41.84523%2C%20-71.06314%5D%2C%20%5B43.139726%2C%20-77.596049%5D%2C%20%5B39.988592%2C%20-75.790446%5D%2C%20%5B39.01612%2C%20-76.91029%5D%2C%20%5B45.57761%2C%20-122.67868999999999%5D%2C%20%5B25.944592999999998%2C%20-80.17987099999999%5D%2C%20%5B32.1276%2C%20-81.39161%5D%2C%20%5B38.02649%2C%20-78.43885%5D%2C%20%5B39.440878000000005%2C%20-123.39251499999999%5D%2C%20%5B39.658613%2C%20-75.75177%5D%2C%20%5B25.94249%2C%20-80.35864000000001%5D%2C%20%5B47.502274%2C%20-122.19718300000001%5D%2C%20%5B40.54142%2C%20-74.36584%5D%2C%20%5B32.79735%2C%20-117.00533999999999%5D%2C%20%5B41.040533%2C%20-73.761337%5D%2C%20%5B40.175090000000004%2C%20-76.98961%5D%2C%20%5B32.22846%2C%20-110.89261%5D%2C%20%5B42.924981%2C%20-71.37685%5D%2C%20%5B33.929468%2C%20-118.25428000000001%5D%2C%20%5B34.139767%2C%20-117.32397399999999%5D%2C%20%5B30.424193%2C%20-91.15038299999999%5D%2C%20%5B35.293397%2C%20-109.14591100000001%5D%2C%20%5B39.448333%2C%20-75.218159%5D%2C%20%5B37.609428%2C%20-120.993582%5D%2C%20%5B35.053955%2C%20-85.25528%5D%2C%20%5B32.76533%2C%20-117.15451000000002%5D%2C%20%5B37.701859999999996%2C%20-121.90236999999999%5D%2C%20%5B40.18619%2C%20-111.64636999999999%5D%2C%20%5B35.026871%2C%20-85.15736600000001%5D%2C%20%5B34.146909%2C%20-118.22933400000001%5D%2C%20%5B34.061467%2C%20-118.249974%5D%2C%20%5B39.69663%2C%20-104.7725%5D%2C%20%5B32.842482000000004%2C%20-96.876901%5D%2C%20%5B43.03717%2C%20-71.32476%5D%2C%20%5B45.53071%2C%20-122.68708000000001%5D%2C%20%5B38.618842%2C%20-121.72966299999999%5D%2C%20%5B40.98273%2C%20-73.74414%5D%2C%20%5B34.076919000000004%2C%20-117.62149099999999%5D%2C%20%5B40.571715000000005%2C%20-111.42073%5D%2C%20%5B33.8458%2C%20-117.82255%5D%2C%20%5B41.22279%2C%20-74.03463%5D%2C%20%5B33.81423%2C%20-118.17156000000001%5D%2C%20%5B38.92237%2C%20-76.93108000000001%5D%2C%20%5B40.23858%2C%20-75.22989%5D%2C%20%5B36.782579999999996%2C%20-76.23732%5D%2C%20%5B28.46048%2C%20-81.23244%5D%2C%20%5B37.890899%2C%20-121.487917%5D%2C%20%5B35.252563%2C%20-80.734501%5D%2C%20%5B38.671456%2C%20-90.361937%5D%2C%20%5B42.24534%2C%20-83.31713%5D%2C%20%5B39.121445%2C%20-122.905608%5D%2C%20%5B37.43823%2C%20-122.24685%5D%2C%20%5B38.42706%2C%20-122.71496%5D%2C%20%5B33.92563%2C%20-118.31778999999999%5D%2C%20%5B41.119846%2C%20-112.019325%5D%2C%20%5B41.91812%2C%20-87.65215%5D%2C%20%5B42.359874%2C%20-87.87445100000001%5D%2C%20%5B33.901129%2C%20-79.06276700000001%5D%2C%20%5B27.876125%2C%20-82.762286%5D%2C%20%5B34.164704%2C%20-119.06284699999999%5D%2C%20%5B37.700924%2C%20-113.06395800000001%5D%2C%20%5B30.453440999999998%2C%20-91.273433%5D%2C%20%5B34.150478%2C%20-118.28049299999999%5D%2C%20%5B37.938615000000006%2C%20-77.465914%5D%2C%20%5B44.24665%2C%20-94.33934%5D%2C%20%5B33.85877%2C%20-117.87618%5D%2C%20%5B34.14536%2C%20-117.280718%5D%2C%20%5B41.151209%2C%20-111.935078%5D%2C%20%5B33.631896999999995%2C%20-117.171264%5D%2C%20%5B40.809458%2C%20-73.92263100000001%5D%2C%20%5B34.08701%2C%20-117.68588000000001%5D%2C%20%5B25.669019%2C%20-80.4%5D%2C%20%5B40.644401%2C%20-111.930746%5D%2C%20%5B34.024878%2C%20-117.731454%5D%2C%20%5B33.623314%2C%20-111.86941599999999%5D%2C%20%5B48.429978000000006%2C%20-114.447768%5D%2C%20%5B28.003829%2C%20-82.45295%5D%2C%20%5B32.837094%2C%20-96.98707900000001%5D%2C%20%5B25.71574%2C%20-80.153032%5D%2C%20%5B40.22736%2C%20-75.24193000000001%5D%2C%20%5B45.15832%2C%20-122.498696%5D%2C%20%5B37.828284000000004%2C%20-78.529966%5D%2C%20%5B37.679594%2C%20-122.136973%5D%2C%20%5B34.308370000000004%2C%20-117.470548%5D%2C%20%5B45.528379%2C%20-122.57903600000002%5D%2C%20%5B39.6385%2C%20-76.67044%5D%2C%20%5B25.626145%2C%20-80.41645%5D%2C%20%5B34.061661%2C%20-117.190808%5D%2C%20%5B28.002209999999998%2C%20-82.32727%5D%2C%20%5B34.433762%2C%20-118.386527%5D%2C%20%5B38.149039%2C%20-104.094049%5D%2C%20%5B34.426715%2C%20-117.380183%5D%2C%20%5B35.35267%2C%20-119.043282%5D%2C%20%5B39.771881%2C%20-104.822352%5D%2C%20%5B38.706926%2C%20-121.310359%5D%2C%20%5B32.92853%2C%20-80.69147%5D%2C%20%5B45.52272%2C%20-122.66545%5D%2C%20%5B40.843528000000006%2C%20-74.00434%5D%2C%20%5B34.134875%2C%20-117.605112%5D%2C%20%5B44.392157%2C%20-123.06111200000001%5D%2C%20%5B27.26046%2C%20-82.52255%5D%2C%20%5B43.42581%2C%20-71.5912%5D%2C%20%5B38.716281%2C%20-120.836766%5D%2C%20%5B33.474940000000004%2C%20-112.11296999999999%5D%2C%20%5B40.746955%2C%20-74.061782%5D%2C%20%5B35.018905%2C%20-85.382859%5D%2C%20%5B26.076459%2C%20-80.168604%5D%2C%20%5B38.496158%2C%20-121.42918300000001%5D%2C%20%5B41.75761%2C%20-72.70055%5D%2C%20%5B45.712340999999995%2C%20-118.66280400000001%5D%2C%20%5B38.588609999999996%2C%20-121.29111%5D%2C%20%5B34.008125%2C%20-117.96873400000001%5D%2C%20%5B37.51743%2C%20-77.46569000000001%5D%2C%20%5B27.905883000000003%2C%20-82.63309699999999%5D%2C%20%5B34.071883%2C%20-117.872309%5D%2C%20%5B33.591055%2C%20-117.75156399999999%5D%2C%20%5B25.745576%2C%20-80.392229%5D%2C%20%5B40.384215000000005%2C%20-74.45948299999999%5D%2C%20%5B30.504141999999998%2C%20-87.262109%5D%2C%20%5B39.44247%2C%20-105.74431000000001%5D%2C%20%5B35.68111%2C%20-88.74416%5D%2C%20%5B29.942851%2C%20-90.09363499999999%5D%2C%20%5B43.05992%2C%20-76.20061%5D%2C%20%5B42.06668%2C%20-88.158843%5D%2C%20%5B33.930957%2C%20-118.29191000000002%5D%2C%20%5B39.171929999999996%2C%20-76.73376%5D%2C%20%5B40.079509%2C%20-76.763437%5D%2C%20%5B34.094747%2C%20-118.601693%5D%2C%20%5B30.21606%2C%20-81.51305%5D%2C%20%5B39.018031%2C%20-95.501077%5D%2C%20%5B40.856804%2C%20-73.97306800000001%5D%2C%20%5B39.00168%2C%20-77.40325%5D%2C%20%5B38.89707%2C%20-77.08038%5D%2C%20%5B39.802403999999996%2C%20-86.078664%5D%2C%20%5B39.10355%2C%20-94.57206%5D%2C%20%5B45.578520000000005%2C%20-122.127574%5D%2C%20%5B33.980409%2C%20-118.43906000000001%5D%2C%20%5B33.781017%2C%20-117.489649%5D%2C%20%5B43.211649%2C%20-124.24256799999999%5D%2C%20%5B34.152144%2C%20-118.150577%5D%2C%20%5B39.121469%2C%20-122.839881%5D%2C%20%5B27.640389000000003%2C%20-82.670047%5D%2C%20%5B28.368178999999998%2C%20-81.31433%5D%2C%20%5B34.172307%2C%20-118.57092800000001%5D%2C%20%5B30.479328999999996%2C%20-91.125226%5D%2C%20%5B34.024729%2C%20-118.239231%5D%2C%20%5B43.154833%2C%20-77.626639%5D%2C%20%5B39.118241%2C%20-94.578998%5D%2C%20%5B33.87215%2C%20-118.34159%5D%2C%20%5B44.79214%2C%20-93.4034%5D%2C%20%5B38.85334%2C%20-76.9833%5D%2C%20%5B40.694807%2C%20-75.230673%5D%2C%20%5B34.557984000000005%2C%20-118.132566%5D%2C%20%5B44.41774%2C%20-119.131025%5D%2C%20%5B39.812%2C%20-75.457%5D%2C%20%5B34.033198999999996%2C%20-118.13548300000001%5D%2C%20%5B26.259958%2C%20-80.16724599999999%5D%2C%20%5B41.752027000000005%2C%20-77.558148%5D%2C%20%5B41.62665%2C%20-73.776637%5D%2C%20%5B40.7006%2C%20-74.15572%5D%2C%20%5B38.455787%2C%20-81.88205%5D%2C%20%5B30.524974%2C%20-87.249967%5D%2C%20%5B41.1509%2C%20-81.47137%5D%2C%20%5B34.088608%2C%20-118.475191%5D%2C%20%5B33.415820000000004%2C%20-80.67067%5D%2C%20%5B35.856559999999995%2C%20-78.67156999999999%5D%2C%20%5B30.424409999999998%2C%20-97.6719%5D%2C%20%5B38.93513%2C%20-94.70478%5D%2C%20%5B34.423%2C%20-118.42818%5D%2C%20%5B35.36564%2C%20-80.78444%5D%2C%20%5B43.06925%2C%20-123.35307%5D%2C%20%5B36.126791%2C%20-94.18086600000001%5D%2C%20%5B42.974277%2C%20-77.17939399999999%5D%2C%20%5B37.09094%2C%20-80.5762%5D%2C%20%5B47.61524%2C%20-122.3208%5D%2C%20%5B33.4071%2C%20-82.03043000000001%5D%2C%20%5B27.995807%2C%20-82.3576%5D%2C%20%5B37.38665%2C%20-121.90556000000001%5D%2C%20%5B45.285379%2C%20-93.75296999999999%5D%2C%20%5B38.56577%2C%20-90.39495%5D%2C%20%5B37.3545%2C%20-77.40092%5D%2C%20%5B43.607351%2C%20-124.18051299999999%5D%2C%20%5B37.377356%2C%20-121.94543999999999%5D%2C%20%5B34.104566999999996%2C%20-117.25976200000001%5D%2C%20%5B36.11248%2C%20-119.32368000000001%5D%2C%20%5B36.309278000000006%2C%20-83.022195%5D%2C%20%5B33.85422%2C%20-117.79064%5D%2C%20%5B39.5581%2C%20-76.3703%5D%2C%20%5B46.050129999999996%2C%20-123.91411000000001%5D%2C%20%5B38.352983%2C%20-75.07481700000001%5D%2C%20%5B42.06648%2C%20-88.20102%5D%2C%20%5B32.576487%2C%20-117.08203700000001%5D%2C%20%5B34.090771999999994%2C%20-118.306354%5D%2C%20%5B44.56392%2C%20-123.23884%5D%2C%20%5B37.451767%2C%20-120.80006499999999%5D%2C%20%5B33.927328%2C%20-118.259495%5D%2C%20%5B48.236290000000004%2C%20-122.06165%5D%2C%20%5B40.92938%2C%20-73.76616%5D%2C%20%5B35.3031%2C%20-118.84293600000001%5D%2C%20%5B37.362774%2C%20-121.88787099999999%5D%2C%20%5B40.480709999999995%2C%20-111.40085%5D%2C%20%5B38.84345%2C%20-77.08244%5D%2C%20%5B45.530281%2C%20-117.47993000000001%5D%2C%20%5B34.154336%2C%20-118.396588%5D%2C%20%5B25.874527%2C%20-80.24069200000001%5D%2C%20%5B34.047546999999994%2C%20-84.17720600000001%5D%2C%20%5B35.798915%2C%20-78.568441%5D%2C%20%5B38.92927%2C%20-104.614725%5D%2C%20%5B34.006817%2C%20-117.964445%5D%2C%20%5B47.35156%2C%20-122.29523%5D%2C%20%5B35.392778%2C%20-119.044722%5D%2C%20%5B41.798840000000006%2C%20-88.27512%5D%2C%20%5B37.8218%2C%20-122.25898000000001%5D%2C%20%5B42.08233%2C%20-93.56662%5D%2C%20%5B43.228127%2C%20-70.905937%5D%2C%20%5B34.167559999999995%2C%20-118.61456000000001%5D%2C%20%5B38.892265%2C%20-76.84735500000001%5D%2C%20%5B37.52466%2C%20-121.99233000000001%5D%2C%20%5B42.24152%2C%20-88.00413%5D%2C%20%5B32.727552%2C%20-117.104376%5D%2C%20%5B39.19995%2C%20-89.66344699999999%5D%2C%20%5B26.362820000000003%2C%20-80.119782%5D%2C%20%5B39.40429%2C%20-77.43084%5D%2C%20%5B44.96705%2C%20-92.95853000000001%5D%2C%20%5B43.861836%2C%20-124.14029%5D%2C%20%5B33.127122%2C%20-117.104796%5D%2C%20%5B40.297665%2C%20-86.716489%5D%2C%20%5B40.22985%2C%20-76.4408%5D%2C%20%5B34.218759999999996%2C%20-119.06408%5D%2C%20%5B37.593681%2C%20-112.910622%5D%2C%20%5B42.03649%2C%20-88.28725%5D%2C%20%5B41.524707%2C%20-81.662577%5D%2C%20%5B28.826320000000003%2C%20-81.32818%5D%2C%20%5B44.84097%2C%20-93.24429%5D%2C%20%5B42.62189%2C%20-71.17685%5D%2C%20%5B38.60607%2C%20-104.6803%5D%2C%20%5B40.14145%2C%20-76.55275%5D%2C%20%5B41.78967%2C%20-87.63064%5D%2C%20%5B40.732079999999996%2C%20-73.87064000000001%5D%2C%20%5B34.446011%2C%20-119.20441699999999%5D%2C%20%5B30.314737%2C%20-81.668869%5D%2C%20%5B41.12281%2C%20-73.33593%5D%2C%20%5B33.85399%2C%20-117.92415%5D%2C%20%5B40.715569%2C%20-122.925903%5D%2C%20%5B33.98912%2C%20-118.20449199999999%5D%2C%20%5B36.06765%2C%20-79.49535999999999%5D%2C%20%5B28.137032%2C%20-81.909278%5D%2C%20%5B38.963570000000004%2C%20-77.183121%5D%2C%20%5B47.618464%2C%20-122.32874299999999%5D%2C%20%5B44.05522%2C%20-123.10139%5D%2C%20%5B32.108265%2C%20-106.62978700000001%5D%2C%20%5B29.7329%2C%20-95.45993%5D%2C%20%5B36.207207000000004%2C%20-86.776412%5D%2C%20%5B37.25835%2C%20-121.96395%5D%2C%20%5B44.89008%2C%20-93.2869%5D%2C%20%5B28.337290000000003%2C%20-81.37875%5D%2C%20%5B25.812435999999998%2C%20-80.215363%5D%2C%20%5B37.991929999999996%2C%20-121.7657%5D%2C%20%5B37.7564%2C%20-122.14882%5D%2C%20%5B40.717684000000006%2C%20-111.83780900000001%5D%2C%20%5B35.904545%2C%20-78.58849599999999%5D%2C%20%5B34.06723%2C%20-117.53025%5D%2C%20%5B33.955774%2C%20-118.294826%5D%2C%20%5B39.405654999999996%2C%20-81.428475%5D%2C%20%5B38.901818%2C%20-78.489643%5D%2C%20%5B41.57825%2C%20-87.66069%5D%2C%20%5B37.95548%2C%20-122.05338200000001%5D%2C%20%5B25.662761%2C%20-80.43941099999999%5D%2C%20%5B33.742561%2C%20-84.36813000000001%5D%2C%20%5B42.269040000000004%2C%20-84.449115%5D%2C%20%5B40.8049%2C%20-73.83165%5D%2C%20%5B41.22511%2C%20-112.01148%5D%2C%20%5B32.28528%2C%20-110.93281200000001%5D%2C%20%5B43.2455%2C%20-77.63459399999999%5D%2C%20%5B40.74607%2C%20-73.97496%5D%2C%20%5B40.802440000000004%2C%20-73.43782%5D%2C%20%5B41.33255%2C%20-81.81548000000001%5D%2C%20%5B39.38876%2C%20-74.52086%5D%2C%20%5B30.423448999999998%2C%20-91.144627%5D%2C%20%5B35.979528%2C%20-78.59326300000001%5D%2C%20%5B45.716766%2C%20-120.677375%5D%2C%20%5B45.522671%2C%20-118.441116%5D%2C%20%5B33.846759999999996%2C%20-117.83131000000002%5D%2C%20%5B40.28157%2C%20-74.08372%5D%2C%20%5B37.542295%2C%20-120.84707%5D%2C%20%5B33.669388%2C%20-117.82283500000001%5D%2C%20%5B39.85183%2C%20-104.98631%5D%2C%20%5B37.528490000000005%2C%20-77.42036%5D%2C%20%5B40.72575%2C%20-111.99293%5D%2C%20%5B45.137570000000004%2C%20-93.47239%5D%2C%20%5B40.731934%2C%20-73.871698%5D%2C%20%5B35.269909999999996%2C%20-118.682405%5D%2C%20%5B38.191075%2C%20-121.087006%5D%2C%20%5B47.61524%2C%20-122.3208%5D%2C%20%5B42.97229%2C%20-85.77633%5D%2C%20%5B33.42389%2C%20-86.74880999999999%5D%2C%20%5B33.937%2C%20-118.279674%5D%2C%20%5B41.64945%2C%20-93.57467%5D%2C%20%5B40.80682%2C%20-87.14972%5D%2C%20%5B42.227746999999994%2C%20-83.621532%5D%2C%20%5B38.483874%2C%20-121.390257%5D%2C%20%5B38.103528000000004%2C%20-122.513998%5D%2C%20%5B39.72945%2C%20-105.20626899999999%5D%2C%20%5B34.17317%2C%20-118.15898%5D%2C%20%5B34.21179%2C%20-118.84934299999999%5D%2C%20%5B42.30765%2C%20-87.84607%5D%2C%20%5B44.97726%2C%20-122.99123%5D%2C%20%5B38.61479%2C%20-121.150473%5D%2C%20%5B42.38771%2C%20-83.43563%5D%2C%20%5B36.10093%2C%20-115.207981%5D%2C%20%5B44.812782%2C%20-93.60219599999999%5D%2C%20%5B34.035528%2C%20-118.16987900000001%5D%2C%20%5B39.250682%2C%20-121.023121%5D%2C%20%5B33.77169%2C%20-84.54661%5D%2C%20%5B34.21354%2C%20-80.41695%5D%2C%20%5B33.966249%2C%20-117.377257%5D%2C%20%5B25.949326%2C%20-80.148812%5D%2C%20%5B36.923734%2C%20-120.022147%5D%2C%20%5B34.531079999999996%2C%20-77.89241%5D%2C%20%5B42.363842%2C%20-88.111631%5D%2C%20%5B42.043669%2C%20-121.868475%5D%2C%20%5B40.85159%2C%20-73.95260999999999%5D%2C%20%5B37.609221000000005%2C%20-121.001498%5D%2C%20%5B29.59645%2C%20-95.44194%5D%2C%20%5B32.829376%2C%20-117.23301000000001%5D%2C%20%5B37.22937%2C%20-121.97345%5D%2C%20%5B37.966609999999996%2C%20-122.048744%5D%2C%20%5B42.95162%2C%20-78.75912%5D%2C%20%5B25.872684%2C%20-80.208896%5D%2C%20%5B25.920771%2C%20-80.210312%5D%2C%20%5B30.345370000000003%2C%20-97.75114%5D%2C%20%5B33.930170000000004%2C%20-117.88006000000001%5D%2C%20%5B34.368387%2C%20-118.501884%5D%2C%20%5B27.874879999999997%2C%20-82.66283%5D%2C%20%5B26.73237%2C%20-81.43768%5D%2C%20%5B25.949022%2C%20-80.205493%5D%2C%20%5B30.478871%2C%20-91.140629%5D%2C%20%5B39.672977%2C%20-75.673923%5D%2C%20%5B43.188155%2C%20-77.544596%5D%2C%20%5B35.244591%2C%20-80.857701%5D%2C%20%5B35.03572%2C%20-90.79512%5D%2C%20%5B34.211479%2C%20-118.215497%5D%2C%20%5B33.70644%2C%20-117.779%5D%2C%20%5B41.28557%2C%20-96.07344%5D%2C%20%5B44.95185%2C%20-93.12151999999999%5D%2C%20%5B35.49688%2C%20-97.57902%5D%2C%20%5B41.244145%2C%20-73.106449%5D%2C%20%5B41.518567%2C%20-73.969992%5D%2C%20%5B41.71334%2C%20-87.6045%5D%2C%20%5B42.037001000000004%2C%20-87.86768000000001%5D%2C%20%5B26.045612%2C%20-80.162826%5D%2C%20%5B38.03269%2C%20-78.86027%5D%2C%20%5B36.84556%2C%20-76.25153%5D%2C%20%5B31.64995%2C%20-81.39668%5D%2C%20%5B36.750367%2C%20-119.700245%5D%2C%20%5B38.92407%2C%20-76.55906%5D%2C%20%5B36.312678999999996%2C%20-119.697364%5D%2C%20%5B44.439178000000005%2C%20-93.29230799999999%5D%2C%20%5B35.2597%2C%20-118.914445%5D%2C%20%5B33.154263%2C%20-97.062852%5D%2C%20%5B26.000142999999998%2C%20-80.16636700000001%5D%2C%20%5B40.844796%2C%20-73.905512%5D%2C%20%5B37.785245%2C%20-121.696331%5D%2C%20%5B45.83335%2C%20-119.61939%5D%2C%20%5B31.763710999999997%2C%20-106.26823300000001%5D%2C%20%5B42.1258%2C%20-73.52537%5D%2C%20%5B38.34404%2C%20-75.57995%5D%2C%20%5B37.27454%2C%20-78.11936999999999%5D%2C%20%5B34.048165000000004%2C%20-118.26600900000001%5D%2C%20%5B39.413613%2C%20-76.59581%5D%2C%20%5B32.870020000000004%2C%20-96.67203%5D%2C%20%5B25.47733%2C%20-80.462462%5D%2C%20%5B37.78143%2C%20-122.23863700000001%5D%2C%20%5B37.795054%2C%20-122.265204%5D%2C%20%5B40.27564%2C%20-74.7056%5D%2C%20%5B37.896357%2C%20-121.696306%5D%2C%20%5B46.93979%2C%20-93.94381%5D%2C%20%5B38.638622%2C%20-90.344099%5D%2C%20%5B37.318852%2C%20-121.10762700000001%5D%2C%20%5B39.69907%2C%20-86.17385%5D%2C%20%5B33.568865%2C%20-117.136563%5D%2C%20%5B34.00309%2C%20-117.38077%5D%2C%20%5B35.418065000000006%2C%20-119.039002%5D%2C%20%5B30.284768%2C%20-97.764276%5D%2C%20%5B42.73955%2C%20-122.04032%5D%2C%20%5B34.236456%2C%20-118.841975%5D%2C%20%5B35.759371%2C%20-78.73179300000001%5D%2C%20%5B45.10436%2C%20-93.395634%5D%2C%20%5B39.887462%2C%20-105.072226%5D%2C%20%5B33.662519%2C%20-117.874879%5D%2C%20%5B30.426908%2C%20-91.168465%5D%2C%20%5B34.150059999999996%2C%20-118.46843999999999%5D%2C%20%5B40.63625%2C%20-111.90496999999999%5D%2C%20%5B38.134170000000005%2C%20-122.47643000000001%5D%2C%20%5B34.0872%2C%20-118.23411000000002%5D%2C%20%5B40.852740000000004%2C%20-73.87165%5D%2C%20%5B25.590857999999997%2C%20-80.36227%5D%2C%20%5B42.140509%2C%20-117.751117%5D%2C%20%5B37.45888%2C%20-122.13801000000001%5D%2C%20%5B40.21578%2C%20-75.54557%5D%2C%20%5B42.04375%2C%20-87.76231%5D%2C%20%5B33.83125%2C%20-118.25533999999999%5D%2C%20%5B27.461190999999996%2C%20-82.575271%5D%2C%20%5B38.691461%2C%20-121.37488300000001%5D%2C%20%5B34.992709999999995%2C%20-81.845417%5D%2C%20%5B36.183194%2C%20-86.337898%5D%2C%20%5B33.26246%2C%20-82.04746999999999%5D%2C%20%5B33.862547%2C%20-117.453879%5D%2C%20%5B34.43479%2C%20-119.79881999999999%5D%2C%20%5B41.394023%2C%20-73.478284%5D%2C%20%5B34.030413%2C%20-118.21621200000001%5D%2C%20%5B27.109759999999998%2C%20-82.35376%5D%2C%20%5B33.976378000000004%2C%20-118.43341799999999%5D%2C%20%5B34.018809999999995%2C%20-117.72853700000002%5D%2C%20%5B32.13391%2C%20-110.9777%5D%2C%20%5B34.030119%2C%20-117.694505%5D%2C%20%5B40.57156%2C%20-74.32871999999999%5D%2C%20%5B25.868913%2C%20-80.216018%5D%2C%20%5B40.72573%2C%20-112.01876499999999%5D%2C%20%5B40.385822%2C%20-122.312021%5D%2C%20%5B37.82757%2C%20-79.79905%5D%2C%20%5B34.51735%2C%20-84.91906%5D%2C%20%5B38.495782%2C%20-121.445521%5D%2C%20%5B33.808045%2C%20-118.16760900000001%5D%2C%20%5B38.380114%2C%20-121.365867%5D%2C%20%5B39.456134000000006%2C%20-76.30964399999999%5D%2C%20%5B41.14643%2C%20-96.13882%5D%2C%20%5B44.66323%2C%20-93.13664%5D%2C%20%5B32.92192%2C%20-96.75393000000001%5D%2C%20%5B43.549193%2C%20-89.443214%5D%2C%20%5B37.31687%2C%20-121.95023%5D%2C%20%5B34.11853%2C%20-117.84168999999999%5D%2C%20%5B41.061890000000005%2C%20-73.50965%5D%2C%20%5B37.860149%2C%20-122.03266399999998%5D%2C%20%5B39.192298%2C%20-76.771506%5D%2C%20%5B30.520396%2C%20-91.1608%5D%2C%20%5B34.08262%2C%20-118.22663%5D%2C%20%5B33.873290000000004%2C%20-118.34263999999999%5D%2C%20%5B42.263220000000004%2C%20-71.57216%5D%2C%20%5B40.666813%2C%20-74.18146800000001%5D%2C%20%5B33.548809999999996%2C%20-117.18156%5D%2C%20%5B38.965827000000004%2C%20-94.358752%5D%2C%20%5B33.918214%2C%20-118.179061%5D%2C%20%5B32.76207%2C%20-117.20506999999999%5D%2C%20%5B25.883515%2C%20-80.214325%5D%2C%20%5B37.002596999999994%2C%20-120.09706200000001%5D%2C%20%5B42.37043%2C%20-87.88154%5D%2C%20%5B41.790009999999995%2C%20-87.63150999999999%5D%2C%20%5B33.939113%2C%20-118.00542800000001%5D%2C%20%5B25.769876%2C%20-80.32406800000001%5D%2C%20%5B45.798437%2C%20-108.454535%5D%2C%20%5B33.718472%2C%20-78.931606%5D%2C%20%5B47.529663%2C%20-114.19866299999998%5D%2C%20%5B30.387453000000004%2C%20-97.55340699999999%5D%2C%20%5B42.585043%2C%20-74.584109%5D%2C%20%5B37.82555%2C%20-122.27241000000001%5D%2C%20%5B32.74005%2C%20-97.22511%5D%2C%20%5B41.091301%2C%20-78.517282%5D%2C%20%5B38.09725%2C%20-122.73348700000001%5D%2C%20%5B40.7327%2C%20-74.11912%5D%2C%20%5B32.85113%2C%20-96.56788%5D%2C%20%5B44.084196999999996%2C%20-123.04718600000001%5D%2C%20%5B45.234809999999996%2C%20-122.80813%5D%2C%20%5B33.016383000000005%2C%20-117.079398%5D%2C%20%5B35.27304%2C%20-80.8437%5D%2C%20%5B29.666288%2C%20-95.33274399999999%5D%2C%20%5B34.064025%2C%20-117.28358500000002%5D%2C%20%5B33.930913000000004%2C%20-118.17868%5D%2C%20%5B45.580591999999996%2C%20-118.635531%5D%2C%20%5B40.59776%2C%20-74.31945%5D%2C%20%5B45.138000000000005%2C%20-93.49458%5D%2C%20%5B34.026857%2C%20-118.251171%5D%2C%20%5B35.309101%2C%20-80.754191%5D%2C%20%5B39.01356%2C%20-77.04446999999999%5D%2C%20%5B28.630674%2C%20-81.77177900000001%5D%2C%20%5B40.16697%2C%20-74.646617%5D%2C%20%5B34.037039%2C%20-118.29155700000001%5D%2C%20%5B42.687542%2C%20-73.717198%5D%2C%20%5B32.772576%2C%20-117.12898999999999%5D%2C%20%5B38.550117%2C%20-121.474057%5D%2C%20%5B37.30215%2C%20-121.87648%5D%2C%20%5B29.701036%2C%20-95.374297%5D%2C%20%5B30.248053000000002%2C%20-97.735422%5D%2C%20%5B34.324444%2C%20-117.48206%5D%2C%20%5B34.48963%2C%20-118.61933%5D%2C%20%5B45.125958000000004%2C%20-122.81946599999999%5D%2C%20%5B36.083527000000004%2C%20-80.229372%5D%2C%20%5B40.78392%2C%20-73.65253%5D%2C%20%5B37.32309%2C%20-121.83583%5D%2C%20%5B42.704929%2C%20-123.371982%5D%2C%20%5B25.837082000000002%2C%20-80.31804%5D%2C%20%5B34.85725%2C%20-82.264%5D%2C%20%5B34.05655%2C%20-117.2982%5D%2C%20%5B40.240190000000005%2C%20-75.57200999999999%5D%2C%20%5B39.95988%2C%20-83.34713%5D%2C%20%5B32.270340000000004%2C%20-90.07366999999999%5D%2C%20%5B35.259671000000004%2C%20-80.898032%5D%2C%20%5B30.451132%2C%20-91.312872%5D%2C%20%5B32.83763%2C%20-117.23383999999999%5D%2C%20%5B39.645926%2C%20-105.05303799999999%5D%2C%20%5B45.215681%2C%20-93.59181%5D%2C%20%5B38.9002%2C%20-77.03196%5D%2C%20%5B33.72381%2C%20-117.976437%5D%2C%20%5B44.231653%2C%20-121.203627%5D%2C%20%5B33.96411%2C%20-117.32515%5D%2C%20%5B34.128658%2C%20-118.347027%5D%2C%20%5B33.94931%2C%20-118.09065%5D%2C%20%5B35.265587%2C%20-89.658898%5D%2C%20%5B40.793057%2C%20-85.38353000000001%5D%2C%20%5B34.27536%2C%20-118.53558999999998%5D%2C%20%5B35.03915%2C%20-80.80637%5D%2C%20%5B35.276585%2C%20-80.727448%5D%2C%20%5B34.00801%2C%20-117.96824%5D%2C%20%5B37.871990000000004%2C%20-85.3005%5D%2C%20%5B34.098064%2C%20-118.31461999999999%5D%2C%20%5B38.926390000000005%2C%20-76.563666%5D%2C%20%5B43.59373%2C%20-116.36572%5D%2C%20%5B45.52279%2C%20-122.57907%5D%2C%20%5B34.03031%2C%20-117.69814099999999%5D%2C%20%5B36.0352%2C%20-79.794%5D%2C%20%5B33.46282%2C%20-112.21426000000001%5D%2C%20%5B39.767235%2C%20-84.19878%5D%2C%20%5B33.441340000000004%2C%20-111.86548%5D%2C%20%5B34.148565999999995%2C%20-118.086652%5D%2C%20%5B32.85525%2C%20-83.63616999999999%5D%2C%20%5B34.054078000000004%2C%20-118.237857%5D%2C%20%5B35.757979999999996%2C%20-78.61121%5D%2C%20%5B35.0051%2C%20-85.22723%5D%2C%20%5B33.39685%2C%20-117.59383000000001%5D%2C%20%5B39.52754%2C%20-104.86783999999999%5D%2C%20%5B45.35348%2C%20-94.07361%5D%2C%20%5B38.257359%2C%20-119.23754%5D%2C%20%5B37.584371999999995%2C%20-121.873251%5D%2C%20%5B32.681043%2C%20-117.08645600000001%5D%2C%20%5B33.873389%2C%20-118.214368%5D%2C%20%5B25.869222%2C%20-80.234268%5D%2C%20%5B39.973420000000004%2C%20-78.741653%5D%2C%20%5B36.703379999999996%2C%20-119.77078%5D%2C%20%5B33.39853%2C%20-111.89131%5D%2C%20%5B32.637788%2C%20-96.89483299999999%5D%2C%20%5B39.63543%2C%20-104.902188%5D%2C%20%5B43.17539%2C%20-76.2783%5D%2C%20%5B32.723040000000005%2C%20-117.14986999999999%5D%2C%20%5B32.906919%2C%20-96.894774%5D%2C%20%5B38.638102%2C%20-121.20307199999999%5D%2C%20%5B34.06729%2C%20-117.55431999999999%5D%2C%20%5B40.73959%2C%20-74.3694%5D%2C%20%5B42.278040999999995%2C%20-87.870485%5D%2C%20%5B38.468528000000006%2C%20-104.991506%5D%2C%20%5B42.873459999999994%2C%20-78.85785%5D%2C%20%5B27.309901%2C%20-82.497415%5D%2C%20%5B27.430183000000003%2C%20-82.592569%5D%2C%20%5B42.3085%2C%20-87.86253%5D%2C%20%5B33.86694%2C%20-117.72057%5D%2C%20%5B39.849761%2C%20-123.71097900000001%5D%2C%20%5B30.405462%2C%20-97.674973%5D%2C%20%5B42.449079%2C%20-122.10566599999999%5D%2C%20%5B45.18159%2C%20-93.10821999999999%5D%2C%20%5B35.32132%2C%20-80.73403%5D%2C%20%5B28.434929999999998%2C%20-81.40333000000001%5D%2C%20%5B34.01685%2C%20-117.98548999999998%5D%2C%20%5B42.395553%2C%20-122.032628%5D%2C%20%5B33.997558000000005%2C%20-117.367325%5D%2C%20%5B41.95046%2C%20-87.72445%5D%2C%20%5B33.929772%2C%20-118.343865%5D%2C%20%5B33.24719%2C%20-117.1532%5D%2C%20%5B41.79733%2C%20-71.40356%5D%2C%20%5B35.40067%2C%20-80.6992%5D%2C%20%5B41.68202%2C%20-87.77851%5D%2C%20%5B33.742885%2C%20-117.44043700000002%5D%2C%20%5B40.26978%2C%20-77.00056%5D%2C%20%5B26.77255%2C%20-80.09631800000001%5D%2C%20%5B33.806740000000005%2C%20-84.25063%5D%2C%20%5B33.9753%2C%20-117.59103700000001%5D%2C%20%5B37.056359%2C%20-121.016196%5D%2C%20%5B29.703698%2C%20-95.59625%5D%2C%20%5B40.634570000000004%2C%20-111.82101000000002%5D%2C%20%5B42.24152%2C%20-88.00413%5D%2C%20%5B33.792097%2C%20-117.890152%5D%2C%20%5B47.61699%2C%20-122.1892%5D%2C%20%5B38.97683%2C%20-77.17820999999999%5D%2C%20%5B39.056814%2C%20-122.07893%5D%2C%20%5B29.403890000000004%2C%20-98.54899999999999%5D%2C%20%5B38.956671%2C%20-94.527064%5D%2C%20%5B33.53464%2C%20-112.11225%5D%2C%20%5B34.040553%2C%20-118.175729%5D%2C%20%5B47.160639%2C%20-122.43422%5D%2C%20%5B35.29356%2C%20-80.74016999999999%5D%2C%20%5B39.679276%2C%20-75.481205%5D%2C%20%5B34.05835%2C%20-118.45438%5D%2C%20%5B41.25622%2C%20-96.07637%5D%2C%20%5B40.77896%2C%20-73.82677%5D%2C%20%5B41.63762%2C%20-88.01210999999999%5D%2C%20%5B39.71125%2C%20-105.02501000000001%5D%2C%20%5B26.578059999999997%2C%20-80.06947%5D%2C%20%5B25.702455%2C%20-80.332105%5D%2C%20%5B41.8926%2C%20-87.92059%5D%2C%20%5B39.66363%2C%20-86.19622%5D%2C%20%5B30.361779%2C%20-97.685891%5D%2C%20%5B34.618864%2C%20-118.71594099999999%5D%2C%20%5B34.142082%2C%20-118.222862%5D%2C%20%5B33.85653%2C%20-117.9742%5D%2C%20%5B38.54477%2C%20-121.47398999999999%5D%2C%20%5B32.659824%2C%20-86.501413%5D%2C%20%5B41.308909%2C%20-112.02606999999999%5D%2C%20%5B34.135626%2C%20-117.386501%5D%2C%20%5B39.96133%2C%20-86.00496%5D%2C%20%5B41.28863%2C%20-105.52423999999999%5D%2C%20%5B39.033511%2C%20-77.407422%5D%2C%20%5B37.027884%2C%20-76.378701%5D%2C%20%5B45.66029%2C%20-122.5621%5D%2C%20%5B38.244287%2C%20-77.499127%5D%2C%20%5B29.677690000000002%2C%20-95.2697%5D%2C%20%5B45.835457%2C%20-95.31275%5D%2C%20%5B25.926454%2C%20-80.244692%5D%2C%20%5B35.784283%2C%20-78.700186%5D%2C%20%5B34.0273%2C%20-118.45763000000001%5D%2C%20%5B41.809059999999995%2C%20-88.05488000000001%5D%2C%20%5B28.640218%2C%20-81.439438%5D%2C%20%5B45.057666999999995%2C%20-117.941526%5D%2C%20%5B28.421083000000003%2C%20-81.40471%5D%2C%20%5B44.613473%2C%20-121.949743%5D%2C%20%5B30.242625%2C%20-97.611562%5D%2C%20%5B36.041290000000004%2C%20-79.83357%5D%2C%20%5B38.550542%2C%20-121.47405900000001%5D%2C%20%5B40.0223%2C%20-79.08622%5D%2C%20%5B38.64168%2C%20-121.46309%5D%2C%20%5B37.36339%2C%20-121.89656200000002%5D%2C%20%5B33.685959000000004%2C%20-117.86391299999998%5D%2C%20%5B36.84102%2C%20-119.678519%5D%2C%20%5B29.86747%2C%20-95.5639%5D%2C%20%5B33.960128000000005%2C%20-118.281097%5D%2C%20%5B41.244279999999996%2C%20-111.97827%5D%2C%20%5B41.94063%2C%20-88.15043%5D%2C%20%5B44.946870000000004%2C%20-93.0791%5D%2C%20%5B41.83163%2C%20-72.6653%5D%2C%20%5B41.972511%2C%20-123.74261299999999%5D%2C%20%5B33.588004999999995%2C%20-84.38348%5D%2C%20%5B36.14062%2C%20-86.73200000000001%5D%2C%20%5B38.146739000000004%2C%20-121.1784%5D%2C%20%5B35.203815000000006%2C%20-80.72608000000001%5D%2C%20%5B37.478190000000005%2C%20-122.414331%5D%2C%20%5B38.542925%2C%20-121.73193799999999%5D%2C%20%5B43.665642999999996%2C%20-93.649295%5D%2C%20%5B33.94747%2C%20-118.36828999999999%5D%2C%20%5B29.623589000000003%2C%20-98.60919399999999%5D%2C%20%5B38.79473%2C%20-77.144697%5D%2C%20%5B34.033324%2C%20-118.12310500000001%5D%2C%20%5B41.9313%2C%20-88.03209%5D%2C%20%5B34.007493%2C%20-117.96263200000001%5D%2C%20%5B45.126137%2C%20-123.20631999999999%5D%2C%20%5B36.15404%2C%20-86.75744%5D%2C%20%5B40.064840000000004%2C%20-80.6856%5D%2C%20%5B40.71884%2C%20-74.23523%5D%2C%20%5B38.66029%2C%20-121.38141999999999%5D%2C%20%5B24.935760000000002%2C%20-80.6147%5D%2C%20%5B33.49923%2C%20-112.26606000000001%5D%2C%20%5B37.983456%2C%20-122.06625700000001%5D%2C%20%5B41.76918%2C%20-87.6256%5D%2C%20%5B42.46471%2C%20-87.88269%5D%2C%20%5B40.868443%2C%20-74.00338%5D%2C%20%5B25.747537%2C%20-80.337062%5D%2C%20%5B28.043570000000003%2C%20-82.67759000000001%5D%2C%20%5B34.656618%2C%20-118.15314099999999%5D%2C%20%5B38.235495%2C%20-85.751533%5D%2C%20%5B39.12742%2C%20-104.86408%5D%2C%20%5B42.621396999999995%2C%20-123.38280400000001%5D%2C%20%5B44.89124%2C%20-93.18469%5D%2C%20%5B42.935759999999995%2C%20-86.15655%5D%2C%20%5B32.93495%2C%20-96.75236%5D%2C%20%5B33.266867%2C%20-111.652065%5D%2C%20%5B38.787177%2C%20-120.205868%5D%2C%20%5B34.031664%2C%20-118.42666200000001%5D%2C%20%5B45.384640999999995%2C%20-122.57923000000001%5D%2C%20%5B25.890445%2C%20-80.18243299999999%5D%2C%20%5B40.2019%2C%20-75.51266899999999%5D%2C%20%5B37.36274%2C%20-121.88781000000002%5D%2C%20%5B39.13114%2C%20-119.77022%5D%2C%20%5B36.014502%2C%20-86.619698%5D%2C%20%5B47.87744%2C%20-122.2397%5D%2C%20%5B32.704229999999995%2C%20-117.14697%5D%2C%20%5B30.1194%2C%20-82.65693%5D%2C%20%5B33.42293%2C%20-117.60812%5D%2C%20%5B40.748878999999995%2C%20-73.13849%5D%2C%20%5B33.464002%2C%20-117.257962%5D%2C%20%5B30.489721999999997%2C%20-87.28105699999999%5D%2C%20%5B44.414446000000005%2C%20-122.032802%5D%2C%20%5B34.06358%2C%20-117.8176%5D%2C%20%5B42.86983%2C%20-85.70383000000001%5D%2C%20%5B37.288233%2C%20-120.48744099999999%5D%2C%20%5B33.875975%2C%20-118.159971%5D%2C%20%5B40.061893%2C%20-75.136788%5D%2C%20%5B37.627371000000004%2C%20-122.08124299999999%5D%2C%20%5B38.55335%2C%20-121.43661999999999%5D%2C%20%5B37.881746%2C%20-122.307966%5D%2C%20%5B39.100705%2C%20-84.50429100000001%5D%2C%20%5B37.59685%2C%20-120.96278999999998%5D%2C%20%5B40.091434%2C%20-75.22135300000001%5D%2C%20%5B39.699791%2C%20-104.985717%5D%2C%20%5B33.789833%2C%20-118.207746%5D%2C%20%5B33.922016%2C%20-118.16696599999999%5D%2C%20%5B41.010690999999994%2C%20-96.216356%5D%2C%20%5B34.035921%2C%20-118.09291699999999%5D%2C%20%5B43.001909999999995%2C%20-83.78263000000001%5D%2C%20%5B33.762274%2C%20-78.97151%5D%2C%20%5B33.00385%2C%20-96.70051%5D%2C%20%5B29.738311%2C%20-95.484374%5D%2C%20%5B32.90153%2C%20-96.8979%5D%2C%20%5B37.754488%2C%20-122.40315%5D%2C%20%5B38.827727%2C%20-120.964868%5D%2C%20%5B34.024582%2C%20-118.193696%5D%2C%20%5B25.73225%2C%20-80.375721%5D%2C%20%5B32.836909999999996%2C%20-96.99656999999999%5D%2C%20%5B44.196471%2C%20-93.254913%5D%2C%20%5B36.072136%2C%20-94.203023%5D%2C%20%5B40.610659999999996%2C%20-74.03171999999999%5D%2C%20%5B33.742364%2C%20-84.391439%5D%2C%20%5B33.872534%2C%20-117.665006%5D%2C%20%5B45.035823%2C%20-92.852743%5D%2C%20%5B33.619640000000004%2C%20-112.11651%5D%2C%20%5B32.885201%2C%20-96.69907099999999%5D%2C%20%5B30.080346000000002%2C%20-89.919538%5D%2C%20%5B42.35942%2C%20-87.87419%5D%2C%20%5B34.03004%2C%20-117.70732%5D%2C%20%5B32.9775%2C%20-117.09021100000001%5D%2C%20%5B25.845785%2C%20-80.25195%5D%2C%20%5B37.881746%2C%20-122.307966%5D%2C%20%5B42.684228999999995%2C%20-83.244289%5D%2C%20%5B37.144279%2C%20-113.25384%5D%2C%20%5B37.51732%2C%20-77.35011999999999%5D%2C%20%5B29.74216%2C%20-95.35743000000001%5D%2C%20%5B33.9512%2C%20-80.98607%5D%2C%20%5B36.89434%2C%20-76.15906%5D%2C%20%5B39.956509999999994%2C%20-75.18047%5D%2C%20%5B47.6017%2C%20-122.314917%5D%2C%20%5B34.067515%2C%20-117.554566%5D%2C%20%5B34.373191999999996%2C%20-117.67669199999999%5D%2C%20%5B42.19729%2C%20-87.98959%5D%2C%20%5B35.231390000000005%2C%20-80.97039000000001%5D%2C%20%5B35.62355%2C%20-97.5853%5D%2C%20%5B33.894315%2C%20-117.55749499999999%5D%2C%20%5B42.24794%2C%20-73.88699%5D%2C%20%5B43.478701%2C%20-92.34152399999999%5D%2C%20%5B37.010290000000005%2C%20-119.793877%5D%2C%20%5B39.2653%2C%20-84.43965%5D%2C%20%5B37.907396999999996%2C%20-122.06883300000001%5D%2C%20%5B27.488091999999998%2C%20-82.562804%5D%2C%20%5B35.19185%2C%20-80.77020999999999%5D%2C%20%5B33.48592%2C%20-117.66601999999999%5D%2C%20%5B45.635259999999995%2C%20-123.10853999999999%5D%2C%20%5B25.972425%2C%20-80.214864%5D%2C%20%5B36.326133%2C%20-119.13489399999999%5D%2C%20%5B40.650690000000004%2C%20-74.759098%5D%2C%20%5B33.96882%2C%20-117.32876999999999%5D%2C%20%5B33.202155%2C%20-87.565152%5D%2C%20%5B40.710087%2C%20-111.95338100000001%5D%2C%20%5B32.751999999999995%2C%20-97.02908000000001%5D%2C%20%5B40.49781%2C%20-111.891%5D%2C%20%5B34.702746999999995%2C%20-87.647278%5D%2C%20%5B40.690584%2C%20-75.24871%5D%2C%20%5B39.11947%2C%20-94.68061%5D%2C%20%5B35.1091%2C%20-106.58628999999999%5D%2C%20%5B34.06794%2C%20-118.02753%5D%2C%20%5B45.15465%2C%20-122.89612%5D%2C%20%5B32.899615999999995%2C%20-96.788163%5D%2C%20%5B37.432732%2C%20-121.012046%5D%2C%20%5B35.13019%2C%20-106.61373%5D%2C%20%5B33.870388%2C%20-117.743664%5D%2C%20%5B39.305129%2C%20-121.67263500000001%5D%2C%20%5B45.10425%2C%20-93.46124%5D%2C%20%5B41.46926%2C%20-86.49515%5D%2C%20%5B45.422549%2C%20-122.63343%5D%2C%20%5B30.268521000000003%2C%20-84.25859200000001%5D%2C%20%5B26.330538%2C%20-81.807037%5D%2C%20%5B43.190377000000005%2C%20-77.504199%5D%2C%20%5B45.130752%2C%20-121.59735500000001%5D%2C%20%5B39.943259999999995%2C%20-83.01203000000001%5D%2C%20%5B41.05769%2C%20-81.56754000000001%5D%2C%20%5B37.25186%2C%20-121.95839%5D%2C%20%5B35.115201%2C%20-80.962347%5D%2C%20%5B46.035571999999995%2C%20-94.333462%5D%2C%20%5B39.67212%2C%20-76.40945%5D%2C%20%5B37.619544%2C%20-120.994325%5D%2C%20%5B39.563195%2C%20-104.95998999999999%5D%2C%20%5B25.819809%2C%20-80.23057%5D%2C%20%5B43.439221999999994%2C%20-123.315321%5D%2C%20%5B34.016107%2C%20-84.56890200000001%5D%2C%20%5B41.824166999999996%2C%20-87.92573900000001%5D%2C%20%5B32.998914%2C%20-96.82469300000001%5D%2C%20%5B32.278309%2C%20-90.157622%5D%2C%20%5B41.87619%2C%20-87.65703%5D%2C%20%5B33.93525%2C%20-118.016796%5D%2C%20%5B40.531890000000004%2C%20-76.42981%5D%2C%20%5B39.118306%2C%20-122.88604099999999%5D%2C%20%5B33.771021000000005%2C%20-117.992081%5D%2C%20%5B41.368165999999995%2C%20-122.37046299999999%5D%2C%20%5B30.448990000000002%2C%20-91.01711800000001%5D%2C%20%5B36.940538000000004%2C%20-121.424875%5D%2C%20%5B41.798840000000006%2C%20-88.27512%5D%2C%20%5B37.996029%2C%20-122.33095700000001%5D%2C%20%5B39.41387%2C%20-76.608191%5D%2C%20%5B43.775936%2C%20-95.175086%5D%2C%20%5B34.311844%2C%20-117.474694%5D%2C%20%5B38.948240000000006%2C%20-104.80311%5D%2C%20%5B38.14519%2C%20-85.55194%5D%2C%20%5B28.421359999999996%2C%20-81.40471%5D%5D%2C%0A%20%20%20%20%20%20%20%20%20%20%20%20%20%20%20%20%7B%0A%20%20%20%20%20%20%20%20%20%20%20%20%20%20%20%20%20%20%20%20minOpacity%3A%200.5%2C%0A%20%20%20%20%20%20%20%20%20%20%20%20%20%20%20%20%20%20%20%20maxZoom%3A%2018%2C%0A%20%20%20%20%20%20%20%20%20%20%20%20%20%20%20%20%20%20%20%20max%3A%201.0%2C%0A%20%20%20%20%20%20%20%20%20%20%20%20%20%20%20%20%20%20%20%20radius%3A%2025%2C%0A%20%20%20%20%20%20%20%20%20%20%20%20%20%20%20%20%20%20%20%20blur%3A%2015%2C%0A%20%20%20%20%20%20%20%20%20%20%20%20%20%20%20%20%20%20%20%20gradient%3A%20null%0A%20%20%20%20%20%20%20%20%20%20%20%20%20%20%20%20%20%20%20%20%7D%29%0A%20%20%20%20%20%20%20%20%20%20%20%20%20%20%20%20.addTo%28map_d446556f25f24a6399b250dad6f4de95%29%3B%0A%20%20%20%20%20%20%20%20%0A%3C/script%3E onload=\"this.contentDocument.open();this.contentDocument.write(    decodeURIComponent(this.getAttribute('data-html')));this.contentDocument.close();\" allowfullscreen webkitallowfullscreen mozallowfullscreen></iframe></div></div>"
            ],
            "text/plain": [
              "<folium.folium.Map at 0x7fc68c577e10>"
            ]
          },
          "metadata": {},
          "execution_count": 194
        }
      ]
    },
    {
      "cell_type": "code",
      "source": [
        ""
      ],
      "metadata": {
        "id": "tqR_WqbSECWO"
      },
      "execution_count": null,
      "outputs": []
    },
    {
      "cell_type": "markdown",
      "source": [
        "# Ask and Answer questions\n",
        "1. When we look at the temperature some of the accidents are in warmer area(mean) and some are in colder area(min)\n",
        "2. Which 5 states has the highest number of accidents?\n",
        "3. How about the population of states?\n",
        "4. Why New York city does'nt show up in the data? if yes why it is not at the top being the most populated city in US\n",
        "5. Among top 100 accidents happening cities to which state they belong to?\n",
        "6. What time of the day does most accidents taking place?\n",
        "7. Which day of the week has more accidents?\n",
        "8. Which month is having more number of accidents?\n",
        "9. What is trend of the accidents over years(Is it increasing or decreasing)?\n",
        "10. When is accidents per unit of traffic is highest?"
      ],
      "metadata": {
        "id": "WawUovyIFBNm"
      }
    },
    {
      "cell_type": "markdown",
      "source": [
        "# Summary and Conclusion\n",
        "- No data for the New York city\n",
        "- The above graph shows a lot of cities have 0 accidents which seems wrong may be it could indicate missing data\n",
        "- less than 2% of cities has more than 1000 yearly accidents\n",
        "- over 1k cities have reported just 1 accident (need to investigate)\n",
        "- over 4.5k cities have reported less than 10 accidents\n",
        "- A high percentage of the accidents occur in weekdays between 5pm and 8pm (probably people are in hurry to get home after work) Next highest percentage of the accidents is between 5am and 10 am.\n"
      ],
      "metadata": {
        "id": "js_83HMZTHu6"
      }
    }
  ],
  "metadata": {
    "kernelspec": {
      "display_name": "Python 3",
      "language": "python",
      "name": "python3"
    },
    "language_info": {
      "codemirror_mode": {
        "name": "ipython",
        "version": 3
      },
      "file_extension": ".py",
      "mimetype": "text/x-python",
      "name": "python",
      "nbconvert_exporter": "python",
      "pygments_lexer": "ipython3",
      "version": "3.7.6"
    },
    "colab": {
      "name": "us-accident-exploratory-data-analysis.ipynb",
      "provenance": [],
      "include_colab_link": true
    }
  },
  "nbformat": 4,
  "nbformat_minor": 0
}